{
  "nbformat": 4,
  "nbformat_minor": 0,
  "metadata": {
    "colab": {
      "name": "bangla_news_classification.ipynb",
      "provenance": [],
      "collapsed_sections": []
    },
    "kernelspec": {
      "name": "python3",
      "display_name": "Python 3"
    },
    "language_info": {
      "name": "python"
    },
    "accelerator": "GPU",
    "widgets": {
      "application/vnd.jupyter.widget-state+json": {
        "fccb5913e95c47f9a2f2b8f503b6c93e": {
          "model_module": "@jupyter-widgets/controls",
          "model_name": "HBoxModel",
          "model_module_version": "1.5.0",
          "state": {
            "_view_name": "HBoxView",
            "_dom_classes": [],
            "_model_name": "HBoxModel",
            "_view_module": "@jupyter-widgets/controls",
            "_model_module_version": "1.5.0",
            "_view_count": null,
            "_view_module_version": "1.5.0",
            "box_style": "",
            "layout": "IPY_MODEL_f64686e1cffe494bab4f28d4e9f8377f",
            "_model_module": "@jupyter-widgets/controls",
            "children": [
              "IPY_MODEL_fc28c3fd4d0f49399e9e4fb257d3792c",
              "IPY_MODEL_d52b39b084a64fff9e4d5aea0976fb22",
              "IPY_MODEL_9509ec793e49409c9ecf82952f4e55e5"
            ]
          }
        },
        "f64686e1cffe494bab4f28d4e9f8377f": {
          "model_module": "@jupyter-widgets/base",
          "model_name": "LayoutModel",
          "model_module_version": "1.2.0",
          "state": {
            "_view_name": "LayoutView",
            "grid_template_rows": null,
            "right": null,
            "justify_content": null,
            "_view_module": "@jupyter-widgets/base",
            "overflow": null,
            "_model_module_version": "1.2.0",
            "_view_count": null,
            "flex_flow": null,
            "width": null,
            "min_width": null,
            "border": null,
            "align_items": null,
            "bottom": null,
            "_model_module": "@jupyter-widgets/base",
            "top": null,
            "grid_column": null,
            "overflow_y": null,
            "overflow_x": null,
            "grid_auto_flow": null,
            "grid_area": null,
            "grid_template_columns": null,
            "flex": null,
            "_model_name": "LayoutModel",
            "justify_items": null,
            "grid_row": null,
            "max_height": null,
            "align_content": null,
            "visibility": null,
            "align_self": null,
            "height": null,
            "min_height": null,
            "padding": null,
            "grid_auto_rows": null,
            "grid_gap": null,
            "max_width": null,
            "order": null,
            "_view_module_version": "1.2.0",
            "grid_template_areas": null,
            "object_position": null,
            "object_fit": null,
            "grid_auto_columns": null,
            "margin": null,
            "display": null,
            "left": null
          }
        },
        "fc28c3fd4d0f49399e9e4fb257d3792c": {
          "model_module": "@jupyter-widgets/controls",
          "model_name": "HTMLModel",
          "model_module_version": "1.5.0",
          "state": {
            "_view_name": "HTMLView",
            "style": "IPY_MODEL_ff89d5cbd5214d538628bd6c4fc2d6b1",
            "_dom_classes": [],
            "description": "",
            "_model_name": "HTMLModel",
            "placeholder": "​",
            "_view_module": "@jupyter-widgets/controls",
            "_model_module_version": "1.5.0",
            "value": "100%",
            "_view_count": null,
            "_view_module_version": "1.5.0",
            "description_tooltip": null,
            "_model_module": "@jupyter-widgets/controls",
            "layout": "IPY_MODEL_3bd511ee082d49b398f8219b72240b74"
          }
        },
        "d52b39b084a64fff9e4d5aea0976fb22": {
          "model_module": "@jupyter-widgets/controls",
          "model_name": "FloatProgressModel",
          "model_module_version": "1.5.0",
          "state": {
            "_view_name": "ProgressView",
            "style": "IPY_MODEL_ec463862c6bc482a9cce72a9f9d2edb0",
            "_dom_classes": [],
            "description": "",
            "_model_name": "FloatProgressModel",
            "bar_style": "success",
            "max": 175967,
            "_view_module": "@jupyter-widgets/controls",
            "_model_module_version": "1.5.0",
            "value": 175967,
            "_view_count": null,
            "_view_module_version": "1.5.0",
            "orientation": "horizontal",
            "min": 0,
            "description_tooltip": null,
            "_model_module": "@jupyter-widgets/controls",
            "layout": "IPY_MODEL_1a4ba92d211f41a686679cb7be782518"
          }
        },
        "9509ec793e49409c9ecf82952f4e55e5": {
          "model_module": "@jupyter-widgets/controls",
          "model_name": "HTMLModel",
          "model_module_version": "1.5.0",
          "state": {
            "_view_name": "HTMLView",
            "style": "IPY_MODEL_bcf6657d3f794eb5a682b5e8b4d55cb3",
            "_dom_classes": [],
            "description": "",
            "_model_name": "HTMLModel",
            "placeholder": "​",
            "_view_module": "@jupyter-widgets/controls",
            "_model_module_version": "1.5.0",
            "value": " 175967/175967 [00:10&lt;00:00, 15411.67it/s]",
            "_view_count": null,
            "_view_module_version": "1.5.0",
            "description_tooltip": null,
            "_model_module": "@jupyter-widgets/controls",
            "layout": "IPY_MODEL_7ecb950d0842492faadd2e761bcdb284"
          }
        },
        "ff89d5cbd5214d538628bd6c4fc2d6b1": {
          "model_module": "@jupyter-widgets/controls",
          "model_name": "DescriptionStyleModel",
          "model_module_version": "1.5.0",
          "state": {
            "_view_name": "StyleView",
            "_model_name": "DescriptionStyleModel",
            "description_width": "",
            "_view_module": "@jupyter-widgets/base",
            "_model_module_version": "1.5.0",
            "_view_count": null,
            "_view_module_version": "1.2.0",
            "_model_module": "@jupyter-widgets/controls"
          }
        },
        "3bd511ee082d49b398f8219b72240b74": {
          "model_module": "@jupyter-widgets/base",
          "model_name": "LayoutModel",
          "model_module_version": "1.2.0",
          "state": {
            "_view_name": "LayoutView",
            "grid_template_rows": null,
            "right": null,
            "justify_content": null,
            "_view_module": "@jupyter-widgets/base",
            "overflow": null,
            "_model_module_version": "1.2.0",
            "_view_count": null,
            "flex_flow": null,
            "width": null,
            "min_width": null,
            "border": null,
            "align_items": null,
            "bottom": null,
            "_model_module": "@jupyter-widgets/base",
            "top": null,
            "grid_column": null,
            "overflow_y": null,
            "overflow_x": null,
            "grid_auto_flow": null,
            "grid_area": null,
            "grid_template_columns": null,
            "flex": null,
            "_model_name": "LayoutModel",
            "justify_items": null,
            "grid_row": null,
            "max_height": null,
            "align_content": null,
            "visibility": null,
            "align_self": null,
            "height": null,
            "min_height": null,
            "padding": null,
            "grid_auto_rows": null,
            "grid_gap": null,
            "max_width": null,
            "order": null,
            "_view_module_version": "1.2.0",
            "grid_template_areas": null,
            "object_position": null,
            "object_fit": null,
            "grid_auto_columns": null,
            "margin": null,
            "display": null,
            "left": null
          }
        },
        "ec463862c6bc482a9cce72a9f9d2edb0": {
          "model_module": "@jupyter-widgets/controls",
          "model_name": "ProgressStyleModel",
          "model_module_version": "1.5.0",
          "state": {
            "_view_name": "StyleView",
            "_model_name": "ProgressStyleModel",
            "description_width": "",
            "_view_module": "@jupyter-widgets/base",
            "_model_module_version": "1.5.0",
            "_view_count": null,
            "_view_module_version": "1.2.0",
            "bar_color": null,
            "_model_module": "@jupyter-widgets/controls"
          }
        },
        "1a4ba92d211f41a686679cb7be782518": {
          "model_module": "@jupyter-widgets/base",
          "model_name": "LayoutModel",
          "model_module_version": "1.2.0",
          "state": {
            "_view_name": "LayoutView",
            "grid_template_rows": null,
            "right": null,
            "justify_content": null,
            "_view_module": "@jupyter-widgets/base",
            "overflow": null,
            "_model_module_version": "1.2.0",
            "_view_count": null,
            "flex_flow": null,
            "width": null,
            "min_width": null,
            "border": null,
            "align_items": null,
            "bottom": null,
            "_model_module": "@jupyter-widgets/base",
            "top": null,
            "grid_column": null,
            "overflow_y": null,
            "overflow_x": null,
            "grid_auto_flow": null,
            "grid_area": null,
            "grid_template_columns": null,
            "flex": null,
            "_model_name": "LayoutModel",
            "justify_items": null,
            "grid_row": null,
            "max_height": null,
            "align_content": null,
            "visibility": null,
            "align_self": null,
            "height": null,
            "min_height": null,
            "padding": null,
            "grid_auto_rows": null,
            "grid_gap": null,
            "max_width": null,
            "order": null,
            "_view_module_version": "1.2.0",
            "grid_template_areas": null,
            "object_position": null,
            "object_fit": null,
            "grid_auto_columns": null,
            "margin": null,
            "display": null,
            "left": null
          }
        },
        "bcf6657d3f794eb5a682b5e8b4d55cb3": {
          "model_module": "@jupyter-widgets/controls",
          "model_name": "DescriptionStyleModel",
          "model_module_version": "1.5.0",
          "state": {
            "_view_name": "StyleView",
            "_model_name": "DescriptionStyleModel",
            "description_width": "",
            "_view_module": "@jupyter-widgets/base",
            "_model_module_version": "1.5.0",
            "_view_count": null,
            "_view_module_version": "1.2.0",
            "_model_module": "@jupyter-widgets/controls"
          }
        },
        "7ecb950d0842492faadd2e761bcdb284": {
          "model_module": "@jupyter-widgets/base",
          "model_name": "LayoutModel",
          "model_module_version": "1.2.0",
          "state": {
            "_view_name": "LayoutView",
            "grid_template_rows": null,
            "right": null,
            "justify_content": null,
            "_view_module": "@jupyter-widgets/base",
            "overflow": null,
            "_model_module_version": "1.2.0",
            "_view_count": null,
            "flex_flow": null,
            "width": null,
            "min_width": null,
            "border": null,
            "align_items": null,
            "bottom": null,
            "_model_module": "@jupyter-widgets/base",
            "top": null,
            "grid_column": null,
            "overflow_y": null,
            "overflow_x": null,
            "grid_auto_flow": null,
            "grid_area": null,
            "grid_template_columns": null,
            "flex": null,
            "_model_name": "LayoutModel",
            "justify_items": null,
            "grid_row": null,
            "max_height": null,
            "align_content": null,
            "visibility": null,
            "align_self": null,
            "height": null,
            "min_height": null,
            "padding": null,
            "grid_auto_rows": null,
            "grid_gap": null,
            "max_width": null,
            "order": null,
            "_view_module_version": "1.2.0",
            "grid_template_areas": null,
            "object_position": null,
            "object_fit": null,
            "grid_auto_columns": null,
            "margin": null,
            "display": null,
            "left": null
          }
        }
      }
    }
  },
  "cells": [
    {
      "cell_type": "markdown",
      "source": [
        "## GPU check"
      ],
      "metadata": {
        "id": "rQvuNjlMnKm6"
      }
    },
    {
      "cell_type": "code",
      "execution_count": 1,
      "metadata": {
        "colab": {
          "base_uri": "https://localhost:8080/"
        },
        "id": "E_sQ7WOzxyOd",
        "outputId": "933b4046-9eda-4aef-f6c0-778bd46cc6d4"
      },
      "outputs": [
        {
          "output_type": "stream",
          "name": "stdout",
          "text": [
            "GPU 0: Tesla K80 (UUID: GPU-c26394b1-2229-0dd4-7b64-c1867c79ca8e)\n"
          ]
        }
      ],
      "source": [
        "!nvidia-smi -L\n"
      ]
    },
    {
      "cell_type": "code",
      "source": [
        "import tensorflow as tf \n",
        "\n",
        "if tf.test.gpu_device_name(): \n",
        "\n",
        "    print('Default GPU Device:{}'.format(tf.test.gpu_device_name()))\n",
        "\n",
        "else:\n",
        "\n",
        "   print(\"enable gpu from runtime\")"
      ],
      "metadata": {
        "colab": {
          "base_uri": "https://localhost:8080/"
        },
        "id": "qEJCsmB-08sB",
        "outputId": "9dae360b-1812-4910-df76-6e98370e959c"
      },
      "execution_count": 2,
      "outputs": [
        {
          "output_type": "stream",
          "name": "stdout",
          "text": [
            "Default GPU Device:/device:GPU:0\n"
          ]
        }
      ]
    },
    {
      "cell_type": "markdown",
      "source": [
        "## mounting gdrive "
      ],
      "metadata": {
        "id": "GOaBnsaNnZ2w"
      }
    },
    {
      "cell_type": "code",
      "source": [
        "from google.colab import drive\n",
        "drive.mount('/content/drive')"
      ],
      "metadata": {
        "colab": {
          "base_uri": "https://localhost:8080/"
        },
        "id": "l_Go_lw82ut1",
        "outputId": "1697bb46-cc27-4baf-94c0-6426f756d217"
      },
      "execution_count": 2,
      "outputs": [
        {
          "output_type": "stream",
          "name": "stdout",
          "text": [
            "Mounted at /content/drive\n"
          ]
        }
      ]
    },
    {
      "cell_type": "markdown",
      "source": [
        "## Load dataset from kaggle"
      ],
      "metadata": {
        "id": "p2NEtZtLnk5M"
      }
    },
    {
      "cell_type": "code",
      "source": [
        "!pip install opendatasets --upgrade --quiet"
      ],
      "metadata": {
        "id": "kO4s_QWix7sK"
      },
      "execution_count": 4,
      "outputs": []
    },
    {
      "cell_type": "code",
      "source": [
        "dataset_url = \"https://www.kaggle.com/furcifer/bangla-newspaper-dataset?select=data_v2\"\n",
        "import opendatasets as od\n",
        "\n",
        "od.download(dataset_url)"
      ],
      "metadata": {
        "colab": {
          "base_uri": "https://localhost:8080/"
        },
        "id": "VUpXYHDMya2j",
        "outputId": "e4d41d38-8c5b-44ef-e0e7-c725ab6692de"
      },
      "execution_count": 5,
      "outputs": [
        {
          "output_type": "stream",
          "name": "stdout",
          "text": [
            "Skipping, found downloaded files in \"./bangla-newspaper-dataset\" (use force=True to force download)\n"
          ]
        }
      ]
    },
    {
      "cell_type": "markdown",
      "source": [
        "## Loading data from json file "
      ],
      "metadata": {
        "id": "iuiKasOxpbW0"
      }
    },
    {
      "cell_type": "code",
      "source": [
        "import json \n",
        "\n",
        "\n",
        "with open(\"bangla-newspaper-dataset/data_v2/data_v2.json\", encoding = \"utf-8\") as dt:\n",
        "  data = json.load(dt) "
      ],
      "metadata": {
        "id": "xGK5Ohvp0y1A"
      },
      "execution_count": 6,
      "outputs": []
    },
    {
      "cell_type": "markdown",
      "source": [
        "## Data Analysis"
      ],
      "metadata": {
        "id": "LYOgjU9Pp-Mh"
      }
    },
    {
      "cell_type": "code",
      "source": [
        "type(data[0])"
      ],
      "metadata": {
        "id": "OaF6NaLCOvCq",
        "colab": {
          "base_uri": "https://localhost:8080/"
        },
        "outputId": "c292bb8b-7b39-4889-9617-bc344477e18d"
      },
      "execution_count": 7,
      "outputs": [
        {
          "output_type": "execute_result",
          "data": {
            "text/plain": [
              "dict"
            ]
          },
          "metadata": {},
          "execution_count": 7
        }
      ]
    },
    {
      "cell_type": "code",
      "source": [
        "len(data)"
      ],
      "metadata": {
        "id": "HiuAzvlR_25I",
        "colab": {
          "base_uri": "https://localhost:8080/"
        },
        "outputId": "5caae5ad-5372-4d15-a8d4-538dc38520c9"
      },
      "execution_count": 8,
      "outputs": [
        {
          "output_type": "execute_result",
          "data": {
            "text/plain": [
              "408471"
            ]
          },
          "metadata": {},
          "execution_count": 8
        }
      ]
    },
    {
      "cell_type": "code",
      "source": [
        "data[0].keys()"
      ],
      "metadata": {
        "id": "j8kA2O0p_-5I",
        "colab": {
          "base_uri": "https://localhost:8080/"
        },
        "outputId": "82432400-7a0f-47cf-db0e-fb39298741f9"
      },
      "execution_count": 9,
      "outputs": [
        {
          "output_type": "execute_result",
          "data": {
            "text/plain": [
              "dict_keys(['author', 'category', 'category_bn', 'published_date', 'modification_date', 'tag', 'comment_count', 'title', 'url', 'content'])"
            ]
          },
          "metadata": {},
          "execution_count": 9
        }
      ]
    },
    {
      "cell_type": "code",
      "source": [
        "data[0]"
      ],
      "metadata": {
        "id": "THmv3Izd_40u",
        "colab": {
          "base_uri": "https://localhost:8080/"
        },
        "outputId": "c2961220-b02e-4b49-e7fd-e6cc22aea3ac"
      },
      "execution_count": 10,
      "outputs": [
        {
          "output_type": "execute_result",
          "data": {
            "text/plain": [
              "{'author': 'গাজীপুর প্রতিনিধি',\n",
              " 'category': 'bangladesh',\n",
              " 'category_bn': 'বাংলাদেশ',\n",
              " 'comment_count': 0,\n",
              " 'content': 'গাজীপুরের কালিয়াকৈর উপজেলার তেলিরচালা এলাকায় আজ বৃহস্পতিবার রাতের টিফিন খেয়ে একটি পোশাক কারখানার ৫০০ শ্রমিক অসুস্থ হয়ে পড়েছেন। এ ঘটনায় বিক্ষোভ করেছেন ওই কারখানার শ্রমিকেরা।সফিপুর মডার্ন হাসপাতালের জরুরি বিভাগের চিকিত্সক আল আমিন প্রথম আলো ডটকমকে বলেন, খাদ্যে বিষক্রিয়ায় তাঁরা (শ্রমিকেরা) অসুস্থ হয়ে পড়েছেন। এতে আতঙ্কিত হওয়ার কিছু নেই। অসুস্থদের চিকিত্সা দেওয়া হয়েছে।কারখানার শ্রমিক ও পুলিশ সূত্রে জানা যায়, উপজেলার তেলিরচালা এলাকার সেজাদ সোয়েটার লিমিটেড কারখানার শ্রমিকদের আজ রাত সাড়ে সাতটার দিকে টিফিন দেওয়া হয়। টিফিনে ছিল ডিম, রুটি, পেটিস ও কলা। টিফিন খেয়ে শ্রমিকেরা যথারীতি কাজে যোগ দেন। ওই টিফিন খাওয়ার প্রায় এক ঘণ্টা পর রাত সাড়ে আটটার দিকে কয়েকজন শ্রমিকের বমি ও পেট ব্যথা শুরু হয়। এরপর ধীরে ধীরে পুরো কারখানার শ্রমিকেরা অসুস্থ হতে থাকে। অনেকেই কারখানার মেঝেতে ঢলে পড়ে। এতে পাঁচ শতাধিক শ্রমিক অসুস্থ হয়ে পড়ে।পরে কারখানা কর্তৃপক্ষ দ্রুত যানবাহনের ব্যবস্থা করে তাদের সফিপুর জেনারেল হাসপাতাল, সফিপুর মডার্ন হাসপাতাল, উপজেলা স্বাস্থ্য কমপ্লেক্সসহ বিভিন্ন ক্লিনিকে ভর্তি করে। বাসি পচা খাবার দেওয়ায় শ্রমিকরা ক্ষুব্ধ হয়ে কারখানার সামনে বিক্ষোভ করে। খবর পেয়ে পুলিশ গিয়ে শ্রমিকদের বুঝিয়ে ও খাবার সরবরাহ প্রতিষ্ঠানের বিরুদ্ধে ব্যবস্থা নেওয়ার আশ্বাস দিলে শ্রমিকেরা শান্ত হয়।সফিপুর জেনারেল হাসপাতালে ভর্তি শ্রমিক জাকির হোসেন ও আসমা আক্তার বলেন, টিফিন খাওয়ার সময় ডিম ও কেক থেকে দুর্গন্ধ বের হচ্ছিল। এ কারণে অনেকেই ওই খাবার খায়নি। তবে বেশির ভাগ শ্রমিকই ওই খাবার খেয়েছে।কারখানার সহকারী উত্পাদন কর্মকর্তা (এপিএম) বছির উদ্দিন বলেন, টিফিনগুলি যে ঠিকাদারি প্রতিষ্ঠান কারখানায় সরবরাহ করে তাদের বিরুদ্ধে ব্যবস্থা নেওয়া হবে।মৌচাক পুলিশ ফাঁড়ির উপ-পরিদর্শক (এসআই) সৈয়দ আজহারুল ইসলাম প্রথম আলো ডটকমকে বলেন, শ্রমিকদের বুঝিয়ে শান্ত করা হয়েছে। এ ছাড়া কারখানা কর্তৃপক্ষকে খাদ্য সরবরাহ প্রতিষ্ঠানের বিরুদ্ধে ব্যবস্থা নিতে বলা হয়েছে।',\n",
              " 'modification_date': '০৪ জুলাই ২০১৩, ২৩:২৭',\n",
              " 'published_date': '০৪ জুলাই ২০১৩, ২৩:২৬',\n",
              " 'tag': ['গাজীপুর'],\n",
              " 'title': 'কালিয়াকৈরে টিফিন খেয়ে ৫০০ শ্রমিক অসুস্থ, বিক্ষোভ',\n",
              " 'url': 'http://www.prothom-alo.com/bangladesh/article/19030'}"
            ]
          },
          "metadata": {},
          "execution_count": 10
        }
      ]
    },
    {
      "cell_type": "code",
      "source": [
        "data[0]['content']"
      ],
      "metadata": {
        "id": "uJG1AeQsBkLe",
        "colab": {
          "base_uri": "https://localhost:8080/",
          "height": 122
        },
        "outputId": "2c684a43-d9bb-4b0d-b7fe-d6e5375fdc24"
      },
      "execution_count": 11,
      "outputs": [
        {
          "output_type": "execute_result",
          "data": {
            "application/vnd.google.colaboratory.intrinsic+json": {
              "type": "string"
            },
            "text/plain": [
              "'গাজীপুরের কালিয়াকৈর উপজেলার তেলিরচালা এলাকায় আজ বৃহস্পতিবার রাতের টিফিন খেয়ে একটি পোশাক কারখানার ৫০০ শ্রমিক অসুস্থ হয়ে পড়েছেন। এ ঘটনায় বিক্ষোভ করেছেন ওই কারখানার শ্রমিকেরা।সফিপুর মডার্ন হাসপাতালের জরুরি বিভাগের চিকিত্সক আল আমিন প্রথম আলো ডটকমকে বলেন, খাদ্যে বিষক্রিয়ায় তাঁরা (শ্রমিকেরা) অসুস্থ হয়ে পড়েছেন। এতে আতঙ্কিত হওয়ার কিছু নেই। অসুস্থদের চিকিত্সা দেওয়া হয়েছে।কারখানার শ্রমিক ও পুলিশ সূত্রে জানা যায়, উপজেলার তেলিরচালা এলাকার সেজাদ সোয়েটার লিমিটেড কারখানার শ্রমিকদের আজ রাত সাড়ে সাতটার দিকে টিফিন দেওয়া হয়। টিফিনে ছিল ডিম, রুটি, পেটিস ও কলা। টিফিন খেয়ে শ্রমিকেরা যথারীতি কাজে যোগ দেন। ওই টিফিন খাওয়ার প্রায় এক ঘণ্টা পর রাত সাড়ে আটটার দিকে কয়েকজন শ্রমিকের বমি ও পেট ব্যথা শুরু হয়। এরপর ধীরে ধীরে পুরো কারখানার শ্রমিকেরা অসুস্থ হতে থাকে। অনেকেই কারখানার মেঝেতে ঢলে পড়ে। এতে পাঁচ শতাধিক শ্রমিক অসুস্থ হয়ে পড়ে।পরে কারখানা কর্তৃপক্ষ দ্রুত যানবাহনের ব্যবস্থা করে তাদের সফিপুর জেনারেল হাসপাতাল, সফিপুর মডার্ন হাসপাতাল, উপজেলা স্বাস্থ্য কমপ্লেক্সসহ বিভিন্ন ক্লিনিকে ভর্তি করে। বাসি পচা খাবার দেওয়ায় শ্রমিকরা ক্ষুব্ধ হয়ে কারখানার সামনে বিক্ষোভ করে। খবর পেয়ে পুলিশ গিয়ে শ্রমিকদের বুঝিয়ে ও খাবার সরবরাহ প্রতিষ্ঠানের বিরুদ্ধে ব্যবস্থা নেওয়ার আশ্বাস দিলে শ্রমিকেরা শান্ত হয়।সফিপুর জেনারেল হাসপাতালে ভর্তি শ্রমিক জাকির হোসেন ও আসমা আক্তার বলেন, টিফিন খাওয়ার সময় ডিম ও কেক থেকে দুর্গন্ধ বের হচ্ছিল। এ কারণে অনেকেই ওই খাবার খায়নি। তবে বেশির ভাগ শ্রমিকই ওই খাবার খেয়েছে।কারখানার সহকারী উত্পাদন কর্মকর্তা (এপিএম) বছির উদ্দিন বলেন, টিফিনগুলি যে ঠিকাদারি প্রতিষ্ঠান কারখানায় সরবরাহ করে তাদের বিরুদ্ধে ব্যবস্থা নেওয়া হবে।মৌচাক পুলিশ ফাঁড়ির উপ-পরিদর্শক (এসআই) সৈয়দ আজহারুল ইসলাম প্রথম আলো ডটকমকে বলেন, শ্রমিকদের বুঝিয়ে শান্ত করা হয়েছে। এ ছাড়া কারখানা কর্তৃপক্ষকে খাদ্য সরবরাহ প্রতিষ্ঠানের বিরুদ্ধে ব্যবস্থা নিতে বলা হয়েছে।'"
            ]
          },
          "metadata": {},
          "execution_count": 11
        }
      ]
    },
    {
      "cell_type": "code",
      "source": [
        "len(data[0]['content'])"
      ],
      "metadata": {
        "id": "x8erEC_8A3Wf",
        "colab": {
          "base_uri": "https://localhost:8080/"
        },
        "outputId": "0d7d603d-23e2-4e0b-95fe-60d547d019c2"
      },
      "execution_count": 12,
      "outputs": [
        {
          "output_type": "execute_result",
          "data": {
            "text/plain": [
              "1752"
            ]
          },
          "metadata": {},
          "execution_count": 12
        }
      ]
    },
    {
      "cell_type": "code",
      "source": [
        "cat_set = set(a['category'] for a in data)\n",
        "cat_set"
      ],
      "metadata": {
        "id": "_39JF77ZBZ4D",
        "colab": {
          "base_uri": "https://localhost:8080/"
        },
        "outputId": "fed8e898-8212-4b73-c294-0ed54de44bb5"
      },
      "execution_count": 13,
      "outputs": [
        {
          "output_type": "execute_result",
          "data": {
            "text/plain": [
              "{'bangladesh',\n",
              " 'economy',\n",
              " 'education',\n",
              " 'entertainment',\n",
              " 'international',\n",
              " 'life-style',\n",
              " 'opinion',\n",
              " 'sports',\n",
              " 'technology'}"
            ]
          },
          "metadata": {},
          "execution_count": 13
        }
      ]
    },
    {
      "cell_type": "code",
      "source": [
        "len(cat_set)"
      ],
      "metadata": {
        "id": "k96QuScRBzbD",
        "colab": {
          "base_uri": "https://localhost:8080/"
        },
        "outputId": "2d51141e-f46f-423b-de93-4c90e9d8a0b0"
      },
      "execution_count": 14,
      "outputs": [
        {
          "output_type": "execute_result",
          "data": {
            "text/plain": [
              "9"
            ]
          },
          "metadata": {},
          "execution_count": 14
        }
      ]
    },
    {
      "cell_type": "code",
      "source": [
        "all_cat = [a['category']for a in data]"
      ],
      "metadata": {
        "id": "qiz7dloKCOVx"
      },
      "execution_count": 15,
      "outputs": []
    },
    {
      "cell_type": "code",
      "source": [
        "len(data)  == len(all_cat) , len(data)"
      ],
      "metadata": {
        "id": "IKnLbsj3B4B3",
        "colab": {
          "base_uri": "https://localhost:8080/"
        },
        "outputId": "0f6630fd-47fa-42b0-e4d0-128b2842ec50"
      },
      "execution_count": 16,
      "outputs": [
        {
          "output_type": "execute_result",
          "data": {
            "text/plain": [
              "(True, 408471)"
            ]
          },
          "metadata": {},
          "execution_count": 16
        }
      ]
    },
    {
      "cell_type": "markdown",
      "source": [
        "### Select categories with data more than 7000"
      ],
      "metadata": {
        "id": "yl1R7yb3qshF"
      }
    },
    {
      "cell_type": "code",
      "source": [
        "# data in each category \n",
        "cat_count = []\n",
        "\n",
        "for cat in (cat_set):\n",
        "  cat_count.append(all_cat.count(cat))\n",
        "cat_count"
      ],
      "metadata": {
        "id": "RzWdWxuYH5oY",
        "colab": {
          "base_uri": "https://localhost:8080/"
        },
        "outputId": "03a5d3c8-effc-455a-f4f2-e01ff31a3ae3"
      },
      "execution_count": 17,
      "outputs": [
        {
          "output_type": "execute_result",
          "data": {
            "text/plain": [
              "[232504, 30466, 10852, 30856, 12116, 15699, 9721, 49012, 17245]"
            ]
          },
          "metadata": {},
          "execution_count": 17
        }
      ]
    },
    {
      "cell_type": "code",
      "source": [
        "sorted(cat_count)[::-1]"
      ],
      "metadata": {
        "id": "vMQmdrALhbM8",
        "colab": {
          "base_uri": "https://localhost:8080/"
        },
        "outputId": "fc3a3db4-9361-4139-aa49-f8ad3ad697b9"
      },
      "execution_count": 18,
      "outputs": [
        {
          "output_type": "execute_result",
          "data": {
            "text/plain": [
              "[232504, 49012, 30856, 30466, 17245, 15699, 12116, 10852, 9721]"
            ]
          },
          "metadata": {},
          "execution_count": 18
        }
      ]
    },
    {
      "cell_type": "code",
      "source": [
        "cat_set"
      ],
      "metadata": {
        "id": "sFWJk2eriOmt",
        "colab": {
          "base_uri": "https://localhost:8080/"
        },
        "outputId": "bc857c20-2092-4ce5-e139-04652a042869"
      },
      "execution_count": 19,
      "outputs": [
        {
          "output_type": "execute_result",
          "data": {
            "text/plain": [
              "{'bangladesh',\n",
              " 'economy',\n",
              " 'education',\n",
              " 'entertainment',\n",
              " 'international',\n",
              " 'life-style',\n",
              " 'opinion',\n",
              " 'sports',\n",
              " 'technology'}"
            ]
          },
          "metadata": {},
          "execution_count": 19
        }
      ]
    },
    {
      "cell_type": "code",
      "source": [
        "# bind category with their occurence\n",
        "z = zip(cat_count, cat_set)\n",
        "z = list(z)\n",
        "z"
      ],
      "metadata": {
        "id": "iJNKLSEcimM4",
        "colab": {
          "base_uri": "https://localhost:8080/"
        },
        "outputId": "b26f5f95-a59a-4563-9aab-4dfde7097fb4"
      },
      "execution_count": 20,
      "outputs": [
        {
          "output_type": "execute_result",
          "data": {
            "text/plain": [
              "[(232504, 'bangladesh'),\n",
              " (30466, 'entertainment'),\n",
              " (10852, 'life-style'),\n",
              " (30856, 'international'),\n",
              " (12116, 'technology'),\n",
              " (15699, 'opinion'),\n",
              " (9721, 'education'),\n",
              " (49012, 'sports'),\n",
              " (17245, 'economy')]"
            ]
          },
          "metadata": {},
          "execution_count": 20
        }
      ]
    },
    {
      "cell_type": "code",
      "source": [
        "import matplotlib.pyplot as plt\n",
        "\n",
        "\n",
        "categories = {}\n",
        "for index, (x, y) in enumerate(z)  :\n",
        "  categories[y] = x\n",
        "\n",
        "fig , ax = plt.subplots(figsize=(5,20))\n",
        "\n",
        "# ax.bar(categories.keys(), categories.values())\n",
        "ax.barh(list(categories.keys()),list(categories.values()))"
      ],
      "metadata": {
        "colab": {
          "base_uri": "https://localhost:8080/",
          "height": 1000
        },
        "id": "-KuaSIygdlhX",
        "outputId": "eff330cd-cd04-4c11-d447-2e79e1f56da5"
      },
      "execution_count": 21,
      "outputs": [
        {
          "output_type": "execute_result",
          "data": {
            "text/plain": [
              "<BarContainer object of 9 artists>"
            ]
          },
          "metadata": {},
          "execution_count": 21
        },
        {
          "output_type": "display_data",
          "data": {
            "image/png": "[encoded data removed]",
            "text/plain": [
              "<Figure size 360x1440 with 1 Axes>"
            ]
          },
          "metadata": {
            "needs_background": "light"
          }
        }
      ]
    },
    {
      "cell_type": "code",
      "source": [
        "# select only categories with more than 7000 data \n",
        "sel_cats = []\n",
        "\n",
        "for i in z :\n",
        "  if i[0] > 7000:\n",
        "    sel_cats.append(i[1])"
      ],
      "metadata": {
        "id": "_1-vMaGEi5ep"
      },
      "execution_count": 22,
      "outputs": []
    },
    {
      "cell_type": "code",
      "source": [
        "\n",
        "sel_cats = []\n",
        "\n",
        "for cat in cat_set :\n",
        "  if cat != \"bangladesh\":\n",
        "    sel_cats.append(cat)\n",
        "sel_cats"
      ],
      "metadata": {
        "id": "hxRFviOljiWs",
        "colab": {
          "base_uri": "https://localhost:8080/"
        },
        "outputId": "540c3264-da71-4572-b83a-3734b24ca628"
      },
      "execution_count": 23,
      "outputs": [
        {
          "output_type": "execute_result",
          "data": {
            "text/plain": [
              "['entertainment',\n",
              " 'life-style',\n",
              " 'international',\n",
              " 'technology',\n",
              " 'opinion',\n",
              " 'education',\n",
              " 'sports',\n",
              " 'economy']"
            ]
          },
          "metadata": {},
          "execution_count": 23
        }
      ]
    },
    {
      "cell_type": "code",
      "source": [
        "len(sel_cats) , len(cat_set)  # selected category vs total category "
      ],
      "metadata": {
        "id": "0XXn7w0OjjTF",
        "colab": {
          "base_uri": "https://localhost:8080/"
        },
        "outputId": "affc41dc-649c-4019-9a27-b7e64dec0581"
      },
      "execution_count": 24,
      "outputs": [
        {
          "output_type": "execute_result",
          "data": {
            "text/plain": [
              "(8, 9)"
            ]
          },
          "metadata": {},
          "execution_count": 24
        }
      ]
    },
    {
      "cell_type": "code",
      "source": [
        "# collect selected categories \n",
        "\n",
        "X_text = []\n",
        "y_label = []\n",
        "\n",
        "for i in data :\n",
        "  if i['category'] in sel_cats:\n",
        "    X_text.append(i['content'])\n",
        "    y_label.append(i['category'])"
      ],
      "metadata": {
        "id": "Gk5wxKYUjpGP"
      },
      "execution_count": 25,
      "outputs": []
    },
    {
      "cell_type": "code",
      "source": [
        "X_text[0]"
      ],
      "metadata": {
        "id": "loUtH2RlkVCw",
        "colab": {
          "base_uri": "https://localhost:8080/",
          "height": 122
        },
        "outputId": "8d88742c-c4e3-4075-dbc2-d1adf5590999"
      },
      "execution_count": 26,
      "outputs": [
        {
          "output_type": "execute_result",
          "data": {
            "application/vnd.google.colaboratory.intrinsic+json": {
              "type": "string"
            },
            "text/plain": [
              "'এবারের উইম্বলডনটা স্মরণীয় করে রাখার মিশনেই যেন নেমেছেন সাবিনা লিসিকি। চতুর্থ রাউন্ডের লড়াইয়ে সেরেনা উইলিয়ামসকে হারিয়ে শুরু করেছিলেন স্বপ্নযাত্রা। কোয়ার্টার ফাইনালে কাইয়া কানেপিকে হারাতে খুব একটা বেগ পেতে হয়নি। তবে সেমিফাইনালে কঠিন প্রতিপক্ষের মুখেই পড়তে হয়েছিল লিসিকিকে। র্যাঙ্কিংয়ের চার নম্বরে থাকা আগ্নিয়েস্কা রাদভানস্কাই ছিলেন আজকের ম্যাচের ফেবারিট। কিন্তু অঘটনের উইম্বলডনে উল্টোটাই ঘটবে, এটাই যেন স্বাভাবিক। হলোই তা-ই। উত্তেজনাপূর্ণ সেমিফাইনালে ৬-৪, ২-৬, ৯-৭ গেমের জয় দিয়ে লিসিকি প্রথমবারের মতো পা রাখলেন উইম্বলডনের ফাইনালে।প্রথম সেটে ৬-৪ গেমের জয় দিয়ে শুরুটা দারুণভাবে করেছিলেন জার্মান তারকা লিসিকি। দ্বিতীয় সেটে ঘুরে দাঁড়ান রাদভানস্কা। খেলায় সমতা ফেরান ২-৬ গেমের জয় দিয়ে। ফলাফল নির্ধারণী তৃতীয় সেটের শুরুতেও বেশ খানিকটা সময় এগিয়ে ছিলেন রাদভানস্কা। কিন্তু ৩-০ ব্যবধানে পিছিয়ে পড়ার পর যেন মরিয়া হয়ে ওঠেন লিসিকি। ঘুরে দাঁড়াতে থাকেন নাটকীয়ভাবে। দুই ঘণ্টা ১৮ মিনিটের শ্বাসরুদ্ধকর লড়াইয়ের পর শেষ হাসিটাও হেসেছেন ২৩ বছর বয়সী লিসিকি।উইম্বলডনের অপর সেমিফাইনালে মারিওন বারতোলি অনায়াসেই হারিয়েছেন বেলজিয়ামের কারস্টেন ফ্লিপকেনসকে। ৬-১, ৬-২ গেমের জয় দিয়ে ফাইনাল নিশ্চিত করেছেন বারতোলি।শিরোপা জয়ের চূড়ান্ত লড়াইয়ে আগামী শনিবার মুখোমুখি হবেন বারতোলি ও লিসিকি।— রয়টার্স'"
            ]
          },
          "metadata": {},
          "execution_count": 26
        }
      ]
    },
    {
      "cell_type": "code",
      "source": [
        "y_label[0]"
      ],
      "metadata": {
        "id": "QUp7ahOVkXse",
        "colab": {
          "base_uri": "https://localhost:8080/",
          "height": 35
        },
        "outputId": "0289add2-f53c-426c-f5a5-8805c21934d9"
      },
      "execution_count": 27,
      "outputs": [
        {
          "output_type": "execute_result",
          "data": {
            "application/vnd.google.colaboratory.intrinsic+json": {
              "type": "string"
            },
            "text/plain": [
              "'sports'"
            ]
          },
          "metadata": {},
          "execution_count": 27
        }
      ]
    },
    {
      "cell_type": "code",
      "source": [
        "len(X_text) == len(y_label) , len(y_label)"
      ],
      "metadata": {
        "id": "BJpnHtNdkc45",
        "colab": {
          "base_uri": "https://localhost:8080/"
        },
        "outputId": "1ab70f4f-70d6-468e-db69-9bec76c19ede"
      },
      "execution_count": 28,
      "outputs": [
        {
          "output_type": "execute_result",
          "data": {
            "text/plain": [
              "(True, 175967)"
            ]
          },
          "metadata": {},
          "execution_count": 28
        }
      ]
    },
    {
      "cell_type": "code",
      "source": [
        "set(y_label)"
      ],
      "metadata": {
        "id": "Fpdxfnabkt9K",
        "colab": {
          "base_uri": "https://localhost:8080/"
        },
        "outputId": "c35287dc-726f-4cfd-f716-08cd8b15833d"
      },
      "execution_count": 29,
      "outputs": [
        {
          "output_type": "execute_result",
          "data": {
            "text/plain": [
              "{'economy',\n",
              " 'education',\n",
              " 'entertainment',\n",
              " 'international',\n",
              " 'life-style',\n",
              " 'opinion',\n",
              " 'sports',\n",
              " 'technology'}"
            ]
          },
          "metadata": {},
          "execution_count": 29
        }
      ]
    },
    {
      "cell_type": "code",
      "source": [
        "sorted(sel_cats)"
      ],
      "metadata": {
        "id": "4m1IcNWNk3pT",
        "colab": {
          "base_uri": "https://localhost:8080/"
        },
        "outputId": "41bb830b-2555-453d-b849-adf4ef4071cc"
      },
      "execution_count": 30,
      "outputs": [
        {
          "output_type": "execute_result",
          "data": {
            "text/plain": [
              "['economy',\n",
              " 'education',\n",
              " 'entertainment',\n",
              " 'international',\n",
              " 'life-style',\n",
              " 'opinion',\n",
              " 'sports',\n",
              " 'technology']"
            ]
          },
          "metadata": {},
          "execution_count": 30
        }
      ]
    },
    {
      "cell_type": "code",
      "source": [
        "len(set(y_label)) == len(sel_cats)"
      ],
      "metadata": {
        "id": "fniWMm04k6T4",
        "colab": {
          "base_uri": "https://localhost:8080/"
        },
        "outputId": "a202fcc9-7aa7-42aa-c8ed-a673efea83be"
      },
      "execution_count": 31,
      "outputs": [
        {
          "output_type": "execute_result",
          "data": {
            "text/plain": [
              "True"
            ]
          },
          "metadata": {},
          "execution_count": 31
        }
      ]
    },
    {
      "cell_type": "markdown",
      "source": [
        "## Convert the categorical labels to numeric \n"
      ],
      "metadata": {
        "id": "hHytrpLKk_YQ"
      }
    },
    {
      "cell_type": "code",
      "source": [
        "from sklearn.preprocessing import LabelEncoder\n",
        "encoder = LabelEncoder()\n",
        "\n",
        "class_labels = encoder.fit_transform(y_label)"
      ],
      "metadata": {
        "id": "mKV0h0dfsaic"
      },
      "execution_count": 32,
      "outputs": []
    },
    {
      "cell_type": "code",
      "source": [
        "len(class_labels) == len(y_label)"
      ],
      "metadata": {
        "id": "jcLDdyx1lZf-",
        "colab": {
          "base_uri": "https://localhost:8080/"
        },
        "outputId": "e6088509-5f37-4039-824d-b33832b11ed3"
      },
      "execution_count": 33,
      "outputs": [
        {
          "output_type": "execute_result",
          "data": {
            "text/plain": [
              "True"
            ]
          },
          "metadata": {},
          "execution_count": 33
        }
      ]
    },
    {
      "cell_type": "code",
      "source": [
        "set(class_labels)"
      ],
      "metadata": {
        "id": "X0jfKXGAnoLh",
        "colab": {
          "base_uri": "https://localhost:8080/"
        },
        "outputId": "755f077b-3bf2-49e2-d02e-cfc2e836f11f"
      },
      "execution_count": 34,
      "outputs": [
        {
          "output_type": "execute_result",
          "data": {
            "text/plain": [
              "{0, 1, 2, 3, 4, 5, 6, 7}"
            ]
          },
          "metadata": {},
          "execution_count": 34
        }
      ]
    },
    {
      "cell_type": "code",
      "source": [
        "encoder.inverse_transform(list(set(class_labels)))"
      ],
      "metadata": {
        "id": "8URY302Yl9Od",
        "colab": {
          "base_uri": "https://localhost:8080/"
        },
        "outputId": "a0b4ceac-fec5-42ea-8736-cd56612e40f9"
      },
      "execution_count": 35,
      "outputs": [
        {
          "output_type": "execute_result",
          "data": {
            "text/plain": [
              "array(['economy', 'education', 'entertainment', 'international',\n",
              "       'life-style', 'opinion', 'sports', 'technology'], dtype='<U13')"
            ]
          },
          "metadata": {},
          "execution_count": 35
        }
      ]
    },
    {
      "cell_type": "code",
      "source": [
        "list(zip(set(class_labels), list(encoder.inverse_transform(list(set(class_labels))))))"
      ],
      "metadata": {
        "id": "bMiV_giUnzKA",
        "colab": {
          "base_uri": "https://localhost:8080/"
        },
        "outputId": "aa6bbc59-c4c1-460c-ac89-20b32ef197fd"
      },
      "execution_count": 36,
      "outputs": [
        {
          "output_type": "execute_result",
          "data": {
            "text/plain": [
              "[(0, 'economy'),\n",
              " (1, 'education'),\n",
              " (2, 'entertainment'),\n",
              " (3, 'international'),\n",
              " (4, 'life-style'),\n",
              " (5, 'opinion'),\n",
              " (6, 'sports'),\n",
              " (7, 'technology')]"
            ]
          },
          "metadata": {},
          "execution_count": 36
        }
      ]
    },
    {
      "cell_type": "code",
      "source": [
        "type(class_labels) "
      ],
      "metadata": {
        "id": "uDEgO-dOoTQf",
        "colab": {
          "base_uri": "https://localhost:8080/"
        },
        "outputId": "7aa985db-6cd0-4e8f-f03c-e8b05accd9ac"
      },
      "execution_count": 37,
      "outputs": [
        {
          "output_type": "execute_result",
          "data": {
            "text/plain": [
              "numpy.ndarray"
            ]
          },
          "metadata": {},
          "execution_count": 37
        }
      ]
    },
    {
      "cell_type": "code",
      "source": [
        "class_labels.shape"
      ],
      "metadata": {
        "id": "6kXMWALyokqV",
        "colab": {
          "base_uri": "https://localhost:8080/"
        },
        "outputId": "57726bd7-2435-4784-f976-6a38f2d8fd83"
      },
      "execution_count": 38,
      "outputs": [
        {
          "output_type": "execute_result",
          "data": {
            "text/plain": [
              "(175967,)"
            ]
          },
          "metadata": {},
          "execution_count": 38
        }
      ]
    },
    {
      "cell_type": "code",
      "source": [
        "import numpy as np\n",
        "np.shape(np.reshape(class_labels, newshape=(class_labels.shape[0], 1)))"
      ],
      "metadata": {
        "id": "EqpNq3iCooMu",
        "colab": {
          "base_uri": "https://localhost:8080/"
        },
        "outputId": "261b0d97-00e0-4646-f799-ccaf4d2d5215"
      },
      "execution_count": 39,
      "outputs": [
        {
          "output_type": "execute_result",
          "data": {
            "text/plain": [
              "(175967, 1)"
            ]
          },
          "metadata": {},
          "execution_count": 39
        }
      ]
    },
    {
      "cell_type": "code",
      "source": [
        "# apply one hot encoding to the class label for binary encoding\n",
        "from sklearn.preprocessing import OneHotEncoder\n",
        "encoder = OneHotEncoder(sparse = False)\n",
        "\n",
        "class_labels = class_labels.reshape((class_labels.shape[0],1))\n",
        "y_ohe = encoder.fit_transform(class_labels)"
      ],
      "metadata": {
        "id": "dshKIoIppXmd"
      },
      "execution_count": 40,
      "outputs": []
    },
    {
      "cell_type": "code",
      "source": [
        "y_ohe.shape"
      ],
      "metadata": {
        "id": "kHC4LTyQ5fNU",
        "colab": {
          "base_uri": "https://localhost:8080/"
        },
        "outputId": "13973762-6832-45c7-a7b5-bef0acb43d94"
      },
      "execution_count": 41,
      "outputs": [
        {
          "output_type": "execute_result",
          "data": {
            "text/plain": [
              "(175967, 8)"
            ]
          },
          "metadata": {},
          "execution_count": 41
        }
      ]
    },
    {
      "cell_type": "code",
      "source": [
        "y_ohe[1]"
      ],
      "metadata": {
        "id": "T6eiXEqO5hjQ",
        "colab": {
          "base_uri": "https://localhost:8080/"
        },
        "outputId": "b583eb42-61ea-41f5-c528-68c675041088"
      },
      "execution_count": 42,
      "outputs": [
        {
          "output_type": "execute_result",
          "data": {
            "text/plain": [
              "array([0., 0., 0., 0., 0., 0., 0., 1.])"
            ]
          },
          "metadata": {},
          "execution_count": 42
        }
      ]
    },
    {
      "cell_type": "code",
      "source": [
        "class_labels[1]"
      ],
      "metadata": {
        "id": "r8osnsFn5mQV",
        "colab": {
          "base_uri": "https://localhost:8080/"
        },
        "outputId": "f2491f43-3bb1-436b-e88c-817031f01ab7"
      },
      "execution_count": 43,
      "outputs": [
        {
          "output_type": "execute_result",
          "data": {
            "text/plain": [
              "array([7])"
            ]
          },
          "metadata": {},
          "execution_count": 43
        }
      ]
    },
    {
      "cell_type": "markdown",
      "source": [
        "## tokenize the texts input to convert tokens to numeric\n"
      ],
      "metadata": {
        "id": "PSRNU4qO6S0r"
      }
    },
    {
      "cell_type": "code",
      "source": [
        "X_text[0]"
      ],
      "metadata": {
        "id": "lTEbqAb-66hV",
        "colab": {
          "base_uri": "https://localhost:8080/",
          "height": 122
        },
        "outputId": "09f67ae7-22e4-4c99-f762-78b5be902182"
      },
      "execution_count": 44,
      "outputs": [
        {
          "output_type": "execute_result",
          "data": {
            "application/vnd.google.colaboratory.intrinsic+json": {
              "type": "string"
            },
            "text/plain": [
              "'এবারের উইম্বলডনটা স্মরণীয় করে রাখার মিশনেই যেন নেমেছেন সাবিনা লিসিকি। চতুর্থ রাউন্ডের লড়াইয়ে সেরেনা উইলিয়ামসকে হারিয়ে শুরু করেছিলেন স্বপ্নযাত্রা। কোয়ার্টার ফাইনালে কাইয়া কানেপিকে হারাতে খুব একটা বেগ পেতে হয়নি। তবে সেমিফাইনালে কঠিন প্রতিপক্ষের মুখেই পড়তে হয়েছিল লিসিকিকে। র্যাঙ্কিংয়ের চার নম্বরে থাকা আগ্নিয়েস্কা রাদভানস্কাই ছিলেন আজকের ম্যাচের ফেবারিট। কিন্তু অঘটনের উইম্বলডনে উল্টোটাই ঘটবে, এটাই যেন স্বাভাবিক। হলোই তা-ই। উত্তেজনাপূর্ণ সেমিফাইনালে ৬-৪, ২-৬, ৯-৭ গেমের জয় দিয়ে লিসিকি প্রথমবারের মতো পা রাখলেন উইম্বলডনের ফাইনালে।প্রথম সেটে ৬-৪ গেমের জয় দিয়ে শুরুটা দারুণভাবে করেছিলেন জার্মান তারকা লিসিকি। দ্বিতীয় সেটে ঘুরে দাঁড়ান রাদভানস্কা। খেলায় সমতা ফেরান ২-৬ গেমের জয় দিয়ে। ফলাফল নির্ধারণী তৃতীয় সেটের শুরুতেও বেশ খানিকটা সময় এগিয়ে ছিলেন রাদভানস্কা। কিন্তু ৩-০ ব্যবধানে পিছিয়ে পড়ার পর যেন মরিয়া হয়ে ওঠেন লিসিকি। ঘুরে দাঁড়াতে থাকেন নাটকীয়ভাবে। দুই ঘণ্টা ১৮ মিনিটের শ্বাসরুদ্ধকর লড়াইয়ের পর শেষ হাসিটাও হেসেছেন ২৩ বছর বয়সী লিসিকি।উইম্বলডনের অপর সেমিফাইনালে মারিওন বারতোলি অনায়াসেই হারিয়েছেন বেলজিয়ামের কারস্টেন ফ্লিপকেনসকে। ৬-১, ৬-২ গেমের জয় দিয়ে ফাইনাল নিশ্চিত করেছেন বারতোলি।শিরোপা জয়ের চূড়ান্ত লড়াইয়ে আগামী শনিবার মুখোমুখি হবেন বারতোলি ও লিসিকি।— রয়টার্স'"
            ]
          },
          "metadata": {},
          "execution_count": 44
        }
      ]
    },
    {
      "cell_type": "code",
      "source": [
        "from tensorflow.keras.preprocessing.text import Tokenizer\n",
        "\n",
        "tokenizer = Tokenizer()\n",
        "tokenizer.fit_on_texts(X_text) # Only words known by the tokenizer will be taken into account\n",
        "X_token = tokenizer.texts_to_sequences(X_text) # Transforms each text in texts to a sequence of integers\n"
      ],
      "metadata": {
        "id": "PxM1dbb-62lk"
      },
      "execution_count": 45,
      "outputs": []
    },
    {
      "cell_type": "code",
      "source": [
        "type(tokenizer.word_index)"
      ],
      "metadata": {
        "id": "MRVVC5VR8JV4",
        "colab": {
          "base_uri": "https://localhost:8080/"
        },
        "outputId": "a222fdbf-ba99-4134-b586-cb6e16bcbc0c"
      },
      "execution_count": 46,
      "outputs": [
        {
          "output_type": "execute_result",
          "data": {
            "text/plain": [
              "dict"
            ]
          },
          "metadata": {},
          "execution_count": 46
        }
      ]
    },
    {
      "cell_type": "code",
      "source": [
        "for index, token  in enumerate(tokenizer.word_index):\n",
        "  print(token)\n",
        "  if index == 10:\n",
        "    break\n"
      ],
      "metadata": {
        "id": "2KYoJkRB9tES",
        "colab": {
          "base_uri": "https://localhost:8080/"
        },
        "outputId": "51511037-e3c7-4d91-f5be-975c84f26e24"
      },
      "execution_count": 47,
      "outputs": [
        {
          "output_type": "stream",
          "name": "stdout",
          "text": [
            "ও\n",
            "এই\n",
            "করে\n",
            "থেকে\n",
            "এ\n",
            "না\n",
            "করা\n",
            "জন্য\n",
            "সঙ্গে\n",
            "আর\n",
            "করতে\n"
          ]
        }
      ]
    },
    {
      "cell_type": "code",
      "source": [
        "vocab_size = len(tokenizer.word_index)+1 \n",
        "vocab_size"
      ],
      "metadata": {
        "id": "GbFDkT_j8INV",
        "colab": {
          "base_uri": "https://localhost:8080/"
        },
        "outputId": "268d199a-9a88-4294-9d1a-0fcf2a312ddb"
      },
      "execution_count": 48,
      "outputs": [
        {
          "output_type": "execute_result",
          "data": {
            "text/plain": [
              "1627184"
            ]
          },
          "metadata": {},
          "execution_count": 48
        }
      ]
    },
    {
      "cell_type": "code",
      "source": [
        "tokenizer.texts_to_sequences([\"আমার নাম ফয়সাল\"])"
      ],
      "metadata": {
        "id": "-OasTnc271KB",
        "colab": {
          "base_uri": "https://localhost:8080/"
        },
        "outputId": "771cd3a9-69c5-45b6-eb4d-93eefc43c177"
      },
      "execution_count": 49,
      "outputs": [
        {
          "output_type": "execute_result",
          "data": {
            "text/plain": [
              "[[66, 160, 28629]]"
            ]
          },
          "metadata": {},
          "execution_count": 49
        }
      ]
    },
    {
      "cell_type": "code",
      "source": [
        "print(X_text[5])\n",
        "print(X_token[5])"
      ],
      "metadata": {
        "id": "tAZPyEosAE48",
        "colab": {
          "base_uri": "https://localhost:8080/"
        },
        "outputId": "b40e849c-ba6c-496c-f66e-e31952b1be94"
      },
      "execution_count": 50,
      "outputs": [
        {
          "output_type": "stream",
          "name": "stdout",
          "text": [
            "বিচ্ছেদের এক বছর পরও কেটি হোমসকে ভুলতে পারছেন না ‘মিশন ইমপসিবল’ তারকা টম ক্রুজ। আর তাই তো সম্প্রতি তিনি সাবেক স্ত্রীকে আবেগঘন এক চিঠি লিখেছেন পুনর্মিলনের আশাবাদ ব্যক্ত করে।এ প্রসঙ্গে ঘনিষ্ঠ সূত্রের বরাতে কনট্যাক্টমিউজিক জানিয়েছে, কেটির বিচ্ছেদের আবেদনের পরিপ্রেক্ষিতে গত বছরের জুলাইয়ে পাঁচ বছরের দাম্পত্যের ইতি টানার চূড়ান্ত সিদ্ধান্ত নিয়েছিলেন কেটি ও ক্রুজ। দেখতে দেখতে বছর ঘুরে আবার জুলাই মাস এসে গেছে। কেটিকে কোনোভাবেই মন থেকে মুছে ফেলতে পারছেন না ক্রুজ। তিনি উপলব্ধি করেছেন, আজীবন কেটিকে ভালোবেসে যাওয়া ছাড়া তাঁর সামনে আর কোনো পথ খোলা নেই।হঠাৎ করেই গত বছর ক্রুজের ৫০তম জন্মদিনের কয়েকদিন আগে তাঁকে ছেড়ে চলে যান কেটি। ওই ঘটনায় কেবল ক্রুজই অবাক হননি, অবাক হয়েছিল পুরো বিশ্ব। শুরুতে কেটির ওপর ক্ষুব্ধ হলেও দিনের পর দিন ক্রুজ ভেবেছেন কেন তাঁকে ছেড়ে চলে গেলেন কেটি। শেষ পর্যন্ত কেটির সেই কঠিন সিদ্ধান্ত নেওয়ার পেছনের কারণ অনুধাবন করতে পেরেছেন ক্রুজ।কেটির ওপর থেকে রাগ ও অভিমান পুরোপুরি সরাতে দীর্ঘ সময় লেগেছে ক্রুজের। গত মার্চে তাঁদের পুনর্মিলনের চেষ্টা করেছিলেন মধ্যস্থতাকারীরা। কিন্তু কোনো লাভ হয়নি। সেই থেকে কথা বন্ধ রয়েছে সাবেক এ তারকা দম্পতির মধ্যে।কিন্তু ক্রুজ যেকোনো উপায়ে কেটিকে ফিরে পাওয়ার জন্য দৃঢ়প্রতিজ্ঞ। কেটি তাঁর জীবনে ফিরে না এলেও অন্তত বন্ধুত্বপূর্ণ সম্পর্ক বজায় রাখবেন—এমনটাই প্রত্যাশা তাঁর। একমাত্র মেয়ে সাত বছর বয়সী সুরির মুখের দিকে তাকিয়ে সব ভুলে আবার ফিরে আশার কথা জানিয়েই সম্প্রতি কেটিকে চিঠি লিখেছেন ক্রুজ।\n",
            "[5197, 14, 41, 645, 13064, 102114, 7052, 1656, 6, 30787, 119589, 547, 4357, 28405, 10, 97, 96, 383, 19, 233, 6161, 19137, 14, 1752, 808, 54822, 9150, 3980, 28576, 930, 2587, 5214, 7594, 531383, 2622, 55586, 5197, 3476, 2071, 54, 126, 20924, 272, 126, 37785, 6251, 12519, 2608, 274, 12693, 13064, 1, 28405, 318, 318, 41, 905, 137, 678, 402, 351, 282, 110002, 3160, 755, 4, 2772, 1813, 1656, 6, 28405, 19, 3814, 88, 5269, 110002, 10167, 2976, 657, 13, 242, 10, 27, 714, 1924, 171342, 613, 54, 41, 16763, 13932, 6036, 78910, 43, 139, 2549, 236, 662, 75334, 67, 4829, 591, 148011, 1927, 6466, 1927, 2552, 445, 13877, 1119, 55586, 102, 3192, 249, 295, 24, 81, 7985, 14946, 207, 139, 2549, 236, 1206, 75334, 57, 91, 55586, 36, 548, 274, 2507, 3370, 118, 7952, 11, 3954, 531384, 102, 4, 4261, 1, 9949, 1480, 12390, 840, 439, 3894, 208125, 54, 3809, 79, 54822, 219, 466, 355685, 16, 27, 1079, 2876, 36, 4, 33, 316, 1593, 233, 5, 547, 6588, 187258, 7985, 491, 17323, 110002, 331, 3161, 8, 110003, 13064, 13, 1038, 331, 6, 5330, 540, 11857, 506, 11277, 355686, 1836, 1420, 876, 6551, 680, 41, 3365, 69436, 3309, 215, 13370, 50, 1415, 137, 331, 2517, 33, 77106, 383, 110002, 1752, 808, 28405]\n"
          ]
        }
      ]
    },
    {
      "cell_type": "code",
      "source": [
        "len(X_text[5]) , len(X_token[5]) "
      ],
      "metadata": {
        "id": "s8ek1D-JAo-D",
        "colab": {
          "base_uri": "https://localhost:8080/"
        },
        "outputId": "7239eb16-812a-404e-d3ca-4fd70002c75b"
      },
      "execution_count": 51,
      "outputs": [
        {
          "output_type": "execute_result",
          "data": {
            "text/plain": [
              "(1350, 212)"
            ]
          },
          "metadata": {},
          "execution_count": 51
        }
      ]
    },
    {
      "cell_type": "code",
      "source": [
        "for i in \"আমার নাম ফয়সাল\":\n",
        "  print(i)"
      ],
      "metadata": {
        "id": "dXQtBEIZDC4s",
        "colab": {
          "base_uri": "https://localhost:8080/"
        },
        "outputId": "ad59c9ce-9345-4016-adba-a82c4a0eaa1f"
      },
      "execution_count": 52,
      "outputs": [
        {
          "output_type": "stream",
          "name": "stdout",
          "text": [
            "আ\n",
            "ম\n",
            "া\n",
            "র\n",
            " \n",
            "ন\n",
            "া\n",
            "ম\n",
            " \n",
            "ফ\n",
            "য\n",
            "়\n",
            "স\n",
            "া\n",
            "ল\n"
          ]
        }
      ]
    },
    {
      "cell_type": "code",
      "source": [
        "len(\"আমার নাম ফয়সাল\")"
      ],
      "metadata": {
        "id": "8Xnv0rc1DLJ7",
        "colab": {
          "base_uri": "https://localhost:8080/"
        },
        "outputId": "5fd34912-3b6c-4b8d-eff7-6c1803c83c6c"
      },
      "execution_count": 53,
      "outputs": [
        {
          "output_type": "execute_result",
          "data": {
            "text/plain": [
              "15"
            ]
          },
          "metadata": {},
          "execution_count": 53
        }
      ]
    },
    {
      "cell_type": "code",
      "source": [
        "if \"ফয়সাল\" in tokenizer.word_index:\n",
        "  print(tokenizer.word_index[\"ফয়সাল\"])"
      ],
      "metadata": {
        "id": "VT4yBZgxK2V5",
        "colab": {
          "base_uri": "https://localhost:8080/"
        },
        "outputId": "58b5c5f7-9721-4a98-ee8e-d9e73bac7983"
      },
      "execution_count": 54,
      "outputs": [
        {
          "output_type": "stream",
          "name": "stdout",
          "text": [
            "28629\n"
          ]
        }
      ]
    },
    {
      "cell_type": "code",
      "source": [
        "tokenizer.sequences_to_texts([X_token[5]])"
      ],
      "metadata": {
        "id": "GdbPmwrXAywg",
        "colab": {
          "base_uri": "https://localhost:8080/"
        },
        "outputId": "0a8f8498-9eea-48b1-c3f2-46f06fd1ec6e"
      },
      "execution_count": 55,
      "outputs": [
        {
          "output_type": "execute_result",
          "data": {
            "text/plain": [
              "['বিচ্ছেদের এক বছর পরও কেটি হোমসকে ভুলতে পারছেন না ‘মিশন ইমপসিবল’ তারকা টম ক্রুজ। আর তাই তো সম্প্রতি তিনি সাবেক স্ত্রীকে আবেগঘন এক চিঠি লিখেছেন পুনর্মিলনের আশাবাদ ব্যক্ত করে।এ প্রসঙ্গে ঘনিষ্ঠ সূত্রের বরাতে কনট্যাক্টমিউজিক জানিয়েছে কেটির বিচ্ছেদের আবেদনের পরিপ্রেক্ষিতে গত বছরের জুলাইয়ে পাঁচ বছরের দাম্পত্যের ইতি টানার চূড়ান্ত সিদ্ধান্ত নিয়েছিলেন কেটি ও ক্রুজ। দেখতে দেখতে বছর ঘুরে আবার জুলাই মাস এসে গেছে। কেটিকে কোনোভাবেই মন থেকে মুছে ফেলতে পারছেন না ক্রুজ। তিনি উপলব্ধি করেছেন আজীবন কেটিকে ভালোবেসে যাওয়া ছাড়া তাঁর সামনে আর কোনো পথ খোলা নেই।হঠাৎ করেই গত বছর ক্রুজের ৫০তম জন্মদিনের কয়েকদিন আগে তাঁকে ছেড়ে চলে যান কেটি। ওই ঘটনায় কেবল ক্রুজই অবাক হননি অবাক হয়েছিল পুরো বিশ্ব। শুরুতে কেটির ওপর ক্ষুব্ধ হলেও দিনের পর দিন ক্রুজ ভেবেছেন কেন তাঁকে ছেড়ে চলে গেলেন কেটি। শেষ পর্যন্ত কেটির সেই কঠিন সিদ্ধান্ত নেওয়ার পেছনের কারণ অনুধাবন করতে পেরেছেন ক্রুজ।কেটির ওপর থেকে রাগ ও অভিমান পুরোপুরি সরাতে দীর্ঘ সময় লেগেছে ক্রুজের। গত মার্চে তাঁদের পুনর্মিলনের চেষ্টা করেছিলেন মধ্যস্থতাকারীরা। কিন্তু কোনো লাভ হয়নি। সেই থেকে কথা বন্ধ রয়েছে সাবেক এ তারকা দম্পতির মধ্যে।কিন্তু ক্রুজ যেকোনো উপায়ে কেটিকে ফিরে পাওয়ার জন্য দৃঢ়প্রতিজ্ঞ। কেটি তাঁর জীবনে ফিরে না এলেও অন্তত বন্ধুত্বপূর্ণ সম্পর্ক বজায় রাখবেন—এমনটাই প্রত্যাশা তাঁর। একমাত্র মেয়ে সাত বছর বয়সী সুরির মুখের দিকে তাকিয়ে সব ভুলে আবার ফিরে আশার কথা জানিয়েই সম্প্রতি কেটিকে চিঠি লিখেছেন ক্রুজ।']"
            ]
          },
          "metadata": {},
          "execution_count": 55
        }
      ]
    },
    {
      "cell_type": "markdown",
      "source": [
        "## pad the sequences\n"
      ],
      "metadata": {
        "id": "KK7r6CJWBDZI"
      }
    },
    {
      "cell_type": "code",
      "source": [
        "from tensorflow.keras.preprocessing.sequence import pad_sequences\n",
        "\n",
        "maxlen = 300\n",
        "\n",
        "X_pad = pad_sequences(X_token, padding = \"post\", maxlen = maxlen)\n",
        "\n"
      ],
      "metadata": {
        "id": "BAlhJWH3CGer"
      },
      "execution_count": 56,
      "outputs": []
    },
    {
      "cell_type": "code",
      "source": [
        "type(X_pad)"
      ],
      "metadata": {
        "id": "tcVLX6ldvqUf",
        "colab": {
          "base_uri": "https://localhost:8080/"
        },
        "outputId": "9cae418c-9365-4093-8c53-6186d93d8edd"
      },
      "execution_count": 57,
      "outputs": [
        {
          "output_type": "execute_result",
          "data": {
            "text/plain": [
              "numpy.ndarray"
            ]
          },
          "metadata": {},
          "execution_count": 57
        }
      ]
    },
    {
      "cell_type": "code",
      "source": [
        "X_pad.shape"
      ],
      "metadata": {
        "id": "RbSm-KRCM53-",
        "colab": {
          "base_uri": "https://localhost:8080/"
        },
        "outputId": "7bbd54e0-1818-4ad7-9c3c-3b3d8f739578"
      },
      "execution_count": null,
      "outputs": [
        {
          "output_type": "execute_result",
          "data": {
            "text/plain": [
              "(415873, 300)"
            ]
          },
          "metadata": {},
          "execution_count": 53
        }
      ]
    },
    {
      "cell_type": "code",
      "source": [
        "y_ohe.shape"
      ],
      "metadata": {
        "id": "KQyMMlM9SWsv",
        "colab": {
          "base_uri": "https://localhost:8080/"
        },
        "outputId": "aad8581d-b703-4873-d6d3-15797fae9b44"
      },
      "execution_count": null,
      "outputs": [
        {
          "output_type": "execute_result",
          "data": {
            "text/plain": [
              "(415873, 10)"
            ]
          },
          "metadata": {},
          "execution_count": 54
        }
      ]
    },
    {
      "cell_type": "code",
      "source": [
        "vocab_size"
      ],
      "metadata": {
        "id": "ipRvExXQQCI9",
        "colab": {
          "base_uri": "https://localhost:8080/"
        },
        "outputId": "83aecefd-3927-4b56-ea67-92bd07868d0e"
      },
      "execution_count": null,
      "outputs": [
        {
          "output_type": "execute_result",
          "data": {
            "text/plain": [
              "2497356"
            ]
          },
          "metadata": {},
          "execution_count": 55
        }
      ]
    },
    {
      "cell_type": "code",
      "source": [
        "maxlen"
      ],
      "metadata": {
        "id": "p2rkMPgGSUtM",
        "colab": {
          "base_uri": "https://localhost:8080/"
        },
        "outputId": "b6ee26d8-5452-4281-f9a4-0246efec1aad"
      },
      "execution_count": null,
      "outputs": [
        {
          "output_type": "execute_result",
          "data": {
            "text/plain": [
              "300"
            ]
          },
          "metadata": {},
          "execution_count": 56
        }
      ]
    },
    {
      "cell_type": "code",
      "source": [
        "X_pad[0]"
      ],
      "metadata": {
        "id": "SY0XvXqBSeBN",
        "colab": {
          "base_uri": "https://localhost:8080/"
        },
        "outputId": "4d8c5306-e4e2-49ac-c6c1-bd0eac1c9da2"
      },
      "execution_count": null,
      "outputs": [
        {
          "output_type": "execute_result",
          "data": {
            "text/plain": [
              "array([  2423,  17699,     97,  84743,    862,     62,    243,   2294,\n",
              "        17904,   9439,     14,   1042,   1570,   1125,    671,   1702,\n",
              "          363,  12546,      2,   1225,   1366,    111,     26,   1570,\n",
              "       819364,  17721,    639,   1131,    224,  10265,    425,   1327,\n",
              "           24,    729,   6338,      6,  11512,  66741,     69,   2397,\n",
              "         1702,    363,  12546,    110,   7557,   1160,     63,    142,\n",
              "        97133,   9903,    403, 217932,    671,      1,     60,    394,\n",
              "          147,    890,     97,  84743,    228, 355379,  45492,   2482,\n",
              "         1570,   1457,     62,    261,    848,   3270,     74,  17904,\n",
              "          403,    230,  78381,     49,   3253,   8881, 131797,      1,\n",
              "        84744,  17904,   9439,   2397,   8553,    462,    629,    246,\n",
              "           26,  17904,  11809,    853,     13,    670,     22,    261,\n",
              "          848,   2049,     74,   2415,   3564,   9503,      1,   7770,\n",
              "         3051,     48,    230,    207,   1550,   1550,    694,   1570,\n",
              "         2397,   1702,     89,    493,    918,   1570,   7764,  10172,\n",
              "         3039,    110,    232,   1309,    671,   1702,    363, 204802,\n",
              "         1648,    780,    521,   3967,    226,      4,     81,  27768,\n",
              "          754,   1065,  27768,  17721,   1065,    108,    479,  46173,\n",
              "           56,   5967,    411,    118,  21183,  11226,    788,   7636,\n",
              "       124794,   2560,    363,   1570,    197,   1366,    118,    280,\n",
              "         2202,     60,   1198,   1457,  14222,      1,    788,   1177,\n",
              "          708,    102,    226,   2042,   2517,    857,   2397,   3337,\n",
              "       819365,    754,    259,    411,    671,   2203,    136,      1,\n",
              "        10568,   1028,      6,  17904,  11809,    336,   3253,      1,\n",
              "         6058,      3,   9032,    327,   3721,      2,    101,    918,\n",
              "           26,    788, 310484,     37,    783,    562,  50867,     26,\n",
              "          788, 819366,    372,  15004,     82, 310485,  68038,    330,\n",
              "            6, 819367,     32,   4704,    497,   8380,   1177,      4,\n",
              "           81,    102,    226,   1074, 540242,     60,  10295,   6467,\n",
              "         1548,    994,   3942,  11347,     94,     24,    729,   6338,\n",
              "            6,   1457,  14222,   3337,      5,    288,      2,    553,\n",
              "         1648,   3318,   1651,   1177,    708,    102,    226,    191,\n",
              "          116,    288,      0,      0,      0,      0,      0,      0,\n",
              "            0,      0,      0,      0,      0,      0,      0,      0,\n",
              "            0,      0,      0,      0,      0,      0,      0,      0,\n",
              "            0,      0,      0,      0,      0,      0,      0,      0,\n",
              "            0,      0,      0,      0,      0,      0,      0,      0,\n",
              "            0,      0,      0,      0], dtype=int32)"
            ]
          },
          "metadata": {},
          "execution_count": 57
        }
      ]
    },
    {
      "cell_type": "code",
      "source": [
        "from collections import Counter\n",
        "from tqdm.notebook import tqdm_notebook\n",
        "word_ls = []\n",
        "\n",
        "for sen in tqdm_notebook(X_text):\n",
        "    word_ls.extend(sen.split())"
      ],
      "metadata": {
        "colab": {
          "base_uri": "https://localhost:8080/",
          "height": 49,
          "referenced_widgets": [
            "fccb5913e95c47f9a2f2b8f503b6c93e",
            "f64686e1cffe494bab4f28d4e9f8377f",
            "fc28c3fd4d0f49399e9e4fb257d3792c",
            "d52b39b084a64fff9e4d5aea0976fb22",
            "9509ec793e49409c9ecf82952f4e55e5",
            "ff89d5cbd5214d538628bd6c4fc2d6b1",
            "3bd511ee082d49b398f8219b72240b74",
            "ec463862c6bc482a9cce72a9f9d2edb0",
            "1a4ba92d211f41a686679cb7be782518",
            "bcf6657d3f794eb5a682b5e8b4d55cb3",
            "7ecb950d0842492faadd2e761bcdb284"
          ]
        },
        "id": "kcHa1g8arZVD",
        "outputId": "2797da98-f896-4fb8-d217-ed182ec83b21"
      },
      "execution_count": 59,
      "outputs": [
        {
          "output_type": "display_data",
          "data": {
            "application/vnd.jupyter.widget-view+json": {
              "model_id": "fccb5913e95c47f9a2f2b8f503b6c93e",
              "version_minor": 0,
              "version_major": 2
            },
            "text/plain": [
              "  0%|          | 0/175967 [00:02<?, ?it/s]"
            ]
          },
          "metadata": {}
        }
      ]
    },
    {
      "cell_type": "code",
      "source": [
        "len(word_ls)"
      ],
      "metadata": {
        "colab": {
          "base_uri": "https://localhost:8080/"
        },
        "id": "M66LybRtseNj",
        "outputId": "aa442427-efd1-4ec8-ed1a-4cd828c01392"
      },
      "execution_count": 60,
      "outputs": [
        {
          "output_type": "execute_result",
          "data": {
            "text/plain": [
              "52940515"
            ]
          },
          "metadata": {},
          "execution_count": 60
        }
      ]
    },
    {
      "cell_type": "code",
      "source": [
        "len(X_token[0]) , len(X_pad[0])"
      ],
      "metadata": {
        "id": "8wywXTOpSl7x",
        "colab": {
          "base_uri": "https://localhost:8080/"
        },
        "outputId": "68bdf9cb-738a-4c0d-c732-c3826434c335"
      },
      "execution_count": null,
      "outputs": [
        {
          "output_type": "execute_result",
          "data": {
            "text/plain": [
              "(258, 300)"
            ]
          },
          "metadata": {},
          "execution_count": 58
        }
      ]
    },
    {
      "cell_type": "code",
      "source": [
        "Counter = Counter(word_ls)"
      ],
      "metadata": {
        "id": "doM0U_l2sjgP"
      },
      "execution_count": 61,
      "outputs": []
    },
    {
      "cell_type": "code",
      "source": [
        "most_occur = Counter.most_common(100)\n",
        "print(most_occur)\n",
        "\n"
      ],
      "metadata": {
        "colab": {
          "base_uri": "https://localhost:8080/"
        },
        "id": "0bBHCUYXsrmU",
        "outputId": "3f812652-dba5-433f-8b67-c5ee0c17ee79"
      },
      "execution_count": 62,
      "outputs": [
        {
          "output_type": "stream",
          "name": "stdout",
          "text": [
            "[('ও', 540451), ('এই', 342930), ('করে', 309547), ('থেকে', 297081), ('এ', 275336), ('জন্য', 208915), ('করা', 207361), ('সঙ্গে', 199351), ('আর', 186588), ('করতে', 180323), ('না', 174150), ('নিয়ে', 168112), ('তাঁর', 166179), ('এক', 162792), ('কিন্তু', 154714), ('যে', 152095), ('একটি', 151595), ('এবং', 150629), ('না।', 141479), ('তিনি', 139817), ('হয়ে', 124786), ('মধ্যে', 122344), ('পর', 121081), ('তবে', 119572), ('কোনো', 117783), ('বা', 109520), ('প্রথম', 108676), ('তা', 107965), ('বলেন,', 107798), ('বলে', 105956), ('কথা', 104664), ('এর', 103948), ('সেই', 102648), ('ছিল', 93503), ('এখন', 93271), ('হবে', 93261), ('হবে।', 93247), ('দুই', 93002), ('অনেক', 92110), ('বছর', 91115), ('সময়', 90133), ('করার', 88638), ('আগে', 88634), ('দিয়ে', 88398), ('শুরু', 87193), ('নতুন', 86601), ('কিছু', 84857), ('বেশি', 84847), ('সব', 84356), ('আরও', 84194), ('মনে', 83803), ('আমাদের', 82477), ('গত', 81917), ('হিসেবে', 81027), ('হতে', 80028), ('হয়।', 79032), ('শেষ', 78958), ('আমরা', 78956), ('তার', 77100), ('আমি', 76605), ('কাজ', 75573), ('আমার', 73474), ('সে', 73189), ('ওই', 72460), ('একটা', 71354), ('বাংলাদেশ', 70790), ('হাজার', 69708), ('হয়', 69192), ('হয়েছে।', 68962), ('দলের', 68514), ('দেখা', 68345), ('তাদের', 68067), ('দেশের', 67775), ('দেওয়া', 67581), ('আজ', 66575), ('তাঁদের', 64957), ('বাংলাদেশের', 64700), ('দিন', 62003), ('এমন', 60249), ('কাছে', 60157), ('পর্যন্ত', 59579), ('মতো', 59505), ('দিতে', 59304), ('সালে', 59208), ('ভালো', 58792), ('বড়', 58773), ('তাই', 56857), ('তো', 56319), ('কি', 55761), ('বিভিন্ন', 54829), ('হয়েছে', 53662), ('হলে', 52211), ('বলা', 52054), ('the', 51470), ('ওপর', 51241), ('কী', 51111), ('পারে।', 50657), ('তৈরি', 50345), ('করেছেন', 48462), ('খুব', 48012)]\n"
          ]
        }
      ]
    },
    {
      "cell_type": "code",
      "source": [
        "for item in most_occur:\n",
        "  print(item)"
      ],
      "metadata": {
        "colab": {
          "base_uri": "https://localhost:8080/"
        },
        "id": "nSCSvi_TtHu7",
        "outputId": "fd0f0fa9-5ff2-4978-b3e4-a34c08eaef54"
      },
      "execution_count": 63,
      "outputs": [
        {
          "output_type": "stream",
          "name": "stdout",
          "text": [
            "('ও', 540451)\n",
            "('এই', 342930)\n",
            "('করে', 309547)\n",
            "('থেকে', 297081)\n",
            "('এ', 275336)\n",
            "('জন্য', 208915)\n",
            "('করা', 207361)\n",
            "('সঙ্গে', 199351)\n",
            "('আর', 186588)\n",
            "('করতে', 180323)\n",
            "('না', 174150)\n",
            "('নিয়ে', 168112)\n",
            "('তাঁর', 166179)\n",
            "('এক', 162792)\n",
            "('কিন্তু', 154714)\n",
            "('যে', 152095)\n",
            "('একটি', 151595)\n",
            "('এবং', 150629)\n",
            "('না।', 141479)\n",
            "('তিনি', 139817)\n",
            "('হয়ে', 124786)\n",
            "('মধ্যে', 122344)\n",
            "('পর', 121081)\n",
            "('তবে', 119572)\n",
            "('কোনো', 117783)\n",
            "('বা', 109520)\n",
            "('প্রথম', 108676)\n",
            "('তা', 107965)\n",
            "('বলেন,', 107798)\n",
            "('বলে', 105956)\n",
            "('কথা', 104664)\n",
            "('এর', 103948)\n",
            "('সেই', 102648)\n",
            "('ছিল', 93503)\n",
            "('এখন', 93271)\n",
            "('হবে', 93261)\n",
            "('হবে।', 93247)\n",
            "('দুই', 93002)\n",
            "('অনেক', 92110)\n",
            "('বছর', 91115)\n",
            "('সময়', 90133)\n",
            "('করার', 88638)\n",
            "('আগে', 88634)\n",
            "('দিয়ে', 88398)\n",
            "('শুরু', 87193)\n",
            "('নতুন', 86601)\n",
            "('কিছু', 84857)\n",
            "('বেশি', 84847)\n",
            "('সব', 84356)\n",
            "('আরও', 84194)\n",
            "('মনে', 83803)\n",
            "('আমাদের', 82477)\n",
            "('গত', 81917)\n",
            "('হিসেবে', 81027)\n",
            "('হতে', 80028)\n",
            "('হয়।', 79032)\n",
            "('শেষ', 78958)\n",
            "('আমরা', 78956)\n",
            "('তার', 77100)\n",
            "('আমি', 76605)\n",
            "('কাজ', 75573)\n",
            "('আমার', 73474)\n",
            "('সে', 73189)\n",
            "('ওই', 72460)\n",
            "('একটা', 71354)\n",
            "('বাংলাদেশ', 70790)\n",
            "('হাজার', 69708)\n",
            "('হয়', 69192)\n",
            "('হয়েছে।', 68962)\n",
            "('দলের', 68514)\n",
            "('দেখা', 68345)\n",
            "('তাদের', 68067)\n",
            "('দেশের', 67775)\n",
            "('দেওয়া', 67581)\n",
            "('আজ', 66575)\n",
            "('তাঁদের', 64957)\n",
            "('বাংলাদেশের', 64700)\n",
            "('দিন', 62003)\n",
            "('এমন', 60249)\n",
            "('কাছে', 60157)\n",
            "('পর্যন্ত', 59579)\n",
            "('মতো', 59505)\n",
            "('দিতে', 59304)\n",
            "('সালে', 59208)\n",
            "('ভালো', 58792)\n",
            "('বড়', 58773)\n",
            "('তাই', 56857)\n",
            "('তো', 56319)\n",
            "('কি', 55761)\n",
            "('বিভিন্ন', 54829)\n",
            "('হয়েছে', 53662)\n",
            "('হলে', 52211)\n",
            "('বলা', 52054)\n",
            "('the', 51470)\n",
            "('ওপর', 51241)\n",
            "('কী', 51111)\n",
            "('পারে।', 50657)\n",
            "('তৈরি', 50345)\n",
            "('করেছেন', 48462)\n",
            "('খুব', 48012)\n"
          ]
        }
      ]
    },
    {
      "cell_type": "code",
      "source": [
        "unique, counts = np.unique(X_pad[0] , return_counts=True)\n",
        "padded_zeros = dict(zip(unique, counts))[0]"
      ],
      "metadata": {
        "id": "v0TV93VISyoy"
      },
      "execution_count": 64,
      "outputs": []
    },
    {
      "cell_type": "code",
      "source": [
        "len(X_pad[0]) - len(X_token[0])  == padded_zeros , padded_zeros"
      ],
      "metadata": {
        "id": "X3lE7g9qTl-8",
        "colab": {
          "base_uri": "https://localhost:8080/"
        },
        "outputId": "d5594c82-8fb5-4f16-bcc4-f85d84ef9f55"
      },
      "execution_count": 65,
      "outputs": [
        {
          "output_type": "execute_result",
          "data": {
            "text/plain": [
              "(True, 127)"
            ]
          },
          "metadata": {},
          "execution_count": 65
        }
      ]
    },
    {
      "cell_type": "markdown",
      "source": [
        "## Divide dataset into train and test set "
      ],
      "metadata": {
        "id": "v82mn4YX1_f3"
      }
    },
    {
      "cell_type": "code",
      "source": [
        "from sklearn.model_selection import StratifiedShuffleSplit\n",
        "\n",
        "sss = StratifiedShuffleSplit(n_splits = 2, test_size=0.3, random_state=25)\n",
        "sss.get_n_splits(X_pad, y_ohe)\n"
      ],
      "metadata": {
        "id": "WNCTDv_hW-o8",
        "colab": {
          "base_uri": "https://localhost:8080/"
        },
        "outputId": "879e5498-1c38-4dab-c7b0-acbb8663ad51"
      },
      "execution_count": 66,
      "outputs": [
        {
          "output_type": "execute_result",
          "data": {
            "text/plain": [
              "2"
            ]
          },
          "metadata": {},
          "execution_count": 66
        }
      ]
    },
    {
      "cell_type": "code",
      "source": [
        "for train_index, test_index in sss.split(X_pad, y_ohe):\n",
        "    X_train, X_test = X_pad[train_index], X_pad[test_index]\n",
        "    y_train, y_test = y_ohe[train_index], y_ohe[test_index]"
      ],
      "metadata": {
        "id": "t1Fn6u3MiD2e"
      },
      "execution_count": 67,
      "outputs": []
    },
    {
      "cell_type": "markdown",
      "source": [
        "# Define and Train the model"
      ],
      "metadata": {
        "id": "Ta5_ddMV22fy"
      }
    },
    {
      "cell_type": "code",
      "source": [
        "# import layers \n",
        "from tensorflow.keras import Sequential\n",
        "from tensorflow.keras.layers import Embedding, Bidirectional, Dense , LSTM , GRU\n",
        "\n",
        "# embedding dimension\n",
        "embedding_dim = 16\n",
        "\n",
        "# epochs\n",
        "\n",
        "epochs = 10\n",
        "\n",
        "# batch size \n",
        "\n",
        "batch_size = 32"
      ],
      "metadata": {
        "id": "pLesbWKe9XOi"
      },
      "execution_count": 70,
      "outputs": []
    },
    {
      "cell_type": "markdown",
      "source": [
        "## LSTM model\n"
      ],
      "metadata": {
        "id": "rlT7oUisRnll"
      }
    },
    {
      "cell_type": "code",
      "source": [
        "y_train.shape"
      ],
      "metadata": {
        "colab": {
          "base_uri": "https://localhost:8080/"
        },
        "id": "NmNxBpwmtjis",
        "outputId": "330f96ec-e5c2-4715-cbeb-a9cd6e101339"
      },
      "execution_count": 69,
      "outputs": [
        {
          "output_type": "execute_result",
          "data": {
            "text/plain": [
              "(123176, 8)"
            ]
          },
          "metadata": {},
          "execution_count": 69
        }
      ]
    },
    {
      "cell_type": "code",
      "source": [
        "model_lstm = Sequential(name = \"lstm\")\n",
        "model_lstm.add(Embedding(\n",
        "    input_dim = vocab_size,\n",
        "    output_dim = embedding_dim, \n",
        "    input_length= maxlen\n",
        "))\n",
        "\n",
        "model_lstm.add(LSTM(128, return_sequences = True))\n",
        "model_lstm.add(LSTM(128))\n",
        "model_lstm.add(Dense(8,activation = 'softmax'))\n",
        "model_lstm.compile(optimizer = \"adam\",\n",
        "              loss = \"categorical_crossentropy\",\n",
        "              metrics = ['accuracy'])\n",
        "model_lstm.summary()\n"
      ],
      "metadata": {
        "id": "pMJwSqn83H5f",
        "colab": {
          "base_uri": "https://localhost:8080/"
        },
        "outputId": "0f2642e6-049c-4389-8660-bdcf0cd67f2b"
      },
      "execution_count": 71,
      "outputs": [
        {
          "output_type": "stream",
          "name": "stdout",
          "text": [
            "Model: \"lstm\"\n",
            "_________________________________________________________________\n",
            " Layer (type)                Output Shape              Param #   \n",
            "=================================================================\n",
            " embedding (Embedding)       (None, 300, 16)           26034944  \n",
            "                                                                 \n",
            " lstm (LSTM)                 (None, 300, 128)          74240     \n",
            "                                                                 \n",
            " lstm_1 (LSTM)               (None, 128)               131584    \n",
            "                                                                 \n",
            " dense (Dense)               (None, 8)                 1032      \n",
            "                                                                 \n",
            "=================================================================\n",
            "Total params: 26,241,800\n",
            "Trainable params: 26,241,800\n",
            "Non-trainable params: 0\n",
            "_________________________________________________________________\n"
          ]
        }
      ]
    },
    {
      "cell_type": "code",
      "source": [
        "import datetime\n",
        "SAVE_DIR = \"drive/MyDrive/DL_models/bangla-news-rnn/model_logs\"\n",
        "def create_tensorboard_callback(dir_name, experiment_name):\n",
        "  \n",
        "  log_dir = dir_name + \"/\" + experiment_name + \"/tensorboard/\" + datetime.datetime.now().strftime(\"%Y%m%d-%H%M%S\")\n",
        "  tensorboard_callback = tf.keras.callbacks.TensorBoard(\n",
        "      log_dir=log_dir\n",
        "  )\n",
        "  print(f\"Saving TensorBoard log files to: {log_dir}\")\n",
        "  return tensorboard_callback"
      ],
      "metadata": {
        "id": "5lg_WDGTuE67"
      },
      "execution_count": 72,
      "outputs": []
    },
    {
      "cell_type": "code",
      "source": [
        "lstm_backup_callback = tf.keras.callbacks.experimental.BackupAndRestore(\n",
        "backup_dir=\"drive/MyDrive/DL_models/bangla-news-rnn/model_logs/LSTM_MODEL/backup\")"
      ],
      "metadata": {
        "id": "Fm2EXH1ZArE1"
      },
      "execution_count": 84,
      "outputs": []
    },
    {
      "cell_type": "code",
      "source": [
        "lstm_history = model_lstm.fit(X_train, y_train,\n",
        "                    epochs=epochs,\n",
        "                    verbose=1,\n",
        "                    validation_split=0.2,\n",
        "                    batch_size=batch_size ,\n",
        "                    callbacks = [create_tensorboard_callback(SAVE_DIR,\"LSTM_MODEL\"),\n",
        "                                 lstm_backup_callback])"
      ],
      "metadata": {
        "colab": {
          "base_uri": "https://localhost:8080/"
        },
        "id": "-z4F1N0luK1r",
        "outputId": "26e1d247-0668-4105-8c50-535abb8a0821"
      },
      "execution_count": 73,
      "outputs": [
        {
          "output_type": "stream",
          "name": "stdout",
          "text": [
            "Saving TensorBoard log files to: drive/MyDrive/DL_models/bangla-news-rnn/model_logs/LSTM_MODEL/tensorboard/20220208-050751\n",
            "Saving backup files to: drive/MyDrive/DL_models/bangla-news-rnn/model_logs/LSTM_MODEL/backup_n_restore/20220208-050751\n",
            "Epoch 1/10\n",
            "3080/3080 [==============================] - 430s 137ms/step - loss: 1.1687 - accuracy: 0.5617 - val_loss: 0.6926 - val_accuracy: 0.7539\n",
            "Epoch 2/10\n",
            "3080/3080 [==============================] - 419s 136ms/step - loss: 0.4557 - accuracy: 0.8556 - val_loss: 0.3703 - val_accuracy: 0.8868\n",
            "Epoch 3/10\n",
            "3080/3080 [==============================] - 419s 136ms/step - loss: 0.2184 - accuracy: 0.9356 - val_loss: 0.2738 - val_accuracy: 0.9232\n",
            "Epoch 4/10\n",
            "3080/3080 [==============================] - 405s 132ms/step - loss: 0.1192 - accuracy: 0.9656 - val_loss: 0.2620 - val_accuracy: 0.9271\n",
            "Epoch 5/10\n",
            "3080/3080 [==============================] - 420s 136ms/step - loss: 0.0687 - accuracy: 0.9802 - val_loss: 0.2834 - val_accuracy: 0.9312\n",
            "Epoch 6/10\n",
            "3080/3080 [==============================] - 419s 136ms/step - loss: 0.0391 - accuracy: 0.9890 - val_loss: 0.2508 - val_accuracy: 0.9369\n",
            "Epoch 7/10\n",
            "3080/3080 [==============================] - 417s 135ms/step - loss: 0.0252 - accuracy: 0.9929 - val_loss: 0.2804 - val_accuracy: 0.9325\n",
            "Epoch 8/10\n",
            "3080/3080 [==============================] - 417s 135ms/step - loss: 0.0170 - accuracy: 0.9953 - val_loss: 0.3120 - val_accuracy: 0.9295\n",
            "Epoch 9/10\n",
            "3080/3080 [==============================] - 405s 131ms/step - loss: 0.0111 - accuracy: 0.9969 - val_loss: 0.2983 - val_accuracy: 0.9376\n",
            "Epoch 10/10\n",
            "3080/3080 [==============================] - 417s 135ms/step - loss: 0.0080 - accuracy: 0.9978 - val_loss: 0.3038 - val_accuracy: 0.9388\n"
          ]
        }
      ]
    },
    {
      "cell_type": "code",
      "source": [
        "!tensorboard dev upload --logdir ./drive/MyDrive/DL_models/bangla-news-rnn/model_logs \n"
      ],
      "metadata": {
        "colab": {
          "base_uri": "https://localhost:8080/"
        },
        "id": "VbcMprS7uYxb",
        "outputId": "d6f1f0f9-fe81-4df7-ee77-c86ac01fa6d5"
      },
      "execution_count": 3,
      "outputs": [
        {
          "output_type": "stream",
          "name": "stdout",
          "text": [
            "2022-02-08 10:04:17.414558: E tensorflow/stream_executor/cuda/cuda_driver.cc:271] failed call to cuInit: CUDA_ERROR_NO_DEVICE: no CUDA-capable device is detected\n",
            "Upload started and will continue reading any new data as it's added to the logdir.\n",
            "\n",
            "To stop uploading, press Ctrl-C.\n",
            "\n",
            "New experiment created. View your TensorBoard at: https://tensorboard.dev/experiment/3bYqnYEOSresaLkXUz6cnw/\n",
            "\n",
            "\u001b[1m[2022-02-08T10:04:20]\u001b[0m Started scanning logdir.\n",
            "\u001b[1m[2022-02-08T10:04:24]\u001b[0m Total uploaded: 120 scalars, 0 tensors, 2 binary objects (771.5 kB)\n",
            "\n",
            "\n",
            "Interrupted. View your TensorBoard at https://tensorboard.dev/experiment/3bYqnYEOSresaLkXUz6cnw/\n"
          ]
        }
      ]
    },
    {
      "cell_type": "code",
      "source": [
        "lstm_history.params"
      ],
      "metadata": {
        "id": "-6qn-f-W5jAn",
        "colab": {
          "base_uri": "https://localhost:8080/"
        },
        "outputId": "fd4c0b7d-74ae-422e-9fef-4b70e688c7ac"
      },
      "execution_count": 75,
      "outputs": [
        {
          "output_type": "execute_result",
          "data": {
            "text/plain": [
              "{'epochs': 10, 'steps': 3080, 'verbose': 1}"
            ]
          },
          "metadata": {},
          "execution_count": 75
        }
      ]
    },
    {
      "cell_type": "code",
      "source": [
        "lstm_history.history.keys()"
      ],
      "metadata": {
        "id": "gWJAh8uZ5tO2",
        "colab": {
          "base_uri": "https://localhost:8080/"
        },
        "outputId": "ef4a73ec-0149-4241-c86c-16b70a2eaa2e"
      },
      "execution_count": 76,
      "outputs": [
        {
          "output_type": "execute_result",
          "data": {
            "text/plain": [
              "dict_keys(['loss', 'accuracy', 'val_loss', 'val_accuracy'])"
            ]
          },
          "metadata": {},
          "execution_count": 76
        }
      ]
    },
    {
      "cell_type": "markdown",
      "source": [
        "### Plotting losses and accuracies"
      ],
      "metadata": {
        "id": "bW-kZOWklvlS"
      }
    },
    {
      "cell_type": "code",
      "source": [
        "import matplotlib.pyplot as plt\n",
        "\n",
        "plt.plot(lstm_history.history['accuracy'])\n",
        "plt.plot(lstm_history.history['val_accuracy'])\n",
        "plt.legend(['train', 'valid'])\n",
        "plt.show()\n"
      ],
      "metadata": {
        "id": "5gTUYkd9SyFQ",
        "colab": {
          "base_uri": "https://localhost:8080/",
          "height": 265
        },
        "outputId": "0b75a276-824c-4b64-e9fb-efc2d9402e33"
      },
      "execution_count": 77,
      "outputs": [
        {
          "output_type": "display_data",
          "data": {
            "image/png": "[encoded data removed]",
            "text/plain": [
              "<Figure size 432x288 with 1 Axes>"
            ]
          },
          "metadata": {
            "needs_background": "light"
          }
        }
      ]
    },
    {
      "cell_type": "code",
      "source": [
        "plt.plot(lstm_history.history['loss'])\n",
        "plt.plot(lstm_history.history['val_loss'])\n",
        "plt.legend(['train', 'valid'])\n",
        "plt.show()"
      ],
      "metadata": {
        "id": "jIKmw3NpS1oO",
        "colab": {
          "base_uri": "https://localhost:8080/",
          "height": 265
        },
        "outputId": "64909e94-e237-4952-a9a6-b7b687e4febb"
      },
      "execution_count": 78,
      "outputs": [
        {
          "output_type": "display_data",
          "data": {
            "image/png": "[encoded data removed]",
            "text/plain": [
              "<Figure size 432x288 with 1 Axes>"
            ]
          },
          "metadata": {
            "needs_background": "light"
          }
        }
      ]
    },
    {
      "cell_type": "markdown",
      "source": [
        "### saving the model"
      ],
      "metadata": {
        "id": "hOtHqLcOQnE6"
      }
    },
    {
      "cell_type": "code",
      "source": [
        "# define gloabl saving dir\n",
        "saving_dir = \"drive/MyDrive/DL_models/bangla-news-rnn/\""
      ],
      "metadata": {
        "id": "IA_7NbtW8mtq"
      },
      "execution_count": 79,
      "outputs": []
    },
    {
      "cell_type": "code",
      "source": [
        "model_lstm_save_name = \"lstm-model.h5\"\n",
        "\n",
        "saving_path_lstm =saving_dir+model_lstm_save_name\n",
        "saving_path_lstm"
      ],
      "metadata": {
        "id": "xMHfbIDBS9_m",
        "colab": {
          "base_uri": "https://localhost:8080/",
          "height": 35
        },
        "outputId": "073ad66a-460e-4d82-b063-1d370237f0c6"
      },
      "execution_count": 80,
      "outputs": [
        {
          "output_type": "execute_result",
          "data": {
            "application/vnd.google.colaboratory.intrinsic+json": {
              "type": "string"
            },
            "text/plain": [
              "'drive/MyDrive/DL_models/bangla-news-rnn/lstm-model.h5'"
            ]
          },
          "metadata": {},
          "execution_count": 80
        }
      ]
    },
    {
      "cell_type": "code",
      "source": [
        "model_lstm.save(saving_path_lstm)"
      ],
      "metadata": {
        "id": "yM-MphcRTfQO"
      },
      "execution_count": 81,
      "outputs": []
    },
    {
      "cell_type": "markdown",
      "source": [
        "### predicting and testing "
      ],
      "metadata": {
        "id": "LYpSUJOnBTQI"
      }
    },
    {
      "cell_type": "code",
      "source": [
        "lstm_model_preds_probs = model_lstm.predict(X_test)\n",
        "lstm_model_preds_probs.shape"
      ],
      "metadata": {
        "colab": {
          "base_uri": "https://localhost:8080/"
        },
        "id": "VLnRlJj_BbPB",
        "outputId": "c4ccc39e-9268-4052-f90c-7992f484bccf"
      },
      "execution_count": 86,
      "outputs": [
        {
          "output_type": "execute_result",
          "data": {
            "text/plain": [
              "(52791, 8)"
            ]
          },
          "metadata": {},
          "execution_count": 86
        }
      ]
    },
    {
      "cell_type": "code",
      "source": [
        "\n",
        "y_test_arg = np.argmax(y_test, axis = 1)"
      ],
      "metadata": {
        "id": "kvp9FqorFPPn"
      },
      "execution_count": 99,
      "outputs": []
    },
    {
      "cell_type": "code",
      "source": [
        "y_test[1], y_test_arg[1]"
      ],
      "metadata": {
        "colab": {
          "base_uri": "https://localhost:8080/"
        },
        "id": "tV38iHQ5FuQd",
        "outputId": "ed600cfe-0267-4b17-9585-6e1791f9208c"
      },
      "execution_count": 101,
      "outputs": [
        {
          "output_type": "execute_result",
          "data": {
            "text/plain": [
              "(array([0., 0., 0., 0., 0., 0., 1., 0.]), 6)"
            ]
          },
          "metadata": {},
          "execution_count": 101
        }
      ]
    },
    {
      "cell_type": "code",
      "source": [
        "y_pred_lstm = tf.math.argmax(lstm_model_preds_probs, axis = -1)\n"
      ],
      "metadata": {
        "id": "BjwI8oEbCo-1"
      },
      "execution_count": 88,
      "outputs": []
    },
    {
      "cell_type": "code",
      "source": [
        "model_lstm.evaluate(X_test, y_test)"
      ],
      "metadata": {
        "colab": {
          "base_uri": "https://localhost:8080/"
        },
        "id": "AXDd8HGSEXLr",
        "outputId": "1df77f08-8ebf-417d-9bb3-db075ed46af2"
      },
      "execution_count": 93,
      "outputs": [
        {
          "output_type": "stream",
          "name": "stdout",
          "text": [
            "1650/1650 [==============================] - 88s 53ms/step - loss: 0.3205 - accuracy: 0.9364\n"
          ]
        },
        {
          "output_type": "execute_result",
          "data": {
            "text/plain": [
              "[0.32051005959510803, 0.936409592628479]"
            ]
          },
          "metadata": {},
          "execution_count": 93
        }
      ]
    },
    {
      "cell_type": "code",
      "source": [
        "from sklearn.metrics import accuracy_score, precision_recall_fscore_support\n",
        "def calculate_results(y_true, y_pred):\n",
        "  \n",
        "  \n",
        "  model_accuracy = accuracy_score(y_true, y_pred) * 100\n",
        " \n",
        "  model_precision, model_recall, model_f1, _ = precision_recall_fscore_support(y_true, y_pred, average=\"weighted\")\n",
        "  model_results = {\"accuracy\": model_accuracy,\n",
        "                  \"precision\": model_precision,\n",
        "                  \"recall\": model_recall,\n",
        "                  \"f1\": model_f1}\n",
        "  return model_results\n"
      ],
      "metadata": {
        "id": "gsZS49JoDfJ1"
      },
      "execution_count": 103,
      "outputs": []
    },
    {
      "cell_type": "code",
      "source": [
        "lstm_results = calculate_results(y_test_arg, y_pred_lstm)\n",
        "lstm_results"
      ],
      "metadata": {
        "colab": {
          "base_uri": "https://localhost:8080/"
        },
        "id": "gfTkzZnZDiDa",
        "outputId": "250139fc-751b-489b-b41b-b0bc1711d319"
      },
      "execution_count": 104,
      "outputs": [
        {
          "output_type": "execute_result",
          "data": {
            "text/plain": [
              "{'accuracy': 93.64096152753311,\n",
              " 'f1': 0.936403091480963,\n",
              " 'precision': 0.9367717551694943,\n",
              " 'recall': 0.9364096152753311}"
            ]
          },
          "metadata": {},
          "execution_count": 104
        }
      ]
    },
    {
      "cell_type": "markdown",
      "source": [
        "## GRU model\n"
      ],
      "metadata": {
        "id": "bh0hHZ1LkNrG"
      }
    },
    {
      "cell_type": "code",
      "source": [
        "from tensorflow.keras.layers import GRU\n",
        "\n",
        "model_gru = Sequential(name = \"gru\")\n",
        "model_gru.add(Embedding(\n",
        "    input_dim = vocab_size,\n",
        "    output_dim = embedding_dim, \n",
        "    input_length= maxlen\n",
        "))\n",
        "\n",
        "model_gru.add(GRU(128, return_sequences = True))\n",
        "model_gru.add(GRU(128))\n",
        "model_gru.add(Dense(8,activation = 'softmax'))\n",
        "model_gru.compile(optimizer = \"adam\",\n",
        "              loss = \"categorical_crossentropy\",\n",
        "              metrics = ['accuracy'])\n",
        "model_gru.summary()"
      ],
      "metadata": {
        "colab": {
          "base_uri": "https://localhost:8080/"
        },
        "id": "9iVAcnNnQc5p",
        "outputId": "2ead9652-436e-45c5-bd7f-bd7c003f37d3"
      },
      "execution_count": 83,
      "outputs": [
        {
          "output_type": "stream",
          "name": "stdout",
          "text": [
            "Model: \"gru\"\n",
            "_________________________________________________________________\n",
            " Layer (type)                Output Shape              Param #   \n",
            "=================================================================\n",
            " embedding_2 (Embedding)     (None, 300, 16)           26034944  \n",
            "                                                                 \n",
            " gru_2 (GRU)                 (None, 300, 128)          56064     \n",
            "                                                                 \n",
            " gru_3 (GRU)                 (None, 128)               99072     \n",
            "                                                                 \n",
            " dense_2 (Dense)             (None, 8)                 1032      \n",
            "                                                                 \n",
            "=================================================================\n",
            "Total params: 26,191,112\n",
            "Trainable params: 26,191,112\n",
            "Non-trainable params: 0\n",
            "_________________________________________________________________\n"
          ]
        }
      ]
    },
    {
      "cell_type": "code",
      "source": [
        "gru_backup_callback = tf.keras.callbacks.experimental.BackupAndRestore(\n",
        "backup_dir=\"drive/MyDrive/DL_models/bangla-news-rnn/model_logs/GRU_MODEL/backup\")"
      ],
      "metadata": {
        "id": "2wznQGYfA97Q"
      },
      "execution_count": 105,
      "outputs": []
    },
    {
      "cell_type": "code",
      "source": [
        "gru_history = model_gru.fit(X_train, y_train,\n",
        "                    epochs=epochs,\n",
        "                    verbose=1,\n",
        "                    validation_split=0.2,\n",
        "                    batch_size=batch_size ,\n",
        "                    callbacks = [create_tensorboard_callback(SAVE_DIR,\"GRU_MODEL\"),\n",
        "                                 gru_backup_callback])"
      ],
      "metadata": {
        "id": "-QFF8IsWkrpP",
        "colab": {
          "base_uri": "https://localhost:8080/"
        },
        "outputId": "da025fe7-1fa7-42e9-c0f3-ecfb7fd6f378"
      },
      "execution_count": 106,
      "outputs": [
        {
          "output_type": "stream",
          "name": "stdout",
          "text": [
            "Saving TensorBoard log files to: drive/MyDrive/DL_models/bangla-news-rnn/model_logs/GRU_MODEL/tensorboard/20220208-065013\n",
            "Epoch 1/10\n",
            "3080/3080 [==============================] - 389s 125ms/step - loss: 0.6542 - accuracy: 0.7697 - val_loss: 0.2171 - val_accuracy: 0.9321\n",
            "Epoch 2/10\n",
            "3080/3080 [==============================] - 397s 129ms/step - loss: 0.1330 - accuracy: 0.9602 - val_loss: 0.2089 - val_accuracy: 0.9357\n",
            "Epoch 3/10\n",
            "3080/3080 [==============================] - 396s 128ms/step - loss: 0.0497 - accuracy: 0.9852 - val_loss: 0.2274 - val_accuracy: 0.9373\n",
            "Epoch 4/10\n",
            "3080/3080 [==============================] - 396s 129ms/step - loss: 0.0224 - accuracy: 0.9930 - val_loss: 0.2723 - val_accuracy: 0.9362\n",
            "Epoch 5/10\n",
            "3080/3080 [==============================] - 395s 128ms/step - loss: 0.0130 - accuracy: 0.9959 - val_loss: 0.2572 - val_accuracy: 0.9412\n",
            "Epoch 6/10\n",
            "3080/3080 [==============================] - 396s 128ms/step - loss: 0.0070 - accuracy: 0.9976 - val_loss: 0.2671 - val_accuracy: 0.9437\n",
            "Epoch 7/10\n",
            "3080/3080 [==============================] - 395s 128ms/step - loss: 0.0051 - accuracy: 0.9983 - val_loss: 0.3018 - val_accuracy: 0.9391\n",
            "Epoch 8/10\n",
            "3080/3080 [==============================] - 397s 129ms/step - loss: 0.0038 - accuracy: 0.9988 - val_loss: 0.3226 - val_accuracy: 0.9390\n",
            "Epoch 9/10\n",
            "3080/3080 [==============================] - 382s 124ms/step - loss: 0.0032 - accuracy: 0.9990 - val_loss: 0.3175 - val_accuracy: 0.9405\n",
            "Epoch 10/10\n",
            "3080/3080 [==============================] - 397s 129ms/step - loss: 0.0029 - accuracy: 0.9991 - val_loss: 0.3470 - val_accuracy: 0.9359\n"
          ]
        }
      ]
    },
    {
      "cell_type": "code",
      "source": [
        "!tensorboard dev upload --logdir ./drive/MyDrive/DL_models/bangla-news-rnn/model_logs "
      ],
      "metadata": {
        "id": "SCHRdVQhUOOV"
      },
      "execution_count": null,
      "outputs": []
    },
    {
      "cell_type": "markdown",
      "source": [
        "### plotting results"
      ],
      "metadata": {
        "id": "j4PkFzwyuv7Q"
      }
    },
    {
      "cell_type": "code",
      "source": [
        "import matplotlib.pyplot as plt\n",
        "\n",
        "plt.plot(gru_history.history['accuracy'])\n",
        "plt.plot(gru_history.history['val_accuracy'])\n",
        "plt.legend(['train', 'valid'])\n",
        "plt.show()"
      ],
      "metadata": {
        "id": "V0-8NPGKpG-C",
        "colab": {
          "base_uri": "https://localhost:8080/",
          "height": 265
        },
        "outputId": "67a12b03-8ba3-4199-c5cf-ee8a315aef4c"
      },
      "execution_count": 107,
      "outputs": [
        {
          "output_type": "display_data",
          "data": {
            "image/png": "[encoded data removed]",
            "text/plain": [
              "<Figure size 432x288 with 1 Axes>"
            ]
          },
          "metadata": {
            "needs_background": "light"
          }
        }
      ]
    },
    {
      "cell_type": "code",
      "source": [
        "import matplotlib.pyplot as plt\n",
        "\n",
        "plt.plot(gru_history.history['loss'])\n",
        "plt.plot(gru_history.history['val_loss'])\n",
        "plt.legend(['train', 'valid'])\n",
        "plt.show()"
      ],
      "metadata": {
        "id": "t-c2PNrgpR04",
        "colab": {
          "base_uri": "https://localhost:8080/",
          "height": 265
        },
        "outputId": "c8041d0a-bafd-4873-d93c-6690d4da2f53"
      },
      "execution_count": 108,
      "outputs": [
        {
          "output_type": "display_data",
          "data": {
            "image/png": "[encoded data removed]",
            "text/plain": [
              "<Figure size 432x288 with 1 Axes>"
            ]
          },
          "metadata": {
            "needs_background": "light"
          }
        }
      ]
    },
    {
      "cell_type": "markdown",
      "source": [
        "### predicting and testing"
      ],
      "metadata": {
        "id": "yg8ekHmpRGpp"
      }
    },
    {
      "cell_type": "code",
      "source": [
        "gru_model_preds_probs = model_gru.predict(X_test)\n",
        "gru_model_preds_probs.shape"
      ],
      "metadata": {
        "colab": {
          "base_uri": "https://localhost:8080/"
        },
        "id": "UB8OdfpoRLiq",
        "outputId": "31591de5-8df5-4d38-a9f9-8e0aefba5509"
      },
      "execution_count": 109,
      "outputs": [
        {
          "output_type": "execute_result",
          "data": {
            "text/plain": [
              "(52791, 8)"
            ]
          },
          "metadata": {},
          "execution_count": 109
        }
      ]
    },
    {
      "cell_type": "code",
      "source": [
        "y_pred_gru = tf.math.argmax(gru_model_preds_probs, axis = -1)"
      ],
      "metadata": {
        "id": "KG8x-bYqRqXK"
      },
      "execution_count": 110,
      "outputs": []
    },
    {
      "cell_type": "code",
      "source": [
        "gru_results = calculate_results(y_test_arg, y_pred_gru)\n",
        "gru_results"
      ],
      "metadata": {
        "colab": {
          "base_uri": "https://localhost:8080/"
        },
        "id": "c5wuqngjR0Vc",
        "outputId": "90601875-a944-474c-b879-d139725ee7bc"
      },
      "execution_count": 111,
      "outputs": [
        {
          "output_type": "execute_result",
          "data": {
            "text/plain": [
              "{'accuracy': 93.42880415222292,\n",
              " 'f1': 0.9344735576447655,\n",
              " 'precision': 0.9364714810240329,\n",
              " 'recall': 0.9342880415222292}"
            ]
          },
          "metadata": {},
          "execution_count": 111
        }
      ]
    },
    {
      "cell_type": "markdown",
      "source": [
        "### saving model weights "
      ],
      "metadata": {
        "id": "nMK-z6n0SHkB"
      }
    },
    {
      "cell_type": "code",
      "source": [
        "model_gru_save_name = \"gru-model.h5\"\n",
        "\n",
        "saving_path_gru =saving_dir+model_gru_save_name\n",
        "saving_path_gru"
      ],
      "metadata": {
        "colab": {
          "base_uri": "https://localhost:8080/",
          "height": 35
        },
        "id": "i0VSXzzJ_UXy",
        "outputId": "fe360afd-9e01-4bd4-ad31-679a305614f6"
      },
      "execution_count": 112,
      "outputs": [
        {
          "output_type": "execute_result",
          "data": {
            "application/vnd.google.colaboratory.intrinsic+json": {
              "type": "string"
            },
            "text/plain": [
              "'drive/MyDrive/DL_models/bangla-news-rnn/gru-model.h5'"
            ]
          },
          "metadata": {},
          "execution_count": 112
        }
      ]
    },
    {
      "cell_type": "code",
      "source": [
        "model_gru.save(saving_path_gru)"
      ],
      "metadata": {
        "id": "mPWr8E-Y_c_q"
      },
      "execution_count": 113,
      "outputs": []
    },
    {
      "cell_type": "markdown",
      "source": [
        "## Bidirectional LSTM"
      ],
      "metadata": {
        "id": "XalacUCMu69d"
      }
    },
    {
      "cell_type": "code",
      "source": [
        "model_bi_directional_lstm = Sequential(name = \"bidirectional_lstm\")\n",
        "model_bi_directional_lstm.add(Embedding(\n",
        "    input_dim = vocab_size,\n",
        "    output_dim = embedding_dim, \n",
        "    input_length= maxlen\n",
        "))\n",
        "\n",
        "model_bi_directional_lstm.add(Bidirectional(LSTM(128, return_sequences = True)))\n",
        "model_bi_directional_lstm.add(Bidirectional(LSTM(128)))\n",
        "model_bi_directional_lstm.add(Dense(8,activation = 'softmax'))\n",
        "model_bi_directional_lstm.compile(optimizer = \"adam\",\n",
        "              loss = \"categorical_crossentropy\",\n",
        "              metrics = ['accuracy'])\n",
        "model_bi_directional_lstm.summary()\n"
      ],
      "metadata": {
        "id": "nz1KTGoLUPDn",
        "colab": {
          "base_uri": "https://localhost:8080/"
        },
        "outputId": "bc28b818-1747-4173-c967-abf52410410d"
      },
      "execution_count": 114,
      "outputs": [
        {
          "output_type": "stream",
          "name": "stdout",
          "text": [
            "Model: \"bidirectional_lstm\"\n",
            "_________________________________________________________________\n",
            " Layer (type)                Output Shape              Param #   \n",
            "=================================================================\n",
            " embedding_3 (Embedding)     (None, 300, 16)           26034944  \n",
            "                                                                 \n",
            " bidirectional (Bidirectiona  (None, 300, 256)         148480    \n",
            " l)                                                              \n",
            "                                                                 \n",
            " bidirectional_1 (Bidirectio  (None, 256)              394240    \n",
            " nal)                                                            \n",
            "                                                                 \n",
            " dense_3 (Dense)             (None, 8)                 2056      \n",
            "                                                                 \n",
            "=================================================================\n",
            "Total params: 26,579,720\n",
            "Trainable params: 26,579,720\n",
            "Non-trainable params: 0\n",
            "_________________________________________________________________\n"
          ]
        }
      ]
    },
    {
      "cell_type": "code",
      "source": [
        "bi_lstm_backup_callback = tf.keras.callbacks.experimental.BackupAndRestore(\n",
        "backup_dir=\"drive/MyDrive/DL_models/bangla-news-rnn/model_logs/BI_LSTM_MODEL/backup\")"
      ],
      "metadata": {
        "id": "tVXFoiqaSPXt"
      },
      "execution_count": 115,
      "outputs": []
    },
    {
      "cell_type": "code",
      "source": [
        "bi_lstm_history = model_bi_directional_lstm.fit(X_train, y_train,\n",
        "                    epochs=epochs,\n",
        "                    verbose=1,\n",
        "                    validation_split=0.2,\n",
        "                    batch_size=batch_size ,\n",
        "                    callbacks = [create_tensorboard_callback(SAVE_DIR,\"BI_LSTM_MODEL\"),\n",
        "                                 bi_lstm_backup_callback])"
      ],
      "metadata": {
        "id": "rWZJ5Wrl9dsB",
        "colab": {
          "base_uri": "https://localhost:8080/"
        },
        "outputId": "56d15f30-701c-46ec-c62f-137dc3d4c209"
      },
      "execution_count": null,
      "outputs": [
        {
          "output_type": "stream",
          "name": "stdout",
          "text": [
            "Saving TensorBoard log files to: drive/MyDrive/DL_models/bangla-news-rnn/model_logs/BI_LSTM_MODEL/tensorboard/20220208-075800\n",
            "Epoch 1/10\n",
            "3080/3080 [==============================] - 876s 281ms/step - loss: 0.9353 - accuracy: 0.6650 - val_loss: 0.4921 - val_accuracy: 0.8422\n",
            "Epoch 2/10\n",
            "3080/3080 [==============================] - 804s 261ms/step - loss: 0.3081 - accuracy: 0.9034 - val_loss: 0.2400 - val_accuracy: 0.9278\n",
            "Epoch 3/10\n",
            "3080/3080 [==============================] - 803s 261ms/step - loss: 0.1327 - accuracy: 0.9607 - val_loss: 0.2072 - val_accuracy: 0.9403\n",
            "Epoch 4/10\n",
            "3080/3080 [==============================] - 864s 280ms/step - loss: 0.0621 - accuracy: 0.9817 - val_loss: 0.2311 - val_accuracy: 0.9374\n",
            "Epoch 5/10\n",
            "3080/3080 [==============================] - 803s 261ms/step - loss: 0.0322 - accuracy: 0.9907 - val_loss: 0.2149 - val_accuracy: 0.9448\n",
            "Epoch 6/10\n",
            "3080/3080 [==============================] - 803s 261ms/step - loss: 0.0172 - accuracy: 0.9948 - val_loss: 0.2636 - val_accuracy: 0.9368\n",
            "Epoch 7/10\n",
            "3080/3080 [==============================] - 802s 260ms/step - loss: 0.0112 - accuracy: 0.9967 - val_loss: 0.2927 - val_accuracy: 0.9388\n",
            "Epoch 8/10\n",
            "3080/3080 [==============================] - 801s 260ms/step - loss: 0.0077 - accuracy: 0.9977 - val_loss: 0.2974 - val_accuracy: 0.9415\n",
            "Epoch 9/10\n",
            "1505/3080 [=============>................] - ETA: 6:07 - loss: 0.0046 - accuracy: 0.9985"
          ]
        }
      ]
    },
    {
      "cell_type": "code",
      "source": [
        "!tensorboard dev upload --logdir ./drive/MyDrive/DL_models/bangla-news-rnn/model_logs "
      ],
      "metadata": {
        "colab": {
          "base_uri": "https://localhost:8080/"
        },
        "id": "cmvZYXNmUWrf",
        "outputId": "35d46f34-9136-4a06-80af-339f27d27044"
      },
      "execution_count": 1,
      "outputs": [
        {
          "output_type": "stream",
          "name": "stdout",
          "text": [
            "2022-02-08 10:01:59.149041: E tensorflow/stream_executor/cuda/cuda_driver.cc:271] failed call to cuInit: CUDA_ERROR_NO_DEVICE: no CUDA-capable device is detected\n",
            "\n",
            "***** TensorBoard Uploader *****\n",
            "\n",
            "This will upload your TensorBoard logs to https://tensorboard.dev/ from\n",
            "the following directory:\n",
            "\n",
            "./drive/MyDrive/DL_models/bangla-news-rnn/model_logs\n",
            "\n",
            "This TensorBoard will be visible to everyone. Do not upload sensitive\n",
            "data.\n",
            "\n",
            "Your use of this service is subject to Google's Terms of Service\n",
            "<https://policies.google.com/terms> and Privacy Policy\n",
            "<https://policies.google.com/privacy>, and TensorBoard.dev's Terms of Service\n",
            "<https://tensorboard.dev/policy/terms/>.\n",
            "\n",
            "This notice will not be shown again while you are logged into the uploader.\n",
            "To log out, run `tensorboard dev auth revoke`.\n",
            "\n",
            "Continue? (yes/NO) yes\n",
            "\n",
            "Please visit this URL to authorize this application: https://accounts.google.com/o/oauth2/auth?response_type=code&client_id=373649185512-8v619h5kft38l4456nm2dj4ubeqsrvh6.apps.googleusercontent.com&redirect_uri=urn%3Aietf%3Awg%3Aoauth%3A2.0%3Aoob&scope=openid+https%3A%2F%2Fwww.googleapis.com%2Fauth%2Fuserinfo.email&state=ixrodJlT2DmvHTp6HuAj7yQATHnD8s&prompt=consent&access_type=offline\n",
            "Enter the authorization code: 4/1AX4XfWjZN-k8PMSPyu0ELw4X9hFiqWrZ-UaIONneU9ahQbrckvyOnQnCLyA\n",
            "\n",
            "Upload started and will continue reading any new data as it's added to the logdir.\n",
            "\n",
            "To stop uploading, press Ctrl-C.\n",
            "\n",
            "New experiment created. View your TensorBoard at: https://tensorboard.dev/experiment/UkawXBPGQYCxRRy0QRI5tw/\n",
            "\n",
            "\u001b[1m[2022-02-08T10:02:51]\u001b[0m Started scanning logdir.\n",
            "\n",
            "\n",
            "Interrupted.\n",
            "Traceback (most recent call last):\n",
            "  File \"/usr/local/bin/tensorboard\", line 8, in <module>\n",
            "    sys.exit(run_main())\n",
            "  File \"/usr/local/lib/python3.7/dist-packages/tensorboard/main.py\", line 46, in run_main\n",
            "    app.run(tensorboard.main, flags_parser=tensorboard.configure)\n",
            "  File \"/usr/local/lib/python3.7/dist-packages/absl/app.py\", line 312, in run\n",
            "    _run_main(main, args)\n",
            "  File \"/usr/local/lib/python3.7/dist-packages/absl/app.py\", line 258, in _run_main\n",
            "    sys.exit(main(argv))\n",
            "  File \"/usr/local/lib/python3.7/dist-packages/tensorboard/program.py\", line 276, in main\n",
            "    return runner(self.flags) or 0\n",
            "  File \"/usr/local/lib/python3.7/dist-packages/tensorboard/uploader/uploader_subcommand.py\", line 657, in run\n",
            "    return _run(flags, self._experiment_url_callback)\n",
            "  File \"/usr/local/lib/python3.7/dist-packages/tensorboard/uploader/uploader_subcommand.py\", line 125, in _run\n",
            "    intent.execute(server_info, channel)\n",
            "  File \"/usr/local/lib/python3.7/dist-packages/tensorboard/uploader/uploader_subcommand.py\", line 473, in execute\n",
            "    sys.stdout.write(end_message + \"\\n\")\n",
            "KeyboardInterrupt\n"
          ]
        }
      ]
    },
    {
      "cell_type": "markdown",
      "source": [
        "### Plotting results"
      ],
      "metadata": {
        "id": "wX7gqc3n_xSu"
      }
    },
    {
      "cell_type": "code",
      "source": [
        "\n",
        "\n",
        "plt.plot(bi_lstm_history.history['accuracy'])\n",
        "plt.plot(bi_lstm_history.history['val_accuracy'])\n",
        "plt.legend(['train', 'valid'])\n",
        "plt.show()\n"
      ],
      "metadata": {
        "id": "1PJDhPGe6Xwm"
      },
      "execution_count": null,
      "outputs": []
    },
    {
      "cell_type": "code",
      "source": [
        "plt.plot(bi_lstm_history.history['loss'])\n",
        "plt.plot(bi_lstm_history.history['val_loss'])\n",
        "plt.legend(['train', 'valid'])\n",
        "plt.show()"
      ],
      "metadata": {
        "id": "-QNB-y0G6p8L"
      },
      "execution_count": null,
      "outputs": []
    },
    {
      "cell_type": "markdown",
      "source": [
        "### predicting and testing"
      ],
      "metadata": {
        "id": "e1QDMtzPTDng"
      }
    },
    {
      "cell_type": "code",
      "source": [
        "bi_lstm_model_preds_probs = model_bi_directional_lstm.predict(X_test)\n",
        "bi_lstm_model_preds_probs.shape"
      ],
      "metadata": {
        "id": "j0C3SdInTDnh"
      },
      "execution_count": null,
      "outputs": []
    },
    {
      "cell_type": "code",
      "source": [
        "y_pred_bi_lstm= tf.math.argmax(bi_lstm_model_preds_probs, axis = -1)"
      ],
      "metadata": {
        "id": "mPdCmlxMTDni"
      },
      "execution_count": null,
      "outputs": []
    },
    {
      "cell_type": "code",
      "source": [
        "bi_lstm_results = calculate_results(y_test_arg, y_pred_bi_lstm)\n",
        "bi_lstm_results"
      ],
      "metadata": {
        "id": "RlRXnmYOTDnj"
      },
      "execution_count": null,
      "outputs": []
    },
    {
      "cell_type": "markdown",
      "source": [
        "### saving model weights"
      ],
      "metadata": {
        "id": "8lp0GUcfTNrY"
      }
    },
    {
      "cell_type": "code",
      "source": [
        "model_bi_lstm_save_name = \"bi-directional-lstm-model.h5\"\n",
        "\n",
        "saving_path_bi_lstm =saving_dir+model_bi_lstm_save_name\n",
        "saving_path_bi_lstm"
      ],
      "metadata": {
        "id": "oU5cUK6d_252"
      },
      "execution_count": null,
      "outputs": []
    },
    {
      "cell_type": "code",
      "source": [
        "model_bi_directional_lstm.save(saving_path_bi_lstm)"
      ],
      "metadata": {
        "id": "76WHUszGAGLa"
      },
      "execution_count": null,
      "outputs": []
    },
    {
      "cell_type": "markdown",
      "source": [
        "## Plotting all data "
      ],
      "metadata": {
        "id": "KYz3ZEKOymr0"
      }
    },
    {
      "cell_type": "code",
      "source": [
        "fig,(lstm,gru, bi_lstm)  = plt.subplots(nrows = 3,\n",
        "                                        ncols = 1,\n",
        "                                        figsize = (15,15))\n",
        "\n",
        "\n",
        "# lstm\n",
        "lstm.plot(lstm_history.history['accuracy'])\n",
        "lstm.plot(lstm_history.history['val_accuracy'])\n",
        "lstm.legend(['train', 'valid'])\n",
        "lstm.set_title(\"LSTM accuracies\")\n",
        "\n",
        "# gru\n",
        "\n",
        "gru.plot(gru_history.history['accuracy'])\n",
        "gru.plot(gru_history.history['val_accuracy'])\n",
        "gru.legend(['train', 'valid'])\n",
        "gru.set_title(\"GRU accuracies\")\n",
        "\n",
        "# bi -lstm\n",
        "\n",
        "bi_lstm.plot(bi_lstm_history.history['accuracy'])\n",
        "bi_lstm.plot(bi_lstm_history.history['val_accuracy'])\n",
        "bi_lstm.legend(['train', 'valid'])\n",
        "bi_lstm.set_title(\"Bi-directional accuracies\")\n",
        "\n",
        "fig.suptitle(\"Training and validation accuracies with epochs\")\n",
        "\n",
        "fig.show()\n"
      ],
      "metadata": {
        "id": "LCS_gIrqran1"
      },
      "execution_count": null,
      "outputs": []
    },
    {
      "cell_type": "code",
      "source": [
        "# loss\n",
        "fig,(lstm,gru, bi_lstm)  = plt.subplots(nrows = 3,\n",
        "                                        ncols = 1,\n",
        "                                        figsize = (15,15))\n",
        "\n",
        "\n",
        "# lstm\n",
        "lstm.plot(lstm_history.history['loss'])\n",
        "lstm.plot(lstm_history.history['val_loss'])\n",
        "lstm.legend(['train', 'valid'])\n",
        "lstm.set_title(\"LSTM losses\")\n",
        "\n",
        "# gru\n",
        "\n",
        "gru.plot(gru_history.history['loss'])\n",
        "gru.plot(gru_history.history['val_loss'])\n",
        "gru.legend(['train', 'valid'])\n",
        "gru.set_title(\"GRU losses\")\n",
        "\n",
        "# bi -lstm\n",
        "\n",
        "bi_lstm.plot(bi_lstm_history.history['loss'])\n",
        "bi_lstm.plot(bi_lstm_history.history['val_loss'])\n",
        "bi_lstm.legend(['train', 'valid'])\n",
        "bi_lstm.set_title(\"Bi-directional losses\")\n",
        "\n",
        "fig.suptitle(\"Training and validation losses with epochs\")\n",
        "\n",
        "fig.show()\n"
      ],
      "metadata": {
        "id": "lRG758mSukRd"
      },
      "execution_count": null,
      "outputs": []
    },
    {
      "cell_type": "code",
      "source": [
        ""
      ],
      "metadata": {
        "id": "sS80YDmUyrbM"
      },
      "execution_count": null,
      "outputs": []
    }
  ]
}