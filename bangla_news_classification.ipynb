{
  "nbformat": 4,
  "nbformat_minor": 0,
  "metadata": {
    "colab": {
      "name": "bangla_news_classification.ipynb",
      "provenance": [],
      "collapsed_sections": []
    },
    "kernelspec": {
      "name": "python3",
      "display_name": "Python 3"
    },
    "language_info": {
      "name": "python"
    },
    "accelerator": "GPU"
  },
  "cells": [
    {
      "cell_type": "markdown",
      "source": [
        "## GPU check"
      ],
      "metadata": {
        "id": "rQvuNjlMnKm6"
      }
    },
    {
      "cell_type": "code",
      "execution_count": 1,
      "metadata": {
        "colab": {
          "base_uri": "https://localhost:8080/"
        },
        "id": "E_sQ7WOzxyOd",
        "outputId": "e5a2b033-6926-49e9-aa87-51ac67d2d217"
      },
      "outputs": [
        {
          "output_type": "stream",
          "name": "stdout",
          "text": [
            "GPU 0: Tesla K80 (UUID: GPU-f729a23a-2610-8601-e78a-668398324de7)\n"
          ]
        }
      ],
      "source": [
        "!nvidia-smi -L\n"
      ]
    },
    {
      "cell_type": "code",
      "source": [
        "import tensorflow as tf \n",
        "\n",
        "if tf.test.gpu_device_name(): \n",
        "\n",
        "    print('Default GPU Device:{}'.format(tf.test.gpu_device_name()))\n",
        "\n",
        "else:\n",
        "\n",
        "   print(\"enable gpu from runtime\")"
      ],
      "metadata": {
        "colab": {
          "base_uri": "https://localhost:8080/"
        },
        "id": "qEJCsmB-08sB",
        "outputId": "fb821712-faf8-462c-eaef-9bece346c777"
      },
      "execution_count": 2,
      "outputs": [
        {
          "output_type": "stream",
          "name": "stdout",
          "text": [
            "Default GPU Device:/device:GPU:0\n"
          ]
        }
      ]
    },
    {
      "cell_type": "markdown",
      "source": [
        "## mounting gdrive "
      ],
      "metadata": {
        "id": "GOaBnsaNnZ2w"
      }
    },
    {
      "cell_type": "code",
      "source": [
        "from google.colab import drive\n",
        "drive.mount('/content/drive')"
      ],
      "metadata": {
        "colab": {
          "base_uri": "https://localhost:8080/"
        },
        "id": "l_Go_lw82ut1",
        "outputId": "43bd78bd-181a-4bd2-fdd1-826bd7c9b5a1"
      },
      "execution_count": 3,
      "outputs": [
        {
          "output_type": "stream",
          "name": "stdout",
          "text": [
            "Mounted at /content/drive\n"
          ]
        }
      ]
    },
    {
      "cell_type": "markdown",
      "source": [
        "## Load dataset from kaggle"
      ],
      "metadata": {
        "id": "p2NEtZtLnk5M"
      }
    },
    {
      "cell_type": "code",
      "source": [
        "!pip install opendatasets --upgrade --quiet"
      ],
      "metadata": {
        "id": "kO4s_QWix7sK"
      },
      "execution_count": 4,
      "outputs": []
    },
    {
      "cell_type": "code",
      "source": [
        "dataset_url = \"https://www.kaggle.com/furcifer/bangla-newspaper-dataset?select=data_v2\"\n",
        "import opendatasets as od\n",
        "\n",
        "od.download(dataset_url)"
      ],
      "metadata": {
        "colab": {
          "base_uri": "https://localhost:8080/"
        },
        "id": "VUpXYHDMya2j",
        "outputId": "3c4aad8c-91c6-41bc-e1f1-00563af91c62"
      },
      "execution_count": 5,
      "outputs": [
        {
          "output_type": "stream",
          "name": "stdout",
          "text": [
            "Downloading bangla-newspaper-dataset.zip to ./bangla-newspaper-dataset\n"
          ]
        },
        {
          "output_type": "stream",
          "name": "stderr",
          "text": [
            "100%|██████████| 1.03G/1.03G [00:08<00:00, 133MB/s]\n"
          ]
        },
        {
          "output_type": "stream",
          "name": "stdout",
          "text": [
            "\n"
          ]
        }
      ]
    },
    {
      "cell_type": "markdown",
      "source": [
        "## Loading data from json file "
      ],
      "metadata": {
        "id": "iuiKasOxpbW0"
      }
    },
    {
      "cell_type": "code",
      "source": [
        "import json \n",
        "\n",
        "\n",
        "with open(\"bangla-newspaper-dataset/data/data.json\", encoding = \"utf-8\") as dt:\n",
        "  data = json.load(dt) "
      ],
      "metadata": {
        "id": "xGK5Ohvp0y1A"
      },
      "execution_count": 1,
      "outputs": []
    },
    {
      "cell_type": "markdown",
      "source": [
        "## Data Analysis"
      ],
      "metadata": {
        "id": "LYOgjU9Pp-Mh"
      }
    },
    {
      "cell_type": "code",
      "source": [
        "type(data)"
      ],
      "metadata": {
        "id": "A_5sBgN8-6Oz",
        "colab": {
          "base_uri": "https://localhost:8080/"
        },
        "outputId": "d53d7578-24d9-4948-ef63-8f8fe99a933f"
      },
      "execution_count": 2,
      "outputs": [
        {
          "output_type": "execute_result",
          "data": {
            "text/plain": [
              "list"
            ]
          },
          "metadata": {},
          "execution_count": 2
        }
      ]
    },
    {
      "cell_type": "code",
      "source": [
        "type(data[0])"
      ],
      "metadata": {
        "id": "OaF6NaLCOvCq",
        "colab": {
          "base_uri": "https://localhost:8080/"
        },
        "outputId": "f188918d-fcdf-4539-8fdd-07a4d4961da4"
      },
      "execution_count": 3,
      "outputs": [
        {
          "output_type": "execute_result",
          "data": {
            "text/plain": [
              "dict"
            ]
          },
          "metadata": {},
          "execution_count": 3
        }
      ]
    },
    {
      "cell_type": "code",
      "source": [
        "len(data)"
      ],
      "metadata": {
        "id": "HiuAzvlR_25I",
        "colab": {
          "base_uri": "https://localhost:8080/"
        },
        "outputId": "cd50a79e-85ce-43a0-f3b9-0b478d7edb36"
      },
      "execution_count": 4,
      "outputs": [
        {
          "output_type": "execute_result",
          "data": {
            "text/plain": [
              "437948"
            ]
          },
          "metadata": {},
          "execution_count": 4
        }
      ]
    },
    {
      "cell_type": "code",
      "source": [
        "data[0].keys()"
      ],
      "metadata": {
        "id": "j8kA2O0p_-5I",
        "colab": {
          "base_uri": "https://localhost:8080/"
        },
        "outputId": "f8ab4e17-202d-4bfd-9e06-8abcf463b124"
      },
      "execution_count": 5,
      "outputs": [
        {
          "output_type": "execute_result",
          "data": {
            "text/plain": [
              "dict_keys(['author', 'category', 'category_bn', 'published_date', 'modification_date', 'tag', 'comment_count', 'title', 'url', 'content'])"
            ]
          },
          "metadata": {},
          "execution_count": 5
        }
      ]
    },
    {
      "cell_type": "code",
      "source": [
        "data[0]"
      ],
      "metadata": {
        "id": "THmv3Izd_40u",
        "colab": {
          "base_uri": "https://localhost:8080/"
        },
        "outputId": "88c57797-5229-4630-d2ea-cb96b8984f5a"
      },
      "execution_count": 6,
      "outputs": [
        {
          "output_type": "execute_result",
          "data": {
            "text/plain": [
              "{'author': 'গাজীপুর প্রতিনিধি',\n",
              " 'category': 'bangladesh',\n",
              " 'category_bn': 'বাংলাদেশ',\n",
              " 'comment_count': 0,\n",
              " 'content': 'গাজীপুরের কালিয়াকৈর উপজেলার তেলিরচালা এলাকায় আজ বৃহস্পতিবার রাতের টিফিন খেয়ে একটি পোশাক কারখানার ৫০০ শ্রমিক অসুস্থ হয়ে পড়েছেন। এ ঘটনায় বিক্ষোভ করেছেন ওই কারখানার শ্রমিকেরা।সফিপুর মডার্ন হাসপাতালের জরুরি বিভাগের চিকিত্সক আল আমিন প্রথম আলো ডটকমকে বলেন, খাদ্যে বিষক্রিয়ায় তাঁরা (শ্রমিকেরা) অসুস্থ হয়ে পড়েছেন। এতে আতঙ্কিত হওয়ার কিছু নেই। অসুস্থদের চিকিত্সা দেওয়া হয়েছে।কারখানার শ্রমিক ও পুলিশ সূত্রে জানা যায়, উপজেলার তেলিরচালা এলাকার সেজাদ সোয়েটার লিমিটেড কারখানার শ্রমিকদের আজ রাত সাড়ে সাতটার দিকে টিফিন দেওয়া হয়। টিফিনে ছিল ডিম, রুটি, পেটিস ও কলা। টিফিন খেয়ে শ্রমিকেরা যথারীতি কাজে যোগ দেন। ওই টিফিন খাওয়ার প্রায় এক ঘণ্টা পর রাত সাড়ে আটটার দিকে কয়েকজন শ্রমিকের বমি ও পেট ব্যথা শুরু হয়। এরপর ধীরে ধীরে পুরো কারখানার শ্রমিকেরা অসুস্থ হতে থাকে। অনেকেই কারখানার মেঝেতে ঢলে পড়ে। এতে পাঁচ শতাধিক শ্রমিক অসুস্থ হয়ে পড়ে।পরে কারখানা কর্তৃপক্ষ দ্রুত যানবাহনের ব্যবস্থা করে তাদের সফিপুর জেনারেল হাসপাতাল, সফিপুর মডার্ন হাসপাতাল, উপজেলা স্বাস্থ্য কমপ্লেক্সসহ বিভিন্ন ক্লিনিকে ভর্তি করে। বাসি পচা খাবার দেওয়ায় শ্রমিকরা ক্ষুব্ধ হয়ে কারখানার সামনে বিক্ষোভ করে। খবর পেয়ে পুলিশ গিয়ে শ্রমিকদের বুঝিয়ে ও খাবার সরবরাহ প্রতিষ্ঠানের বিরুদ্ধে ব্যবস্থা নেওয়ার আশ্বাস দিলে শ্রমিকেরা শান্ত হয়।সফিপুর জেনারেল হাসপাতালে ভর্তি শ্রমিক জাকির হোসেন ও আসমা আক্তার বলেন, টিফিন খাওয়ার সময় ডিম ও কেক থেকে দুর্গন্ধ বের হচ্ছিল। এ কারণে অনেকেই ওই খাবার খায়নি। তবে বেশির ভাগ শ্রমিকই ওই খাবার খেয়েছে।কারখানার সহকারী উত্পাদন কর্মকর্তা (এপিএম) বছির উদ্দিন বলেন, টিফিনগুলি যে ঠিকাদারি প্রতিষ্ঠান কারখানায় সরবরাহ করে তাদের বিরুদ্ধে ব্যবস্থা নেওয়া হবে।মৌচাক পুলিশ ফাঁড়ির উপ-পরিদর্শক (এসআই) সৈয়দ আজহারুল ইসলাম প্রথম আলো ডটকমকে বলেন, শ্রমিকদের বুঝিয়ে শান্ত করা হয়েছে। এ ছাড়া কারখানা কর্তৃপক্ষকে খাদ্য সরবরাহ প্রতিষ্ঠানের বিরুদ্ধে ব্যবস্থা নিতে বলা হয়েছে।',\n",
              " 'modification_date': '০৪ জুলাই ২০১৩, ২৩:২৭',\n",
              " 'published_date': '০৪ জুলাই ২০১৩, ২৩:২৬',\n",
              " 'tag': ['গাজীপুর'],\n",
              " 'title': 'কালিয়াকৈরে টিফিন খেয়ে ৫০০ শ্রমিক অসুস্থ, বিক্ষোভ',\n",
              " 'url': 'http://www.prothom-alo.com/bangladesh/article/19030'}"
            ]
          },
          "metadata": {},
          "execution_count": 6
        }
      ]
    },
    {
      "cell_type": "code",
      "source": [
        "data[0]['content']"
      ],
      "metadata": {
        "id": "uJG1AeQsBkLe",
        "colab": {
          "base_uri": "https://localhost:8080/",
          "height": 106
        },
        "outputId": "9f269c08-c782-4743-c014-6d64483438bc"
      },
      "execution_count": 7,
      "outputs": [
        {
          "output_type": "execute_result",
          "data": {
            "application/vnd.google.colaboratory.intrinsic+json": {
              "type": "string"
            },
            "text/plain": [
              "'গাজীপুরের কালিয়াকৈর উপজেলার তেলিরচালা এলাকায় আজ বৃহস্পতিবার রাতের টিফিন খেয়ে একটি পোশাক কারখানার ৫০০ শ্রমিক অসুস্থ হয়ে পড়েছেন। এ ঘটনায় বিক্ষোভ করেছেন ওই কারখানার শ্রমিকেরা।সফিপুর মডার্ন হাসপাতালের জরুরি বিভাগের চিকিত্সক আল আমিন প্রথম আলো ডটকমকে বলেন, খাদ্যে বিষক্রিয়ায় তাঁরা (শ্রমিকেরা) অসুস্থ হয়ে পড়েছেন। এতে আতঙ্কিত হওয়ার কিছু নেই। অসুস্থদের চিকিত্সা দেওয়া হয়েছে।কারখানার শ্রমিক ও পুলিশ সূত্রে জানা যায়, উপজেলার তেলিরচালা এলাকার সেজাদ সোয়েটার লিমিটেড কারখানার শ্রমিকদের আজ রাত সাড়ে সাতটার দিকে টিফিন দেওয়া হয়। টিফিনে ছিল ডিম, রুটি, পেটিস ও কলা। টিফিন খেয়ে শ্রমিকেরা যথারীতি কাজে যোগ দেন। ওই টিফিন খাওয়ার প্রায় এক ঘণ্টা পর রাত সাড়ে আটটার দিকে কয়েকজন শ্রমিকের বমি ও পেট ব্যথা শুরু হয়। এরপর ধীরে ধীরে পুরো কারখানার শ্রমিকেরা অসুস্থ হতে থাকে। অনেকেই কারখানার মেঝেতে ঢলে পড়ে। এতে পাঁচ শতাধিক শ্রমিক অসুস্থ হয়ে পড়ে।পরে কারখানা কর্তৃপক্ষ দ্রুত যানবাহনের ব্যবস্থা করে তাদের সফিপুর জেনারেল হাসপাতাল, সফিপুর মডার্ন হাসপাতাল, উপজেলা স্বাস্থ্য কমপ্লেক্সসহ বিভিন্ন ক্লিনিকে ভর্তি করে। বাসি পচা খাবার দেওয়ায় শ্রমিকরা ক্ষুব্ধ হয়ে কারখানার সামনে বিক্ষোভ করে। খবর পেয়ে পুলিশ গিয়ে শ্রমিকদের বুঝিয়ে ও খাবার সরবরাহ প্রতিষ্ঠানের বিরুদ্ধে ব্যবস্থা নেওয়ার আশ্বাস দিলে শ্রমিকেরা শান্ত হয়।সফিপুর জেনারেল হাসপাতালে ভর্তি শ্রমিক জাকির হোসেন ও আসমা আক্তার বলেন, টিফিন খাওয়ার সময় ডিম ও কেক থেকে দুর্গন্ধ বের হচ্ছিল। এ কারণে অনেকেই ওই খাবার খায়নি। তবে বেশির ভাগ শ্রমিকই ওই খাবার খেয়েছে।কারখানার সহকারী উত্পাদন কর্মকর্তা (এপিএম) বছির উদ্দিন বলেন, টিফিনগুলি যে ঠিকাদারি প্রতিষ্ঠান কারখানায় সরবরাহ করে তাদের বিরুদ্ধে ব্যবস্থা নেওয়া হবে।মৌচাক পুলিশ ফাঁড়ির উপ-পরিদর্শক (এসআই) সৈয়দ আজহারুল ইসলাম প্রথম আলো ডটকমকে বলেন, শ্রমিকদের বুঝিয়ে শান্ত করা হয়েছে। এ ছাড়া কারখানা কর্তৃপক্ষকে খাদ্য সরবরাহ প্রতিষ্ঠানের বিরুদ্ধে ব্যবস্থা নিতে বলা হয়েছে।'"
            ]
          },
          "metadata": {},
          "execution_count": 7
        }
      ]
    },
    {
      "cell_type": "code",
      "source": [
        "len(data[0]['content'])"
      ],
      "metadata": {
        "id": "x8erEC_8A3Wf",
        "colab": {
          "base_uri": "https://localhost:8080/"
        },
        "outputId": "00f80235-4875-4ec9-cfaa-225a314e6fe4"
      },
      "execution_count": 8,
      "outputs": [
        {
          "output_type": "execute_result",
          "data": {
            "text/plain": [
              "1752"
            ]
          },
          "metadata": {},
          "execution_count": 8
        }
      ]
    },
    {
      "cell_type": "code",
      "source": [
        "cat_set = set(a['category'] for a in data)\n",
        "cat_set"
      ],
      "metadata": {
        "id": "_39JF77ZBZ4D",
        "colab": {
          "base_uri": "https://localhost:8080/"
        },
        "outputId": "474825a6-6766-4e28-d872-de13875ae455"
      },
      "execution_count": 9,
      "outputs": [
        {
          "output_type": "execute_result",
          "data": {
            "text/plain": [
              "{'-1',\n",
              " '22221',\n",
              " 'AskEditor',\n",
              " 'bangladesh',\n",
              " 'bondhushava',\n",
              " 'bs-events',\n",
              " 'chakri-bakri',\n",
              " 'demo-content',\n",
              " 'diverse',\n",
              " 'durporobash',\n",
              " 'economy',\n",
              " 'education',\n",
              " 'entertainment',\n",
              " 'events',\n",
              " 'facebook',\n",
              " 'international',\n",
              " 'kishoralo',\n",
              " 'life-style',\n",
              " 'mpaward1',\n",
              " 'nagorik-kantho',\n",
              " 'northamerica',\n",
              " 'onnoalo',\n",
              " 'opinion',\n",
              " 'pachmisheli',\n",
              " 'protichinta',\n",
              " 'roshalo',\n",
              " 'special-supplement',\n",
              " 'sports',\n",
              " 'tarunno',\n",
              " 'technology',\n",
              " 'trust',\n",
              " 'we-are'}"
            ]
          },
          "metadata": {},
          "execution_count": 9
        }
      ]
    },
    {
      "cell_type": "code",
      "source": [
        "len(cat_set)"
      ],
      "metadata": {
        "id": "k96QuScRBzbD",
        "colab": {
          "base_uri": "https://localhost:8080/"
        },
        "outputId": "9eb9958f-31d4-4f51-8776-945bc855bde6"
      },
      "execution_count": 10,
      "outputs": [
        {
          "output_type": "execute_result",
          "data": {
            "text/plain": [
              "32"
            ]
          },
          "metadata": {},
          "execution_count": 10
        }
      ]
    },
    {
      "cell_type": "code",
      "source": [
        "all_cat = [a['category']for a in data]"
      ],
      "metadata": {
        "id": "qiz7dloKCOVx"
      },
      "execution_count": 11,
      "outputs": []
    },
    {
      "cell_type": "code",
      "source": [
        "len(data)  == len(all_cat) , len(data)"
      ],
      "metadata": {
        "id": "IKnLbsj3B4B3",
        "colab": {
          "base_uri": "https://localhost:8080/"
        },
        "outputId": "f5dbaf64-4366-4bab-e8cc-3ed9c5ac7226"
      },
      "execution_count": 12,
      "outputs": [
        {
          "output_type": "execute_result",
          "data": {
            "text/plain": [
              "(True, 437948)"
            ]
          },
          "metadata": {},
          "execution_count": 12
        }
      ]
    },
    {
      "cell_type": "markdown",
      "source": [
        "### Select categories with data more than 7000"
      ],
      "metadata": {
        "id": "yl1R7yb3qshF"
      }
    },
    {
      "cell_type": "code",
      "source": [
        "# data in each category \n",
        "cat_count = []\n",
        "\n",
        "for cat in (cat_set):\n",
        "  cat_count.append(all_cat.count(cat))\n",
        "cat_count"
      ],
      "metadata": {
        "id": "RzWdWxuYH5oY",
        "colab": {
          "base_uri": "https://localhost:8080/"
        },
        "outputId": "9a646f6a-2649-473a-daa6-e868d4e3537b"
      },
      "execution_count": 13,
      "outputs": [
        {
          "output_type": "execute_result",
          "data": {
            "text/plain": [
              "[10852,\n",
              " 170,\n",
              " 49012,\n",
              " 1,\n",
              " 2,\n",
              " 17245,\n",
              " 859,\n",
              " 3443,\n",
              " 6990,\n",
              " 9721,\n",
              " 2,\n",
              " 12116,\n",
              " 30466,\n",
              " 123,\n",
              " 11,\n",
              " 40,\n",
              " 7402,\n",
              " 443,\n",
              " 75,\n",
              " 83,\n",
              " 990,\n",
              " 2604,\n",
              " 30856,\n",
              " 232504,\n",
              " 2999,\n",
              " 17,\n",
              " 2702,\n",
              " 1,\n",
              " 10,\n",
              " 15699,\n",
              " 2,\n",
              " 508]"
            ]
          },
          "metadata": {},
          "execution_count": 13
        }
      ]
    },
    {
      "cell_type": "code",
      "source": [
        "sorted(cat_count)[::-1]"
      ],
      "metadata": {
        "id": "vMQmdrALhbM8",
        "colab": {
          "base_uri": "https://localhost:8080/"
        },
        "outputId": "0070caef-a112-4dd8-b059-2dc54f0a73b0"
      },
      "execution_count": 14,
      "outputs": [
        {
          "output_type": "execute_result",
          "data": {
            "text/plain": [
              "[232504,\n",
              " 49012,\n",
              " 30856,\n",
              " 30466,\n",
              " 17245,\n",
              " 15699,\n",
              " 12116,\n",
              " 10852,\n",
              " 9721,\n",
              " 7402,\n",
              " 6990,\n",
              " 3443,\n",
              " 2999,\n",
              " 2702,\n",
              " 2604,\n",
              " 990,\n",
              " 859,\n",
              " 508,\n",
              " 443,\n",
              " 170,\n",
              " 123,\n",
              " 83,\n",
              " 75,\n",
              " 40,\n",
              " 17,\n",
              " 11,\n",
              " 10,\n",
              " 2,\n",
              " 2,\n",
              " 2,\n",
              " 1,\n",
              " 1]"
            ]
          },
          "metadata": {},
          "execution_count": 14
        }
      ]
    },
    {
      "cell_type": "code",
      "source": [
        "cat_set"
      ],
      "metadata": {
        "id": "sFWJk2eriOmt",
        "colab": {
          "base_uri": "https://localhost:8080/"
        },
        "outputId": "2928d493-fd7c-4225-e2e2-b5ee7cfa2d73"
      },
      "execution_count": 15,
      "outputs": [
        {
          "output_type": "execute_result",
          "data": {
            "text/plain": [
              "{'-1',\n",
              " '22221',\n",
              " 'AskEditor',\n",
              " 'bangladesh',\n",
              " 'bondhushava',\n",
              " 'bs-events',\n",
              " 'chakri-bakri',\n",
              " 'demo-content',\n",
              " 'diverse',\n",
              " 'durporobash',\n",
              " 'economy',\n",
              " 'education',\n",
              " 'entertainment',\n",
              " 'events',\n",
              " 'facebook',\n",
              " 'international',\n",
              " 'kishoralo',\n",
              " 'life-style',\n",
              " 'mpaward1',\n",
              " 'nagorik-kantho',\n",
              " 'northamerica',\n",
              " 'onnoalo',\n",
              " 'opinion',\n",
              " 'pachmisheli',\n",
              " 'protichinta',\n",
              " 'roshalo',\n",
              " 'special-supplement',\n",
              " 'sports',\n",
              " 'tarunno',\n",
              " 'technology',\n",
              " 'trust',\n",
              " 'we-are'}"
            ]
          },
          "metadata": {},
          "execution_count": 15
        }
      ]
    },
    {
      "cell_type": "code",
      "source": [
        "# bind category with their occurence\n",
        "z = zip(cat_count, cat_set)\n",
        "z = list(z)\n",
        "z"
      ],
      "metadata": {
        "id": "iJNKLSEcimM4",
        "colab": {
          "base_uri": "https://localhost:8080/"
        },
        "outputId": "f58afce0-0b3c-47f0-abf7-4fc6db4cb6a2"
      },
      "execution_count": 16,
      "outputs": [
        {
          "output_type": "execute_result",
          "data": {
            "text/plain": [
              "[(10852, 'life-style'),\n",
              " (170, 'protichinta'),\n",
              " (49012, 'sports'),\n",
              " (1, 'AskEditor'),\n",
              " (2, 'demo-content'),\n",
              " (17245, 'economy'),\n",
              " (859, 'special-supplement'),\n",
              " (3443, 'pachmisheli'),\n",
              " (6990, 'northamerica'),\n",
              " (9721, 'education'),\n",
              " (2, 'diverse'),\n",
              " (12116, 'technology'),\n",
              " (30466, 'entertainment'),\n",
              " (123, '-1'),\n",
              " (11, '22221'),\n",
              " (40, 'tarunno'),\n",
              " (7402, 'durporobash'),\n",
              " (443, 'trust'),\n",
              " (75, 'chakri-bakri'),\n",
              " (83, 'nagorik-kantho'),\n",
              " (990, 'bondhushava'),\n",
              " (2604, 'roshalo'),\n",
              " (30856, 'international'),\n",
              " (232504, 'bangladesh'),\n",
              " (2999, 'we-are'),\n",
              " (17, 'mpaward1'),\n",
              " (2702, 'onnoalo'),\n",
              " (1, 'bs-events'),\n",
              " (10, 'facebook'),\n",
              " (15699, 'opinion'),\n",
              " (2, 'events'),\n",
              " (508, 'kishoralo')]"
            ]
          },
          "metadata": {},
          "execution_count": 16
        }
      ]
    },
    {
      "cell_type": "code",
      "source": [
        "# select only categories with more than 7000 data \n",
        "sel_cats = []\n",
        "\n",
        "for i in z :\n",
        "  if i[0] > 7000:\n",
        "    sel_cats.append(i[1])"
      ],
      "metadata": {
        "id": "_1-vMaGEi5ep"
      },
      "execution_count": 17,
      "outputs": []
    },
    {
      "cell_type": "code",
      "source": [
        "sel_cats"
      ],
      "metadata": {
        "id": "hxRFviOljiWs",
        "colab": {
          "base_uri": "https://localhost:8080/"
        },
        "outputId": "4a1d26d5-9ca1-44b9-a7f6-8545974dad47"
      },
      "execution_count": 18,
      "outputs": [
        {
          "output_type": "execute_result",
          "data": {
            "text/plain": [
              "['life-style',\n",
              " 'sports',\n",
              " 'economy',\n",
              " 'education',\n",
              " 'technology',\n",
              " 'entertainment',\n",
              " 'durporobash',\n",
              " 'international',\n",
              " 'bangladesh',\n",
              " 'opinion']"
            ]
          },
          "metadata": {},
          "execution_count": 18
        }
      ]
    },
    {
      "cell_type": "code",
      "source": [
        "len(sel_cats) , len(cat_set)  # selected category vs total category "
      ],
      "metadata": {
        "id": "0XXn7w0OjjTF",
        "colab": {
          "base_uri": "https://localhost:8080/"
        },
        "outputId": "be108b06-35ef-43cd-ac3c-148c84cb8f67"
      },
      "execution_count": 19,
      "outputs": [
        {
          "output_type": "execute_result",
          "data": {
            "text/plain": [
              "(10, 32)"
            ]
          },
          "metadata": {},
          "execution_count": 19
        }
      ]
    },
    {
      "cell_type": "code",
      "source": [
        "# collect selected categories \n",
        "\n",
        "X_text = []\n",
        "y_label = []\n",
        "\n",
        "for i in data :\n",
        "  if i['category'] in sel_cats:\n",
        "    X_text.append(i['content'])\n",
        "    y_label.append(i['category'])"
      ],
      "metadata": {
        "id": "Gk5wxKYUjpGP"
      },
      "execution_count": 20,
      "outputs": []
    },
    {
      "cell_type": "code",
      "source": [
        "X_text[0]"
      ],
      "metadata": {
        "id": "loUtH2RlkVCw",
        "colab": {
          "base_uri": "https://localhost:8080/",
          "height": 106
        },
        "outputId": "000f5f40-cf4e-4acf-d178-a24ca94fa108"
      },
      "execution_count": 21,
      "outputs": [
        {
          "output_type": "execute_result",
          "data": {
            "application/vnd.google.colaboratory.intrinsic+json": {
              "type": "string"
            },
            "text/plain": [
              "'গাজীপুরের কালিয়াকৈর উপজেলার তেলিরচালা এলাকায় আজ বৃহস্পতিবার রাতের টিফিন খেয়ে একটি পোশাক কারখানার ৫০০ শ্রমিক অসুস্থ হয়ে পড়েছেন। এ ঘটনায় বিক্ষোভ করেছেন ওই কারখানার শ্রমিকেরা।সফিপুর মডার্ন হাসপাতালের জরুরি বিভাগের চিকিত্সক আল আমিন প্রথম আলো ডটকমকে বলেন, খাদ্যে বিষক্রিয়ায় তাঁরা (শ্রমিকেরা) অসুস্থ হয়ে পড়েছেন। এতে আতঙ্কিত হওয়ার কিছু নেই। অসুস্থদের চিকিত্সা দেওয়া হয়েছে।কারখানার শ্রমিক ও পুলিশ সূত্রে জানা যায়, উপজেলার তেলিরচালা এলাকার সেজাদ সোয়েটার লিমিটেড কারখানার শ্রমিকদের আজ রাত সাড়ে সাতটার দিকে টিফিন দেওয়া হয়। টিফিনে ছিল ডিম, রুটি, পেটিস ও কলা। টিফিন খেয়ে শ্রমিকেরা যথারীতি কাজে যোগ দেন। ওই টিফিন খাওয়ার প্রায় এক ঘণ্টা পর রাত সাড়ে আটটার দিকে কয়েকজন শ্রমিকের বমি ও পেট ব্যথা শুরু হয়। এরপর ধীরে ধীরে পুরো কারখানার শ্রমিকেরা অসুস্থ হতে থাকে। অনেকেই কারখানার মেঝেতে ঢলে পড়ে। এতে পাঁচ শতাধিক শ্রমিক অসুস্থ হয়ে পড়ে।পরে কারখানা কর্তৃপক্ষ দ্রুত যানবাহনের ব্যবস্থা করে তাদের সফিপুর জেনারেল হাসপাতাল, সফিপুর মডার্ন হাসপাতাল, উপজেলা স্বাস্থ্য কমপ্লেক্সসহ বিভিন্ন ক্লিনিকে ভর্তি করে। বাসি পচা খাবার দেওয়ায় শ্রমিকরা ক্ষুব্ধ হয়ে কারখানার সামনে বিক্ষোভ করে। খবর পেয়ে পুলিশ গিয়ে শ্রমিকদের বুঝিয়ে ও খাবার সরবরাহ প্রতিষ্ঠানের বিরুদ্ধে ব্যবস্থা নেওয়ার আশ্বাস দিলে শ্রমিকেরা শান্ত হয়।সফিপুর জেনারেল হাসপাতালে ভর্তি শ্রমিক জাকির হোসেন ও আসমা আক্তার বলেন, টিফিন খাওয়ার সময় ডিম ও কেক থেকে দুর্গন্ধ বের হচ্ছিল। এ কারণে অনেকেই ওই খাবার খায়নি। তবে বেশির ভাগ শ্রমিকই ওই খাবার খেয়েছে।কারখানার সহকারী উত্পাদন কর্মকর্তা (এপিএম) বছির উদ্দিন বলেন, টিফিনগুলি যে ঠিকাদারি প্রতিষ্ঠান কারখানায় সরবরাহ করে তাদের বিরুদ্ধে ব্যবস্থা নেওয়া হবে।মৌচাক পুলিশ ফাঁড়ির উপ-পরিদর্শক (এসআই) সৈয়দ আজহারুল ইসলাম প্রথম আলো ডটকমকে বলেন, শ্রমিকদের বুঝিয়ে শান্ত করা হয়েছে। এ ছাড়া কারখানা কর্তৃপক্ষকে খাদ্য সরবরাহ প্রতিষ্ঠানের বিরুদ্ধে ব্যবস্থা নিতে বলা হয়েছে।'"
            ]
          },
          "metadata": {},
          "execution_count": 21
        }
      ]
    },
    {
      "cell_type": "code",
      "source": [
        "y_label[0]"
      ],
      "metadata": {
        "id": "QUp7ahOVkXse",
        "colab": {
          "base_uri": "https://localhost:8080/",
          "height": 36
        },
        "outputId": "857ce093-96ce-4118-ea03-d2c4ee81d205"
      },
      "execution_count": 22,
      "outputs": [
        {
          "output_type": "execute_result",
          "data": {
            "application/vnd.google.colaboratory.intrinsic+json": {
              "type": "string"
            },
            "text/plain": [
              "'bangladesh'"
            ]
          },
          "metadata": {},
          "execution_count": 22
        }
      ]
    },
    {
      "cell_type": "code",
      "source": [
        "len(X_text) == len(y_label) , len(y_label)"
      ],
      "metadata": {
        "id": "BJpnHtNdkc45",
        "colab": {
          "base_uri": "https://localhost:8080/"
        },
        "outputId": "e440c1b3-2471-4da8-bc91-a7c100e717e7"
      },
      "execution_count": 23,
      "outputs": [
        {
          "output_type": "execute_result",
          "data": {
            "text/plain": [
              "(True, 415873)"
            ]
          },
          "metadata": {},
          "execution_count": 23
        }
      ]
    },
    {
      "cell_type": "code",
      "source": [
        "set(y_label)"
      ],
      "metadata": {
        "id": "Fpdxfnabkt9K",
        "colab": {
          "base_uri": "https://localhost:8080/"
        },
        "outputId": "eb9e4ac0-c86a-40db-a874-40dc7c7d2e16"
      },
      "execution_count": 24,
      "outputs": [
        {
          "output_type": "execute_result",
          "data": {
            "text/plain": [
              "{'bangladesh',\n",
              " 'durporobash',\n",
              " 'economy',\n",
              " 'education',\n",
              " 'entertainment',\n",
              " 'international',\n",
              " 'life-style',\n",
              " 'opinion',\n",
              " 'sports',\n",
              " 'technology'}"
            ]
          },
          "metadata": {},
          "execution_count": 24
        }
      ]
    },
    {
      "cell_type": "code",
      "source": [
        "sorted(sel_cats)"
      ],
      "metadata": {
        "id": "4m1IcNWNk3pT",
        "colab": {
          "base_uri": "https://localhost:8080/"
        },
        "outputId": "20f21db8-e327-4a9b-a567-c0613a488955"
      },
      "execution_count": 25,
      "outputs": [
        {
          "output_type": "execute_result",
          "data": {
            "text/plain": [
              "['bangladesh',\n",
              " 'durporobash',\n",
              " 'economy',\n",
              " 'education',\n",
              " 'entertainment',\n",
              " 'international',\n",
              " 'life-style',\n",
              " 'opinion',\n",
              " 'sports',\n",
              " 'technology']"
            ]
          },
          "metadata": {},
          "execution_count": 25
        }
      ]
    },
    {
      "cell_type": "code",
      "source": [
        "len(set(y_label)) == len(sel_cats)"
      ],
      "metadata": {
        "id": "fniWMm04k6T4",
        "colab": {
          "base_uri": "https://localhost:8080/"
        },
        "outputId": "b24897f8-a349-4d0a-b400-092dfddfc443"
      },
      "execution_count": 26,
      "outputs": [
        {
          "output_type": "execute_result",
          "data": {
            "text/plain": [
              "True"
            ]
          },
          "metadata": {},
          "execution_count": 26
        }
      ]
    },
    {
      "cell_type": "markdown",
      "source": [
        "## Convert the categorical labels to numeric \n"
      ],
      "metadata": {
        "id": "hHytrpLKk_YQ"
      }
    },
    {
      "cell_type": "code",
      "source": [
        "from sklearn.preprocessing import LabelEncoder\n",
        "encoder = LabelEncoder()\n",
        "\n",
        "class_labels = encoder.fit_transform(y_label)"
      ],
      "metadata": {
        "id": "mKV0h0dfsaic"
      },
      "execution_count": 27,
      "outputs": []
    },
    {
      "cell_type": "code",
      "source": [
        "len(class_labels) == len(y_label)"
      ],
      "metadata": {
        "id": "jcLDdyx1lZf-",
        "colab": {
          "base_uri": "https://localhost:8080/"
        },
        "outputId": "8bfdc36e-8ac0-4815-e71f-0de8b5073d7c"
      },
      "execution_count": 28,
      "outputs": [
        {
          "output_type": "execute_result",
          "data": {
            "text/plain": [
              "True"
            ]
          },
          "metadata": {},
          "execution_count": 28
        }
      ]
    },
    {
      "cell_type": "code",
      "source": [
        "set(class_labels)"
      ],
      "metadata": {
        "id": "X0jfKXGAnoLh",
        "colab": {
          "base_uri": "https://localhost:8080/"
        },
        "outputId": "8d02030b-4723-46ff-b501-0853fc56bf9e"
      },
      "execution_count": 29,
      "outputs": [
        {
          "output_type": "execute_result",
          "data": {
            "text/plain": [
              "{0, 1, 2, 3, 4, 5, 6, 7, 8, 9}"
            ]
          },
          "metadata": {},
          "execution_count": 29
        }
      ]
    },
    {
      "cell_type": "code",
      "source": [
        "encoder.inverse_transform(list(set(class_labels)))"
      ],
      "metadata": {
        "id": "8URY302Yl9Od",
        "colab": {
          "base_uri": "https://localhost:8080/"
        },
        "outputId": "a52c2787-ec06-4667-bff9-63e3263b054e"
      },
      "execution_count": 30,
      "outputs": [
        {
          "output_type": "execute_result",
          "data": {
            "text/plain": [
              "array(['bangladesh', 'durporobash', 'economy', 'education',\n",
              "       'entertainment', 'international', 'life-style', 'opinion',\n",
              "       'sports', 'technology'], dtype='<U13')"
            ]
          },
          "metadata": {},
          "execution_count": 30
        }
      ]
    },
    {
      "cell_type": "code",
      "source": [
        "list(zip(set(class_labels), list(encoder.inverse_transform(list(set(class_labels))))))"
      ],
      "metadata": {
        "id": "bMiV_giUnzKA",
        "colab": {
          "base_uri": "https://localhost:8080/"
        },
        "outputId": "d9ef0421-68f3-404f-ed74-5dcb4b9f1c9a"
      },
      "execution_count": 31,
      "outputs": [
        {
          "output_type": "execute_result",
          "data": {
            "text/plain": [
              "[(0, 'bangladesh'),\n",
              " (1, 'durporobash'),\n",
              " (2, 'economy'),\n",
              " (3, 'education'),\n",
              " (4, 'entertainment'),\n",
              " (5, 'international'),\n",
              " (6, 'life-style'),\n",
              " (7, 'opinion'),\n",
              " (8, 'sports'),\n",
              " (9, 'technology')]"
            ]
          },
          "metadata": {},
          "execution_count": 31
        }
      ]
    },
    {
      "cell_type": "code",
      "source": [
        "type(class_labels) "
      ],
      "metadata": {
        "id": "uDEgO-dOoTQf",
        "colab": {
          "base_uri": "https://localhost:8080/"
        },
        "outputId": "9915aa6f-8be3-4237-c2a1-867e1dba5954"
      },
      "execution_count": 32,
      "outputs": [
        {
          "output_type": "execute_result",
          "data": {
            "text/plain": [
              "numpy.ndarray"
            ]
          },
          "metadata": {},
          "execution_count": 32
        }
      ]
    },
    {
      "cell_type": "code",
      "source": [
        "class_labels.shape"
      ],
      "metadata": {
        "id": "6kXMWALyokqV",
        "colab": {
          "base_uri": "https://localhost:8080/"
        },
        "outputId": "18166ba7-a964-4063-de63-269bf2d2778b"
      },
      "execution_count": 33,
      "outputs": [
        {
          "output_type": "execute_result",
          "data": {
            "text/plain": [
              "(415873,)"
            ]
          },
          "metadata": {},
          "execution_count": 33
        }
      ]
    },
    {
      "cell_type": "code",
      "source": [
        "import numpy as np\n",
        "np.shape(np.reshape(class_labels, newshape=(class_labels.shape[0], 1)))"
      ],
      "metadata": {
        "id": "EqpNq3iCooMu",
        "colab": {
          "base_uri": "https://localhost:8080/"
        },
        "outputId": "c0ad09f1-ac11-4e2f-b74c-d0dcccbb533f"
      },
      "execution_count": 34,
      "outputs": [
        {
          "output_type": "execute_result",
          "data": {
            "text/plain": [
              "(415873, 1)"
            ]
          },
          "metadata": {},
          "execution_count": 34
        }
      ]
    },
    {
      "cell_type": "code",
      "source": [
        "# apply one hot encoding to the class label for binary encoding\n",
        "from sklearn.preprocessing import OneHotEncoder\n",
        "encoder = OneHotEncoder(sparse = False)\n",
        "\n",
        "class_labels = class_labels.reshape((class_labels.shape[0],1))\n",
        "y_ohe = encoder.fit_transform(class_labels)"
      ],
      "metadata": {
        "id": "dshKIoIppXmd"
      },
      "execution_count": 35,
      "outputs": []
    },
    {
      "cell_type": "code",
      "source": [
        "y_ohe.shape"
      ],
      "metadata": {
        "id": "kHC4LTyQ5fNU",
        "colab": {
          "base_uri": "https://localhost:8080/"
        },
        "outputId": "9a299c94-b760-40da-8cc6-d7c36b2b3519"
      },
      "execution_count": 36,
      "outputs": [
        {
          "output_type": "execute_result",
          "data": {
            "text/plain": [
              "(415873, 10)"
            ]
          },
          "metadata": {},
          "execution_count": 36
        }
      ]
    },
    {
      "cell_type": "code",
      "source": [
        "y_ohe[1]"
      ],
      "metadata": {
        "id": "T6eiXEqO5hjQ",
        "colab": {
          "base_uri": "https://localhost:8080/"
        },
        "outputId": "74c06274-d7ff-4ebf-d5b4-f7add3a476a3"
      },
      "execution_count": 37,
      "outputs": [
        {
          "output_type": "execute_result",
          "data": {
            "text/plain": [
              "array([0., 0., 0., 0., 0., 0., 0., 0., 1., 0.])"
            ]
          },
          "metadata": {},
          "execution_count": 37
        }
      ]
    },
    {
      "cell_type": "code",
      "source": [
        "class_labels[1]"
      ],
      "metadata": {
        "id": "r8osnsFn5mQV",
        "colab": {
          "base_uri": "https://localhost:8080/"
        },
        "outputId": "0f9aeb4c-3aec-45c2-ce0c-db79bf09da9d"
      },
      "execution_count": 38,
      "outputs": [
        {
          "output_type": "execute_result",
          "data": {
            "text/plain": [
              "array([8])"
            ]
          },
          "metadata": {},
          "execution_count": 38
        }
      ]
    },
    {
      "cell_type": "markdown",
      "source": [
        "## tokenize the texts input to convert tokens to numeric\n"
      ],
      "metadata": {
        "id": "PSRNU4qO6S0r"
      }
    },
    {
      "cell_type": "code",
      "source": [
        "X_text[0]"
      ],
      "metadata": {
        "id": "lTEbqAb-66hV",
        "colab": {
          "base_uri": "https://localhost:8080/",
          "height": 106
        },
        "outputId": "075704f3-4487-4ee1-a4cd-175cfd5ec907"
      },
      "execution_count": 39,
      "outputs": [
        {
          "output_type": "execute_result",
          "data": {
            "application/vnd.google.colaboratory.intrinsic+json": {
              "type": "string"
            },
            "text/plain": [
              "'গাজীপুরের কালিয়াকৈর উপজেলার তেলিরচালা এলাকায় আজ বৃহস্পতিবার রাতের টিফিন খেয়ে একটি পোশাক কারখানার ৫০০ শ্রমিক অসুস্থ হয়ে পড়েছেন। এ ঘটনায় বিক্ষোভ করেছেন ওই কারখানার শ্রমিকেরা।সফিপুর মডার্ন হাসপাতালের জরুরি বিভাগের চিকিত্সক আল আমিন প্রথম আলো ডটকমকে বলেন, খাদ্যে বিষক্রিয়ায় তাঁরা (শ্রমিকেরা) অসুস্থ হয়ে পড়েছেন। এতে আতঙ্কিত হওয়ার কিছু নেই। অসুস্থদের চিকিত্সা দেওয়া হয়েছে।কারখানার শ্রমিক ও পুলিশ সূত্রে জানা যায়, উপজেলার তেলিরচালা এলাকার সেজাদ সোয়েটার লিমিটেড কারখানার শ্রমিকদের আজ রাত সাড়ে সাতটার দিকে টিফিন দেওয়া হয়। টিফিনে ছিল ডিম, রুটি, পেটিস ও কলা। টিফিন খেয়ে শ্রমিকেরা যথারীতি কাজে যোগ দেন। ওই টিফিন খাওয়ার প্রায় এক ঘণ্টা পর রাত সাড়ে আটটার দিকে কয়েকজন শ্রমিকের বমি ও পেট ব্যথা শুরু হয়। এরপর ধীরে ধীরে পুরো কারখানার শ্রমিকেরা অসুস্থ হতে থাকে। অনেকেই কারখানার মেঝেতে ঢলে পড়ে। এতে পাঁচ শতাধিক শ্রমিক অসুস্থ হয়ে পড়ে।পরে কারখানা কর্তৃপক্ষ দ্রুত যানবাহনের ব্যবস্থা করে তাদের সফিপুর জেনারেল হাসপাতাল, সফিপুর মডার্ন হাসপাতাল, উপজেলা স্বাস্থ্য কমপ্লেক্সসহ বিভিন্ন ক্লিনিকে ভর্তি করে। বাসি পচা খাবার দেওয়ায় শ্রমিকরা ক্ষুব্ধ হয়ে কারখানার সামনে বিক্ষোভ করে। খবর পেয়ে পুলিশ গিয়ে শ্রমিকদের বুঝিয়ে ও খাবার সরবরাহ প্রতিষ্ঠানের বিরুদ্ধে ব্যবস্থা নেওয়ার আশ্বাস দিলে শ্রমিকেরা শান্ত হয়।সফিপুর জেনারেল হাসপাতালে ভর্তি শ্রমিক জাকির হোসেন ও আসমা আক্তার বলেন, টিফিন খাওয়ার সময় ডিম ও কেক থেকে দুর্গন্ধ বের হচ্ছিল। এ কারণে অনেকেই ওই খাবার খায়নি। তবে বেশির ভাগ শ্রমিকই ওই খাবার খেয়েছে।কারখানার সহকারী উত্পাদন কর্মকর্তা (এপিএম) বছির উদ্দিন বলেন, টিফিনগুলি যে ঠিকাদারি প্রতিষ্ঠান কারখানায় সরবরাহ করে তাদের বিরুদ্ধে ব্যবস্থা নেওয়া হবে।মৌচাক পুলিশ ফাঁড়ির উপ-পরিদর্শক (এসআই) সৈয়দ আজহারুল ইসলাম প্রথম আলো ডটকমকে বলেন, শ্রমিকদের বুঝিয়ে শান্ত করা হয়েছে। এ ছাড়া কারখানা কর্তৃপক্ষকে খাদ্য সরবরাহ প্রতিষ্ঠানের বিরুদ্ধে ব্যবস্থা নিতে বলা হয়েছে।'"
            ]
          },
          "metadata": {},
          "execution_count": 39
        }
      ]
    },
    {
      "cell_type": "code",
      "source": [
        "from tensorflow.keras.preprocessing.text import Tokenizer\n",
        "\n",
        "tokenizer = Tokenizer()\n",
        "tokenizer.fit_on_texts(X_text) # Only words known by the tokenizer will be taken into account\n",
        "X_token = tokenizer.texts_to_sequences(X_text) # Transforms each text in texts to a sequence of integers\n"
      ],
      "metadata": {
        "id": "PxM1dbb-62lk"
      },
      "execution_count": 40,
      "outputs": []
    },
    {
      "cell_type": "code",
      "source": [
        "type(tokenizer.word_index)"
      ],
      "metadata": {
        "id": "MRVVC5VR8JV4",
        "colab": {
          "base_uri": "https://localhost:8080/"
        },
        "outputId": "745d2cbc-0038-4512-bb5c-d13c48573d95"
      },
      "execution_count": 41,
      "outputs": [
        {
          "output_type": "execute_result",
          "data": {
            "text/plain": [
              "dict"
            ]
          },
          "metadata": {},
          "execution_count": 41
        }
      ]
    },
    {
      "cell_type": "code",
      "source": [
        "for index, token  in enumerate(tokenizer.word_index):\n",
        "  print(token)\n",
        "  if index == 10:\n",
        "    break\n"
      ],
      "metadata": {
        "id": "2KYoJkRB9tES",
        "colab": {
          "base_uri": "https://localhost:8080/"
        },
        "outputId": "cd654845-f639-4373-e14a-3398a2dd7a90"
      },
      "execution_count": 42,
      "outputs": [
        {
          "output_type": "stream",
          "name": "stdout",
          "text": [
            "ও\n",
            "এ\n",
            "থেকে\n",
            "করে\n",
            "করা\n",
            "বলেন\n",
            "এই\n",
            "না\n",
            "জন্য\n",
            "তিনি\n",
            "সঙ্গে\n"
          ]
        }
      ]
    },
    {
      "cell_type": "code",
      "source": [
        "vocab_size = len(tokenizer.word_index)+1 \n",
        "vocab_size"
      ],
      "metadata": {
        "id": "GbFDkT_j8INV",
        "colab": {
          "base_uri": "https://localhost:8080/"
        },
        "outputId": "37100d04-4c9b-4270-d0ac-bebede26a7dc"
      },
      "execution_count": 43,
      "outputs": [
        {
          "output_type": "execute_result",
          "data": {
            "text/plain": [
              "2497356"
            ]
          },
          "metadata": {},
          "execution_count": 43
        }
      ]
    },
    {
      "cell_type": "code",
      "source": [
        "tokenizer.texts_to_sequences([\"আমার নাম ফয়সাল\"])"
      ],
      "metadata": {
        "id": "-OasTnc271KB",
        "colab": {
          "base_uri": "https://localhost:8080/"
        },
        "outputId": "0fee837a-73cc-45dc-e592-f851b0e2e067"
      },
      "execution_count": 44,
      "outputs": [
        {
          "output_type": "execute_result",
          "data": {
            "text/plain": [
              "[[83, 157, 18543]]"
            ]
          },
          "metadata": {},
          "execution_count": 44
        }
      ]
    },
    {
      "cell_type": "code",
      "source": [
        "print(X_text[5])\n",
        "print(X_token[5])"
      ],
      "metadata": {
        "id": "tAZPyEosAE48",
        "colab": {
          "base_uri": "https://localhost:8080/"
        },
        "outputId": "9479e663-af3d-44cb-84bb-0cea0709301d"
      },
      "execution_count": 45,
      "outputs": [
        {
          "output_type": "stream",
          "name": "stdout",
          "text": [
            "গুগলের মোবাইল অপারেটিং সিস্টেম অ্যান্ড্রয়েডের বড় ধরনের ত্রুটির খোঁজ পেয়েছেন বলে দাবি করেছেন যুক্তরাষ্ট্রের প্রযুক্তি নিরাপত্তা গবেষণা প্রতিষ্ঠান ব্লুবক্সের গবেষকেরা। গবেষকেরা বলছেন, অ্যান্ড্রয়েডের দুর্বলতা বা বাগ হিসেবে একটি ‘মাস্টার কী’-এর খোঁজ পেয়েছেন তাঁরা। এ সফটওয়্যার ত্রুটির কারণে সাইবার অপরাধীরা অ্যান্ড্রয়েড স্মার্টফোন থেকে তথ্য চুরি করতে পারে। এক খবরে এ তথ্য জানিয়েছে বিবিসি অনলাইন। গবেষকেদের দাবি, অ্যান্ড্রয়েড সফটওয়্যারের এই ত্রুটি ২০০৯ সালের পর থেকে উন্মুক্ত সব সংস্করণেই রয়েছে। ক্রিপটোগ্রাফিক ভেরিফিকেশন প্রক্রিয়ার দুর্বলতার কারণেই অ্যান্ড্রয়েডে অতিরিক্ত ম্যালওয়্যারের আক্রমণ দেখা যায়। ক্রিপটোগ্রাফিক ভেরিফিকেশন প্রক্রিয়ার মাধ্যমে বিভিন্ন অ্যাপ্লিকেশন পরীক্ষা করে দেখা হয়।  চলতি বছরের আগস্ট মাসে অনুষ্ঠিতব্য ব্ল্যাক হ্যাক হ্যাকারস সম্মেলনে অ্যান্ড্রয়েডের এ ত্রুটির বিস্তারিত জানানোর কথা জানিয়েছেন গবেষকেরা। অ্যান্ড্রয়েডের সফটওয়্যার ত্রুটির বিষয়ে গুগল কর্তৃপক্ষ আনুষ্ঠানিকভাবে কোনো মন্তব্য করেনি।\n",
            "[5200, 1280, 4961, 4314, 45265, 529, 159, 9617, 2182, 5273, 27, 131, 111, 696, 1009, 561, 964, 497, 540252, 14349, 4427, 744, 45265, 5857, 52, 28424, 67, 14, 47693, 73151, 25, 2182, 5273, 1376, 2, 10840, 9617, 101, 4377, 13653, 16398, 2768, 3, 171, 2069, 16, 215, 13, 1367, 2, 171, 3338, 3328, 819393, 131, 16398, 37270, 7, 4131, 1875, 148, 22, 3, 2358, 57, 26238, 1552, 277986, 35117, 17253, 12598, 1263, 106412, 469, 135588, 2495, 71, 1156, 277986, 35117, 17253, 163, 56, 9288, 414, 4, 71, 230, 310488, 146, 614, 445, 21845, 8916, 11327, 175135, 471, 45265, 2, 9617, 2086, 4217, 28, 2808, 819394, 10840, 9617, 961, 3281, 780, 2359, 31, 682, 2355]\n"
          ]
        }
      ]
    },
    {
      "cell_type": "code",
      "source": [
        "len(X_text[5]) , len(X_token[5]) "
      ],
      "metadata": {
        "id": "s8ek1D-JAo-D",
        "colab": {
          "base_uri": "https://localhost:8080/"
        },
        "outputId": "39c018e3-406f-46d9-eb9c-a7754329b28f"
      },
      "execution_count": 46,
      "outputs": [
        {
          "output_type": "execute_result",
          "data": {
            "text/plain": [
              "(930, 114)"
            ]
          },
          "metadata": {},
          "execution_count": 46
        }
      ]
    },
    {
      "cell_type": "code",
      "source": [
        "for i in \"আমার নাম ফয়সাল\":\n",
        "  print(i)"
      ],
      "metadata": {
        "id": "dXQtBEIZDC4s",
        "colab": {
          "base_uri": "https://localhost:8080/"
        },
        "outputId": "dd3442aa-8148-4147-c411-13d01890766c"
      },
      "execution_count": 47,
      "outputs": [
        {
          "output_type": "stream",
          "name": "stdout",
          "text": [
            "আ\n",
            "ম\n",
            "া\n",
            "র\n",
            " \n",
            "ন\n",
            "া\n",
            "ম\n",
            " \n",
            "ফ\n",
            "য\n",
            "়\n",
            "স\n",
            "া\n",
            "ল\n"
          ]
        }
      ]
    },
    {
      "cell_type": "code",
      "source": [
        "len(\"আমার নাম ফয়সাল\")"
      ],
      "metadata": {
        "id": "8Xnv0rc1DLJ7",
        "colab": {
          "base_uri": "https://localhost:8080/"
        },
        "outputId": "f3426212-8a0b-4b69-f580-0836c5359858"
      },
      "execution_count": 48,
      "outputs": [
        {
          "output_type": "execute_result",
          "data": {
            "text/plain": [
              "15"
            ]
          },
          "metadata": {},
          "execution_count": 48
        }
      ]
    },
    {
      "cell_type": "code",
      "source": [
        "if \"ফয়সাল\" in tokenizer.word_index:\n",
        "  print(tokenizer.word_index[\"ফয়সাল\"])"
      ],
      "metadata": {
        "id": "VT4yBZgxK2V5",
        "colab": {
          "base_uri": "https://localhost:8080/"
        },
        "outputId": "33c22ed1-97fb-4c13-98d8-acbd9fb83b73"
      },
      "execution_count": 49,
      "outputs": [
        {
          "output_type": "stream",
          "name": "stdout",
          "text": [
            "18543\n"
          ]
        }
      ]
    },
    {
      "cell_type": "code",
      "source": [
        "tokenizer.sequences_to_texts([X_token[5]])"
      ],
      "metadata": {
        "id": "GdbPmwrXAywg",
        "colab": {
          "base_uri": "https://localhost:8080/"
        },
        "outputId": "238f7370-38c3-41b1-99a7-2b317fd50bb6"
      },
      "execution_count": 50,
      "outputs": [
        {
          "output_type": "execute_result",
          "data": {
            "text/plain": [
              "['গুগলের মোবাইল অপারেটিং সিস্টেম অ্যান্ড্রয়েডের বড় ধরনের ত্রুটির খোঁজ পেয়েছেন বলে দাবি করেছেন যুক্তরাষ্ট্রের প্রযুক্তি নিরাপত্তা গবেষণা প্রতিষ্ঠান ব্লুবক্সের গবেষকেরা। গবেষকেরা বলছেন অ্যান্ড্রয়েডের দুর্বলতা বা বাগ হিসেবে একটি ‘মাস্টার কী’ এর খোঁজ পেয়েছেন তাঁরা। এ সফটওয়্যার ত্রুটির কারণে সাইবার অপরাধীরা অ্যান্ড্রয়েড স্মার্টফোন থেকে তথ্য চুরি করতে পারে। এক খবরে এ তথ্য জানিয়েছে বিবিসি অনলাইন।\\xa0গবেষকেদের দাবি অ্যান্ড্রয়েড সফটওয়্যারের এই ত্রুটি ২০০৯ সালের পর থেকে উন্মুক্ত সব সংস্করণেই রয়েছে। ক্রিপটোগ্রাফিক ভেরিফিকেশন প্রক্রিয়ার দুর্বলতার কারণেই অ্যান্ড্রয়েডে অতিরিক্ত ম্যালওয়্যারের আক্রমণ দেখা যায়। ক্রিপটোগ্রাফিক ভেরিফিকেশন প্রক্রিয়ার মাধ্যমে বিভিন্ন অ্যাপ্লিকেশন পরীক্ষা করে দেখা হয়। \\xa0চলতি বছরের আগস্ট মাসে অনুষ্ঠিতব্য ব্ল্যাক হ্যাক হ্যাকারস সম্মেলনে অ্যান্ড্রয়েডের এ ত্রুটির বিস্তারিত জানানোর কথা জানিয়েছেন গবেষকেরা।\\xa0অ্যান্ড্রয়েডের সফটওয়্যার ত্রুটির বিষয়ে গুগল কর্তৃপক্ষ আনুষ্ঠানিকভাবে কোনো মন্তব্য করেনি।']"
            ]
          },
          "metadata": {},
          "execution_count": 50
        }
      ]
    },
    {
      "cell_type": "markdown",
      "source": [
        "## pad the sequences\n"
      ],
      "metadata": {
        "id": "KK7r6CJWBDZI"
      }
    },
    {
      "cell_type": "code",
      "source": [
        "from tensorflow.keras.preprocessing.sequence import pad_sequences\n",
        "\n",
        "maxlen = 300\n",
        "\n",
        "X_pad = pad_sequences(X_token, padding = \"post\", maxlen = maxlen)\n",
        "\n"
      ],
      "metadata": {
        "id": "BAlhJWH3CGer"
      },
      "execution_count": 51,
      "outputs": []
    },
    {
      "cell_type": "code",
      "source": [
        "type(X_pad)"
      ],
      "metadata": {
        "id": "tcVLX6ldvqUf",
        "colab": {
          "base_uri": "https://localhost:8080/"
        },
        "outputId": "bc4d0f4e-68e3-4ea0-a17e-72042922a3ac"
      },
      "execution_count": 52,
      "outputs": [
        {
          "output_type": "execute_result",
          "data": {
            "text/plain": [
              "numpy.ndarray"
            ]
          },
          "metadata": {},
          "execution_count": 52
        }
      ]
    },
    {
      "cell_type": "code",
      "source": [
        "X_pad.shape"
      ],
      "metadata": {
        "id": "RbSm-KRCM53-",
        "colab": {
          "base_uri": "https://localhost:8080/"
        },
        "outputId": "7bbd54e0-1818-4ad7-9c3c-3b3d8f739578"
      },
      "execution_count": 53,
      "outputs": [
        {
          "output_type": "execute_result",
          "data": {
            "text/plain": [
              "(415873, 300)"
            ]
          },
          "metadata": {},
          "execution_count": 53
        }
      ]
    },
    {
      "cell_type": "code",
      "source": [
        "y_ohe.shape"
      ],
      "metadata": {
        "id": "KQyMMlM9SWsv",
        "colab": {
          "base_uri": "https://localhost:8080/"
        },
        "outputId": "aad8581d-b703-4873-d6d3-15797fae9b44"
      },
      "execution_count": 54,
      "outputs": [
        {
          "output_type": "execute_result",
          "data": {
            "text/plain": [
              "(415873, 10)"
            ]
          },
          "metadata": {},
          "execution_count": 54
        }
      ]
    },
    {
      "cell_type": "code",
      "source": [
        "vocab_size"
      ],
      "metadata": {
        "id": "ipRvExXQQCI9",
        "colab": {
          "base_uri": "https://localhost:8080/"
        },
        "outputId": "83aecefd-3927-4b56-ea67-92bd07868d0e"
      },
      "execution_count": 55,
      "outputs": [
        {
          "output_type": "execute_result",
          "data": {
            "text/plain": [
              "2497356"
            ]
          },
          "metadata": {},
          "execution_count": 55
        }
      ]
    },
    {
      "cell_type": "code",
      "source": [
        "maxlen"
      ],
      "metadata": {
        "id": "p2rkMPgGSUtM",
        "colab": {
          "base_uri": "https://localhost:8080/"
        },
        "outputId": "b6ee26d8-5452-4281-f9a4-0246efec1aad"
      },
      "execution_count": 56,
      "outputs": [
        {
          "output_type": "execute_result",
          "data": {
            "text/plain": [
              "300"
            ]
          },
          "metadata": {},
          "execution_count": 56
        }
      ]
    },
    {
      "cell_type": "code",
      "source": [
        "X_pad[0]"
      ],
      "metadata": {
        "id": "SY0XvXqBSeBN",
        "colab": {
          "base_uri": "https://localhost:8080/"
        },
        "outputId": "4d8c5306-e4e2-49ac-c6c1-bd0eac1c9da2"
      },
      "execution_count": 57,
      "outputs": [
        {
          "output_type": "execute_result",
          "data": {
            "text/plain": [
              "array([  2423,  17699,     97,  84743,    862,     62,    243,   2294,\n",
              "        17904,   9439,     14,   1042,   1570,   1125,    671,   1702,\n",
              "          363,  12546,      2,   1225,   1366,    111,     26,   1570,\n",
              "       819364,  17721,    639,   1131,    224,  10265,    425,   1327,\n",
              "           24,    729,   6338,      6,  11512,  66741,     69,   2397,\n",
              "         1702,    363,  12546,    110,   7557,   1160,     63,    142,\n",
              "        97133,   9903,    403, 217932,    671,      1,     60,    394,\n",
              "          147,    890,     97,  84743,    228, 355379,  45492,   2482,\n",
              "         1570,   1457,     62,    261,    848,   3270,     74,  17904,\n",
              "          403,    230,  78381,     49,   3253,   8881, 131797,      1,\n",
              "        84744,  17904,   9439,   2397,   8553,    462,    629,    246,\n",
              "           26,  17904,  11809,    853,     13,    670,     22,    261,\n",
              "          848,   2049,     74,   2415,   3564,   9503,      1,   7770,\n",
              "         3051,     48,    230,    207,   1550,   1550,    694,   1570,\n",
              "         2397,   1702,     89,    493,    918,   1570,   7764,  10172,\n",
              "         3039,    110,    232,   1309,    671,   1702,    363, 204802,\n",
              "         1648,    780,    521,   3967,    226,      4,     81,  27768,\n",
              "          754,   1065,  27768,  17721,   1065,    108,    479,  46173,\n",
              "           56,   5967,    411,    118,  21183,  11226,    788,   7636,\n",
              "       124794,   2560,    363,   1570,    197,   1366,    118,    280,\n",
              "         2202,     60,   1198,   1457,  14222,      1,    788,   1177,\n",
              "          708,    102,    226,   2042,   2517,    857,   2397,   3337,\n",
              "       819365,    754,    259,    411,    671,   2203,    136,      1,\n",
              "        10568,   1028,      6,  17904,  11809,    336,   3253,      1,\n",
              "         6058,      3,   9032,    327,   3721,      2,    101,    918,\n",
              "           26,    788, 310484,     37,    783,    562,  50867,     26,\n",
              "          788, 819366,    372,  15004,     82, 310485,  68038,    330,\n",
              "            6, 819367,     32,   4704,    497,   8380,   1177,      4,\n",
              "           81,    102,    226,   1074, 540242,     60,  10295,   6467,\n",
              "         1548,    994,   3942,  11347,     94,     24,    729,   6338,\n",
              "            6,   1457,  14222,   3337,      5,    288,      2,    553,\n",
              "         1648,   3318,   1651,   1177,    708,    102,    226,    191,\n",
              "          116,    288,      0,      0,      0,      0,      0,      0,\n",
              "            0,      0,      0,      0,      0,      0,      0,      0,\n",
              "            0,      0,      0,      0,      0,      0,      0,      0,\n",
              "            0,      0,      0,      0,      0,      0,      0,      0,\n",
              "            0,      0,      0,      0,      0,      0,      0,      0,\n",
              "            0,      0,      0,      0], dtype=int32)"
            ]
          },
          "metadata": {},
          "execution_count": 57
        }
      ]
    },
    {
      "cell_type": "code",
      "source": [
        "len(X_token[0]) , len(X_pad[0])"
      ],
      "metadata": {
        "id": "8wywXTOpSl7x",
        "colab": {
          "base_uri": "https://localhost:8080/"
        },
        "outputId": "68bdf9cb-738a-4c0d-c732-c3826434c335"
      },
      "execution_count": 58,
      "outputs": [
        {
          "output_type": "execute_result",
          "data": {
            "text/plain": [
              "(258, 300)"
            ]
          },
          "metadata": {},
          "execution_count": 58
        }
      ]
    },
    {
      "cell_type": "code",
      "source": [
        "unique, counts = np.unique(X_pad[0] , return_counts=True)\n",
        "padded_zeros = dict(zip(unique, counts))[0]"
      ],
      "metadata": {
        "id": "v0TV93VISyoy"
      },
      "execution_count": 59,
      "outputs": []
    },
    {
      "cell_type": "code",
      "source": [
        "len(X_pad[0]) - len(X_token[0])  == padded_zeros , padded_zeros"
      ],
      "metadata": {
        "id": "X3lE7g9qTl-8",
        "colab": {
          "base_uri": "https://localhost:8080/"
        },
        "outputId": "5beb4e25-b3bc-41e8-fa84-0869bc0e5508"
      },
      "execution_count": 60,
      "outputs": [
        {
          "output_type": "execute_result",
          "data": {
            "text/plain": [
              "(True, 42)"
            ]
          },
          "metadata": {},
          "execution_count": 60
        }
      ]
    },
    {
      "cell_type": "markdown",
      "source": [
        "## Divide dataset into train and test set "
      ],
      "metadata": {
        "id": "v82mn4YX1_f3"
      }
    },
    {
      "cell_type": "code",
      "source": [
        "from sklearn.model_selection import StratifiedShuffleSplit\n",
        "\n",
        "sss = StratifiedShuffleSplit(n_splits = 2, test_size=0.3, random_state=25)\n",
        "sss.get_n_splits(X_pad, y_ohe)\n"
      ],
      "metadata": {
        "id": "WNCTDv_hW-o8",
        "colab": {
          "base_uri": "https://localhost:8080/"
        },
        "outputId": "f78720b5-5497-4c17-d66d-0a43c607d0e1"
      },
      "execution_count": 61,
      "outputs": [
        {
          "output_type": "execute_result",
          "data": {
            "text/plain": [
              "2"
            ]
          },
          "metadata": {},
          "execution_count": 61
        }
      ]
    },
    {
      "cell_type": "code",
      "source": [
        "for train_index, test_index in sss.split(X_pad, y_ohe):\n",
        "    X_train, X_test = X_pad[train_index], X_pad[test_index]\n",
        "    y_train, y_test = y_ohe[train_index], y_ohe[test_index]"
      ],
      "metadata": {
        "id": "t1Fn6u3MiD2e"
      },
      "execution_count": 62,
      "outputs": []
    },
    {
      "cell_type": "markdown",
      "source": [
        "# Define and Train the model"
      ],
      "metadata": {
        "id": "Ta5_ddMV22fy"
      }
    },
    {
      "cell_type": "code",
      "source": [
        "# import layers \n",
        "from tensorflow.keras import Sequential\n",
        "from tensorflow.keras.layers import Embedding, Bidirectional, Dense , LSTM , GRU\n",
        "\n",
        "# embedding dimension\n",
        "embedding_dim = 8\n",
        "\n",
        "# epochs\n",
        "\n",
        "epochs = 5\n",
        "\n",
        "# batch size \n",
        "\n",
        "batch_size = 64"
      ],
      "metadata": {
        "id": "pLesbWKe9XOi"
      },
      "execution_count": 63,
      "outputs": []
    },
    {
      "cell_type": "markdown",
      "source": [
        "## LSTM model\n"
      ],
      "metadata": {
        "id": "rlT7oUisRnll"
      }
    },
    {
      "cell_type": "code",
      "source": [
        "model_lstm = Sequential(name = \"lstm\")\n",
        "model_lstm.add(Embedding(\n",
        "    input_dim = vocab_size,\n",
        "    output_dim = embedding_dim, \n",
        "    input_length= maxlen\n",
        "))\n",
        "\n",
        "model_lstm.add(LSTM(128, return_sequences = True))\n",
        "model_lstm.add(LSTM(128))\n",
        "model_lstm.add(Dense(10,activation = 'softmax'))\n",
        "model_lstm.compile(optimizer = \"adam\",\n",
        "              loss = \"categorical_crossentropy\",\n",
        "              metrics = ['accuracy'])\n",
        "model_lstm.summary()\n"
      ],
      "metadata": {
        "id": "pMJwSqn83H5f",
        "colab": {
          "base_uri": "https://localhost:8080/"
        },
        "outputId": "2e3e39a6-6142-4697-e395-59f8f73bb488"
      },
      "execution_count": 64,
      "outputs": [
        {
          "output_type": "stream",
          "name": "stdout",
          "text": [
            "Model: \"lstm\"\n",
            "_________________________________________________________________\n",
            " Layer (type)                Output Shape              Param #   \n",
            "=================================================================\n",
            " embedding (Embedding)       (None, 300, 8)            19978848  \n",
            "                                                                 \n",
            " lstm (LSTM)                 (None, 300, 128)          70144     \n",
            "                                                                 \n",
            " lstm_1 (LSTM)               (None, 128)               131584    \n",
            "                                                                 \n",
            " dense (Dense)               (None, 10)                1290      \n",
            "                                                                 \n",
            "=================================================================\n",
            "Total params: 20,181,866\n",
            "Trainable params: 20,181,866\n",
            "Non-trainable params: 0\n",
            "_________________________________________________________________\n"
          ]
        }
      ]
    },
    {
      "cell_type": "code",
      "source": [
        "lstm_history = model_lstm.fit(X_train, y_train,\n",
        "                    epochs=epochs,\n",
        "                    verbose=1,\n",
        "                    validation_split=0.2,\n",
        "                    batch_size=batch_size\n",
        "                   )"
      ],
      "metadata": {
        "id": "jNLNZbnhSPfi",
        "colab": {
          "base_uri": "https://localhost:8080/"
        },
        "outputId": "539c54eb-8c90-4316-9351-317aaa36aa65"
      },
      "execution_count": 65,
      "outputs": [
        {
          "output_type": "stream",
          "name": "stdout",
          "text": [
            "Epoch 1/5\n",
            "3639/3639 [==============================] - 491s 133ms/step - loss: 1.0911 - accuracy: 0.6707 - val_loss: 0.6120 - val_accuracy: 0.8087\n",
            "Epoch 2/5\n",
            "3639/3639 [==============================] - 482s 132ms/step - loss: 0.4594 - accuracy: 0.8559 - val_loss: 0.3964 - val_accuracy: 0.8772\n",
            "Epoch 3/5\n",
            "3639/3639 [==============================] - 482s 133ms/step - loss: 0.2804 - accuracy: 0.9145 - val_loss: 0.3773 - val_accuracy: 0.8895\n",
            "Epoch 4/5\n",
            "3639/3639 [==============================] - 483s 133ms/step - loss: 0.1652 - accuracy: 0.9500 - val_loss: 0.3171 - val_accuracy: 0.9076\n",
            "Epoch 5/5\n",
            "3639/3639 [==============================] - 486s 133ms/step - loss: 0.1031 - accuracy: 0.9691 - val_loss: 0.3330 - val_accuracy: 0.9056\n"
          ]
        }
      ]
    },
    {
      "cell_type": "code",
      "source": [
        "lstm_history.params"
      ],
      "metadata": {
        "id": "-6qn-f-W5jAn",
        "colab": {
          "base_uri": "https://localhost:8080/"
        },
        "outputId": "b9a7d901-9b1e-44dd-843b-a3833a5569fc"
      },
      "execution_count": 66,
      "outputs": [
        {
          "output_type": "execute_result",
          "data": {
            "text/plain": [
              "{'epochs': 5, 'steps': 3639, 'verbose': 1}"
            ]
          },
          "metadata": {},
          "execution_count": 66
        }
      ]
    },
    {
      "cell_type": "code",
      "source": [
        "lstm_history.history.keys()"
      ],
      "metadata": {
        "id": "gWJAh8uZ5tO2",
        "colab": {
          "base_uri": "https://localhost:8080/"
        },
        "outputId": "bab8e37b-2f3b-40ce-eea6-dcea1c6a6e4d"
      },
      "execution_count": 67,
      "outputs": [
        {
          "output_type": "execute_result",
          "data": {
            "text/plain": [
              "dict_keys(['loss', 'accuracy', 'val_loss', 'val_accuracy'])"
            ]
          },
          "metadata": {},
          "execution_count": 67
        }
      ]
    },
    {
      "cell_type": "markdown",
      "source": [
        "### Plotting losses and accuracies"
      ],
      "metadata": {
        "id": "bW-kZOWklvlS"
      }
    },
    {
      "cell_type": "code",
      "source": [
        "import matplotlib.pyplot as plt\n",
        "\n",
        "plt.plot(lstm_history.history['accuracy'])\n",
        "plt.plot(lstm_history.history['val_accuracy'])\n",
        "plt.legend(['train', 'valid'])\n",
        "plt.show()\n"
      ],
      "metadata": {
        "id": "5gTUYkd9SyFQ",
        "colab": {
          "base_uri": "https://localhost:8080/",
          "height": 265
        },
        "outputId": "e07ae0b0-30d2-4701-b7e1-a14c4ffeb77e"
      },
      "execution_count": 68,
      "outputs": [
        {
          "output_type": "display_data",
          "data": {
            "image/png": "[encoded data removed]",
            "text/plain": [
              "<Figure size 432x288 with 1 Axes>"
            ]
          },
          "metadata": {
            "needs_background": "light"
          }
        }
      ]
    },
    {
      "cell_type": "code",
      "source": [
        "plt.plot(lstm_history.history['loss'])\n",
        "plt.plot(lstm_history.history['val_loss'])\n",
        "plt.legend(['train', 'valid'])\n",
        "plt.show()"
      ],
      "metadata": {
        "id": "jIKmw3NpS1oO",
        "colab": {
          "base_uri": "https://localhost:8080/",
          "height": 265
        },
        "outputId": "d571f2ad-4f19-4f00-af68-e9192c813a14"
      },
      "execution_count": 69,
      "outputs": [
        {
          "output_type": "display_data",
          "data": {
            "image/png": "[encoded data removed]",
            "text/plain": [
              "<Figure size 432x288 with 1 Axes>"
            ]
          },
          "metadata": {
            "needs_background": "light"
          }
        }
      ]
    },
    {
      "cell_type": "markdown",
      "source": [
        "### saving the model"
      ],
      "metadata": {
        "id": "hOtHqLcOQnE6"
      }
    },
    {
      "cell_type": "code",
      "source": [
        "# define gloabl saving dir\n",
        "saving_dir = \"drive/MyDrive/DL_models/bangla-news-rnn/\""
      ],
      "metadata": {
        "id": "IA_7NbtW8mtq"
      },
      "execution_count": 70,
      "outputs": []
    },
    {
      "cell_type": "code",
      "source": [
        "model_lstm_save_name = \"lstm-model.h5\"\n",
        "\n",
        "saving_path_lstm =saving_dir+model_lstm_save_name\n",
        "saving_path_lstm"
      ],
      "metadata": {
        "id": "xMHfbIDBS9_m",
        "colab": {
          "base_uri": "https://localhost:8080/",
          "height": 36
        },
        "outputId": "a1a7332c-a4a4-4357-c274-76da933f4abe"
      },
      "execution_count": 71,
      "outputs": [
        {
          "output_type": "execute_result",
          "data": {
            "application/vnd.google.colaboratory.intrinsic+json": {
              "type": "string"
            },
            "text/plain": [
              "'drive/MyDrive/DL_models/bangla-news-rnn/lstm-model.h5'"
            ]
          },
          "metadata": {},
          "execution_count": 71
        }
      ]
    },
    {
      "cell_type": "code",
      "source": [
        "model_lstm.save(saving_path_lstm)"
      ],
      "metadata": {
        "id": "yM-MphcRTfQO"
      },
      "execution_count": 72,
      "outputs": []
    },
    {
      "cell_type": "markdown",
      "source": [
        "## GRU model\n"
      ],
      "metadata": {
        "id": "bh0hHZ1LkNrG"
      }
    },
    {
      "cell_type": "code",
      "source": [
        "from tensorflow.keras.layers import GRU\n",
        "\n",
        "model_gru = Sequential(name = \"gru\")\n",
        "model_gru.add(Embedding(\n",
        "    input_dim = vocab_size,\n",
        "    output_dim = embedding_dim, \n",
        "    input_length= maxlen\n",
        "))\n",
        "\n",
        "model_gru.add(GRU(128, return_sequences = True))\n",
        "model_gru.add(GRU(128))\n",
        "model_gru.add(Dense(10,activation = 'softmax'))\n",
        "model_gru.compile(optimizer = \"adam\",\n",
        "              loss = \"categorical_crossentropy\",\n",
        "              metrics = ['accuracy'])\n",
        "model_gru.summary()"
      ],
      "metadata": {
        "colab": {
          "base_uri": "https://localhost:8080/"
        },
        "id": "9iVAcnNnQc5p",
        "outputId": "cfd2d14a-b2c2-494a-e10a-93e51e36d41b"
      },
      "execution_count": 73,
      "outputs": [
        {
          "output_type": "stream",
          "name": "stdout",
          "text": [
            "Model: \"gru\"\n",
            "_________________________________________________________________\n",
            " Layer (type)                Output Shape              Param #   \n",
            "=================================================================\n",
            " embedding_1 (Embedding)     (None, 300, 8)            19978848  \n",
            "                                                                 \n",
            " gru (GRU)                   (None, 300, 128)          52992     \n",
            "                                                                 \n",
            " gru_1 (GRU)                 (None, 128)               99072     \n",
            "                                                                 \n",
            " dense_1 (Dense)             (None, 10)                1290      \n",
            "                                                                 \n",
            "=================================================================\n",
            "Total params: 20,132,202\n",
            "Trainable params: 20,132,202\n",
            "Non-trainable params: 0\n",
            "_________________________________________________________________\n"
          ]
        }
      ]
    },
    {
      "cell_type": "code",
      "source": [
        "gru_history = model_gru.fit(X_train, y_train,\n",
        "                    epochs=epochs,\n",
        "                    verbose=1,\n",
        "                    validation_split=0.2,\n",
        "                    batch_size=batch_size\n",
        "                   )"
      ],
      "metadata": {
        "id": "-QFF8IsWkrpP",
        "colab": {
          "base_uri": "https://localhost:8080/"
        },
        "outputId": "edb88768-8585-4787-c093-2a77d12bf7f0"
      },
      "execution_count": 74,
      "outputs": [
        {
          "output_type": "stream",
          "name": "stdout",
          "text": [
            "Epoch 1/5\n",
            "3639/3639 [==============================] - 466s 127ms/step - loss: 0.6109 - accuracy: 0.8125 - val_loss: 0.2964 - val_accuracy: 0.9090\n",
            "Epoch 2/5\n",
            "3639/3639 [==============================] - 469s 129ms/step - loss: 0.2110 - accuracy: 0.9350 - val_loss: 0.2554 - val_accuracy: 0.9231\n",
            "Epoch 3/5\n",
            "3639/3639 [==============================] - 459s 126ms/step - loss: 0.1094 - accuracy: 0.9663 - val_loss: 0.2774 - val_accuracy: 0.9201\n",
            "Epoch 4/5\n",
            "3639/3639 [==============================] - 470s 129ms/step - loss: 0.0549 - accuracy: 0.9830 - val_loss: 0.3039 - val_accuracy: 0.9215\n",
            "Epoch 5/5\n",
            "3639/3639 [==============================] - 460s 127ms/step - loss: 0.0292 - accuracy: 0.9910 - val_loss: 0.3383 - val_accuracy: 0.9188\n"
          ]
        }
      ]
    },
    {
      "cell_type": "markdown",
      "source": [
        "### plotting results"
      ],
      "metadata": {
        "id": "j4PkFzwyuv7Q"
      }
    },
    {
      "cell_type": "code",
      "source": [
        "import matplotlib.pyplot as plt\n",
        "\n",
        "plt.plot(gru_history.history['accuracy'])\n",
        "plt.plot(gru_history.history['val_accuracy'])\n",
        "plt.legend(['train', 'valid'])\n",
        "plt.show()"
      ],
      "metadata": {
        "id": "V0-8NPGKpG-C",
        "colab": {
          "base_uri": "https://localhost:8080/",
          "height": 265
        },
        "outputId": "3dfdc77f-6dab-4fc6-8741-bee7e08f239d"
      },
      "execution_count": 75,
      "outputs": [
        {
          "output_type": "display_data",
          "data": {
            "image/png": "[encoded data removed]",
            "text/plain": [
              "<Figure size 432x288 with 1 Axes>"
            ]
          },
          "metadata": {
            "needs_background": "light"
          }
        }
      ]
    },
    {
      "cell_type": "code",
      "source": [
        "import matplotlib.pyplot as plt\n",
        "\n",
        "plt.plot(gru_history.history['loss'])\n",
        "plt.plot(gru_history.history['val_loss'])\n",
        "plt.legend(['train', 'valid'])\n",
        "plt.show()"
      ],
      "metadata": {
        "id": "t-c2PNrgpR04",
        "colab": {
          "base_uri": "https://localhost:8080/",
          "height": 265
        },
        "outputId": "af0f8c06-6ec9-4e32-f7ec-e6af5ff7d18b"
      },
      "execution_count": 76,
      "outputs": [
        {
          "output_type": "display_data",
          "data": {
            "image/png": "[encoded data removed]",
            "text/plain": [
              "<Figure size 432x288 with 1 Axes>"
            ]
          },
          "metadata": {
            "needs_background": "light"
          }
        }
      ]
    },
    {
      "cell_type": "code",
      "source": [
        "model_gru_save_name = \"gru-model.h5\"\n",
        "\n",
        "saving_path_gru =saving_dir+model_gru_save_name\n",
        "saving_path_gru"
      ],
      "metadata": {
        "colab": {
          "base_uri": "https://localhost:8080/",
          "height": 36
        },
        "id": "i0VSXzzJ_UXy",
        "outputId": "cc21a7cf-08f8-4fee-cf09-bc17f63dad7a"
      },
      "execution_count": 77,
      "outputs": [
        {
          "output_type": "execute_result",
          "data": {
            "application/vnd.google.colaboratory.intrinsic+json": {
              "type": "string"
            },
            "text/plain": [
              "'drive/MyDrive/DL_models/bangla-news-rnn/gru-model.h5'"
            ]
          },
          "metadata": {},
          "execution_count": 77
        }
      ]
    },
    {
      "cell_type": "code",
      "source": [
        "model_gru.save(saving_path_gru)"
      ],
      "metadata": {
        "id": "mPWr8E-Y_c_q"
      },
      "execution_count": 78,
      "outputs": []
    },
    {
      "cell_type": "markdown",
      "source": [
        "## Bidirectional LSTM"
      ],
      "metadata": {
        "id": "XalacUCMu69d"
      }
    },
    {
      "cell_type": "code",
      "source": [
        "model_bi_directional_lstm = Sequential(name = \"bidirectional_lstm\")\n",
        "model_bi_directional_lstm.add(Embedding(\n",
        "    input_dim = vocab_size,\n",
        "    output_dim = embedding_dim, \n",
        "    input_length= maxlen\n",
        "))\n",
        "\n",
        "model_bi_directional_lstm.add(Bidirectional(LSTM(128, return_sequences = True)))\n",
        "model_bi_directional_lstm.add(Bidirectional(LSTM(128)))\n",
        "model_bi_directional_lstm.add(Dense(10,activation = 'softmax'))\n",
        "model_bi_directional_lstm.compile(optimizer = \"adam\",\n",
        "              loss = \"categorical_crossentropy\",\n",
        "              metrics = ['accuracy'])\n",
        "model_bi_directional_lstm.summary()\n"
      ],
      "metadata": {
        "id": "nz1KTGoLUPDn",
        "colab": {
          "base_uri": "https://localhost:8080/"
        },
        "outputId": "2591ee34-2fbf-47e1-adc3-e39d87075677"
      },
      "execution_count": 79,
      "outputs": [
        {
          "output_type": "stream",
          "name": "stdout",
          "text": [
            "Model: \"bidirectional_lstm\"\n",
            "_________________________________________________________________\n",
            " Layer (type)                Output Shape              Param #   \n",
            "=================================================================\n",
            " embedding_2 (Embedding)     (None, 300, 8)            19978848  \n",
            "                                                                 \n",
            " bidirectional (Bidirectiona  (None, 300, 256)         140288    \n",
            " l)                                                              \n",
            "                                                                 \n",
            " bidirectional_1 (Bidirectio  (None, 256)              394240    \n",
            " nal)                                                            \n",
            "                                                                 \n",
            " dense_2 (Dense)             (None, 10)                2570      \n",
            "                                                                 \n",
            "=================================================================\n",
            "Total params: 20,515,946\n",
            "Trainable params: 20,515,946\n",
            "Non-trainable params: 0\n",
            "_________________________________________________________________\n"
          ]
        }
      ]
    },
    {
      "cell_type": "code",
      "source": [
        "bi_lstm_history = model_bi_directional_lstm.fit(X_train, y_train,\n",
        "                    epochs=epochs,\n",
        "                    verbose=1,\n",
        "                    validation_split=0.2,\n",
        "                    batch_size=batch_size\n",
        "                   )"
      ],
      "metadata": {
        "id": "rWZJ5Wrl9dsB",
        "colab": {
          "base_uri": "https://localhost:8080/"
        },
        "outputId": "4fff4272-28dc-418a-cd01-28c9b8f4d3d0"
      },
      "execution_count": 80,
      "outputs": [
        {
          "output_type": "stream",
          "name": "stdout",
          "text": [
            "Epoch 1/5\n",
            "3639/3639 [==============================] - 990s 270ms/step - loss: 0.6426 - accuracy: 0.8013 - val_loss: 0.4047 - val_accuracy: 0.8779\n",
            "Epoch 2/5\n",
            "3639/3639 [==============================] - 976s 268ms/step - loss: 0.2465 - accuracy: 0.9241 - val_loss: 0.2480 - val_accuracy: 0.9224\n",
            "Epoch 3/5\n",
            "3639/3639 [==============================] - 982s 270ms/step - loss: 0.1185 - accuracy: 0.9630 - val_loss: 0.2297 - val_accuracy: 0.9289\n",
            "Epoch 4/5\n",
            "3639/3639 [==============================] - 980s 269ms/step - loss: 0.0601 - accuracy: 0.9813 - val_loss: 0.2933 - val_accuracy: 0.9234\n",
            "Epoch 5/5\n",
            "3639/3639 [==============================] - 980s 269ms/step - loss: 0.0326 - accuracy: 0.9903 - val_loss: 0.2905 - val_accuracy: 0.9265\n"
          ]
        }
      ]
    },
    {
      "cell_type": "markdown",
      "source": [
        "### Plotting results"
      ],
      "metadata": {
        "id": "wX7gqc3n_xSu"
      }
    },
    {
      "cell_type": "code",
      "source": [
        "\n",
        "\n",
        "plt.plot(bi_lstm_history.history['accuracy'])\n",
        "plt.plot(bi_lstm_history.history['val_accuracy'])\n",
        "plt.legend(['train', 'valid'])\n",
        "plt.show()\n"
      ],
      "metadata": {
        "id": "1PJDhPGe6Xwm",
        "colab": {
          "base_uri": "https://localhost:8080/",
          "height": 265
        },
        "outputId": "b8ae22c0-c324-47ab-c390-16bb4741a2d1"
      },
      "execution_count": 82,
      "outputs": [
        {
          "output_type": "display_data",
          "data": {
            "image/png": "[encoded data removed]",
            "text/plain": [
              "<Figure size 432x288 with 1 Axes>"
            ]
          },
          "metadata": {
            "needs_background": "light"
          }
        }
      ]
    },
    {
      "cell_type": "code",
      "source": [
        "plt.plot(bi_lstm_history.history['loss'])\n",
        "plt.plot(bi_lstm_history.history['val_loss'])\n",
        "plt.legend(['train', 'valid'])\n",
        "plt.show()"
      ],
      "metadata": {
        "id": "-QNB-y0G6p8L",
        "colab": {
          "base_uri": "https://localhost:8080/",
          "height": 265
        },
        "outputId": "7555530b-627b-4952-e5ac-1886630e9703"
      },
      "execution_count": 83,
      "outputs": [
        {
          "output_type": "display_data",
          "data": {
            "image/png": "[encoded data removed]",
            "text/plain": [
              "<Figure size 432x288 with 1 Axes>"
            ]
          },
          "metadata": {
            "needs_background": "light"
          }
        }
      ]
    },
    {
      "cell_type": "code",
      "source": [
        "model_bi_lstm_save_name = \"bi-directional-lstm-model.h5\"\n",
        "\n",
        "saving_path_bi_lstm =saving_dir+model_bi_lstm_save_name\n",
        "saving_path_bi_lstm"
      ],
      "metadata": {
        "id": "oU5cUK6d_252",
        "colab": {
          "base_uri": "https://localhost:8080/",
          "height": 36
        },
        "outputId": "150d319d-f179-4025-f34e-a913fabb6338"
      },
      "execution_count": 84,
      "outputs": [
        {
          "output_type": "execute_result",
          "data": {
            "application/vnd.google.colaboratory.intrinsic+json": {
              "type": "string"
            },
            "text/plain": [
              "'drive/MyDrive/DL_models/bangla-news-rnn/bi-directional-lstm-model.h5'"
            ]
          },
          "metadata": {},
          "execution_count": 84
        }
      ]
    },
    {
      "cell_type": "code",
      "source": [
        "model_bi_directional_lstm.save(saving_path_bi_lstm)"
      ],
      "metadata": {
        "id": "76WHUszGAGLa"
      },
      "execution_count": 85,
      "outputs": []
    },
    {
      "cell_type": "markdown",
      "source": [
        "## Plotting all data "
      ],
      "metadata": {
        "id": "KYz3ZEKOymr0"
      }
    },
    {
      "cell_type": "code",
      "source": [
        "fig,(lstm,gru, bi_lstm)  = plt.subplots(nrows = 3,\n",
        "                                        ncols = 1,\n",
        "                                        figsize = (15,15))\n",
        "\n",
        "\n",
        "# lstm\n",
        "lstm.plot(lstm_history.history['accuracy'])\n",
        "lstm.plot(lstm_history.history['val_accuracy'])\n",
        "lstm.legend(['train', 'valid'])\n",
        "lstm.set_title(\"LSTM accuracies\")\n",
        "\n",
        "# gru\n",
        "\n",
        "gru.plot(gru_history.history['accuracy'])\n",
        "gru.plot(gru_history.history['val_accuracy'])\n",
        "gru.legend(['train', 'valid'])\n",
        "gru.set_title(\"GRU accuracies\")\n",
        "\n",
        "# bi -lstm\n",
        "\n",
        "bi_lstm.plot(bi_lstm_history.history['accuracy'])\n",
        "bi_lstm.plot(bi_lstm_history.history['val_accuracy'])\n",
        "bi_lstm.legend(['train', 'valid'])\n",
        "bi_lstm.set_title(\"Bi-directional accuracies\")\n",
        "\n",
        "fig.suptitle(\"Training and validation accuracies with epochs\")\n",
        "\n",
        "fig.show()\n"
      ],
      "metadata": {
        "id": "LCS_gIrqran1",
        "colab": {
          "base_uri": "https://localhost:8080/",
          "height": 971
        },
        "outputId": "28855772-4bd0-4274-e5df-31b00c9e42ce"
      },
      "execution_count": 86,
      "outputs": [
        {
          "output_type": "display_data",
          "data": {
            "image/png": "[encoded data removed]",
            "text/plain": [
              "<Figure size 1080x1080 with 3 Axes>"
            ]
          },
          "metadata": {
            "needs_background": "light"
          }
        }
      ]
    },
    {
      "cell_type": "code",
      "source": [
        "# loss\n",
        "fig,(lstm,gru, bi_lstm)  = plt.subplots(nrows = 3,\n",
        "                                        ncols = 1,\n",
        "                                        figsize = (15,15))\n",
        "\n",
        "\n",
        "# lstm\n",
        "lstm.plot(lstm_history.history['loss'])\n",
        "lstm.plot(lstm_history.history['val_loss'])\n",
        "lstm.legend(['train', 'valid'])\n",
        "lstm.set_title(\"LSTM losses\")\n",
        "\n",
        "# gru\n",
        "\n",
        "gru.plot(gru_history.history['loss'])\n",
        "gru.plot(gru_history.history['val_loss'])\n",
        "gru.legend(['train', 'valid'])\n",
        "gru.set_title(\"GRU losses\")\n",
        "\n",
        "# bi -lstm\n",
        "\n",
        "bi_lstm.plot(bi_lstm_history.history['loss'])\n",
        "bi_lstm.plot(bi_lstm_history.history['val_loss'])\n",
        "bi_lstm.legend(['train', 'valid'])\n",
        "bi_lstm.set_title(\"Bi-directional losses\")\n",
        "\n",
        "fig.suptitle(\"Training and validation losses with epochs\")\n",
        "\n",
        "fig.show()\n"
      ],
      "metadata": {
        "id": "lRG758mSukRd",
        "colab": {
          "base_uri": "https://localhost:8080/",
          "height": 971
        },
        "outputId": "b9af8533-4cf0-44cd-cc3c-301132f4b222"
      },
      "execution_count": 87,
      "outputs": [
        {
          "output_type": "display_data",
          "data": {
            "image/png": "[encoded data removed]",
            "text/plain": [
              "<Figure size 1080x1080 with 3 Axes>"
            ]
          },
          "metadata": {
            "needs_background": "light"
          }
        }
      ]
    },
    {
      "cell_type": "code",
      "source": [
        ""
      ],
      "metadata": {
        "id": "sS80YDmUyrbM"
      },
      "execution_count": 87,
      "outputs": []
    }
  ]
}