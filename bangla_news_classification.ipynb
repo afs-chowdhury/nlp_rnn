{
  "nbformat": 4,
  "nbformat_minor": 0,
  "metadata": {
    "colab": {
      "name": "bangla_news_classification.ipynb",
      "provenance": [],
      "collapsed_sections": []
    },
    "kernelspec": {
      "name": "python3",
      "display_name": "Python 3"
    },
    "language_info": {
      "name": "python"
    },
    "accelerator": "GPU",
    "widgets": {
      "application/vnd.jupyter.widget-state+json": {
        "8cd58eef8ec24de3b6d554e0c71b1df1": {
          "model_module": "@jupyter-widgets/controls",
          "model_name": "HBoxModel",
          "model_module_version": "1.5.0",
          "state": {
            "_view_name": "HBoxView",
            "_dom_classes": [],
            "_model_name": "HBoxModel",
            "_view_module": "@jupyter-widgets/controls",
            "_model_module_version": "1.5.0",
            "_view_count": null,
            "_view_module_version": "1.5.0",
            "box_style": "",
            "layout": "IPY_MODEL_a8bc39a428824352bb85a00acc746e9b",
            "_model_module": "@jupyter-widgets/controls",
            "children": [
              "IPY_MODEL_973ddf042f254bd58def756ebeee1576",
              "IPY_MODEL_6b9d3c5c7ae0458cbdd4414950e4a9f2",
              "IPY_MODEL_5adea2675a9b4417b90e4557d14f8147"
            ]
          }
        },
        "a8bc39a428824352bb85a00acc746e9b": {
          "model_module": "@jupyter-widgets/base",
          "model_name": "LayoutModel",
          "model_module_version": "1.2.0",
          "state": {
            "_view_name": "LayoutView",
            "grid_template_rows": null,
            "right": null,
            "justify_content": null,
            "_view_module": "@jupyter-widgets/base",
            "overflow": null,
            "_model_module_version": "1.2.0",
            "_view_count": null,
            "flex_flow": null,
            "width": null,
            "min_width": null,
            "border": null,
            "align_items": null,
            "bottom": null,
            "_model_module": "@jupyter-widgets/base",
            "top": null,
            "grid_column": null,
            "overflow_y": null,
            "overflow_x": null,
            "grid_auto_flow": null,
            "grid_area": null,
            "grid_template_columns": null,
            "flex": null,
            "_model_name": "LayoutModel",
            "justify_items": null,
            "grid_row": null,
            "max_height": null,
            "align_content": null,
            "visibility": null,
            "align_self": null,
            "height": null,
            "min_height": null,
            "padding": null,
            "grid_auto_rows": null,
            "grid_gap": null,
            "max_width": null,
            "order": null,
            "_view_module_version": "1.2.0",
            "grid_template_areas": null,
            "object_position": null,
            "object_fit": null,
            "grid_auto_columns": null,
            "margin": null,
            "display": null,
            "left": null
          }
        },
        "973ddf042f254bd58def756ebeee1576": {
          "model_module": "@jupyter-widgets/controls",
          "model_name": "HTMLModel",
          "model_module_version": "1.5.0",
          "state": {
            "_view_name": "HTMLView",
            "style": "IPY_MODEL_d62b0d397b824a19aab003bd58cfa855",
            "_dom_classes": [],
            "description": "",
            "_model_name": "HTMLModel",
            "placeholder": "​",
            "_view_module": "@jupyter-widgets/controls",
            "_model_module_version": "1.5.0",
            "value": "100%",
            "_view_count": null,
            "_view_module_version": "1.5.0",
            "description_tooltip": null,
            "_model_module": "@jupyter-widgets/controls",
            "layout": "IPY_MODEL_f3688177fc73404daa7160fe9bd62388"
          }
        },
        "6b9d3c5c7ae0458cbdd4414950e4a9f2": {
          "model_module": "@jupyter-widgets/controls",
          "model_name": "FloatProgressModel",
          "model_module_version": "1.5.0",
          "state": {
            "_view_name": "ProgressView",
            "style": "IPY_MODEL_a4aded252b434c49b3ab23c620300da1",
            "_dom_classes": [],
            "description": "",
            "_model_name": "FloatProgressModel",
            "bar_style": "success",
            "max": 32,
            "_view_module": "@jupyter-widgets/controls",
            "_model_module_version": "1.5.0",
            "value": 32,
            "_view_count": null,
            "_view_module_version": "1.5.0",
            "orientation": "horizontal",
            "min": 0,
            "description_tooltip": null,
            "_model_module": "@jupyter-widgets/controls",
            "layout": "IPY_MODEL_454c4057a1224ba3bac29ffd7887f92e"
          }
        },
        "5adea2675a9b4417b90e4557d14f8147": {
          "model_module": "@jupyter-widgets/controls",
          "model_name": "HTMLModel",
          "model_module_version": "1.5.0",
          "state": {
            "_view_name": "HTMLView",
            "style": "IPY_MODEL_6361c0462e814f75950040a60d9958ea",
            "_dom_classes": [],
            "description": "",
            "_model_name": "HTMLModel",
            "placeholder": "​",
            "_view_module": "@jupyter-widgets/controls",
            "_model_module_version": "1.5.0",
            "value": " 32/32 [00:00&lt;00:00, 96.32it/s]",
            "_view_count": null,
            "_view_module_version": "1.5.0",
            "description_tooltip": null,
            "_model_module": "@jupyter-widgets/controls",
            "layout": "IPY_MODEL_5081c01980e041ba8700f96a99dec4ea"
          }
        },
        "d62b0d397b824a19aab003bd58cfa855": {
          "model_module": "@jupyter-widgets/controls",
          "model_name": "DescriptionStyleModel",
          "model_module_version": "1.5.0",
          "state": {
            "_view_name": "StyleView",
            "_model_name": "DescriptionStyleModel",
            "description_width": "",
            "_view_module": "@jupyter-widgets/base",
            "_model_module_version": "1.5.0",
            "_view_count": null,
            "_view_module_version": "1.2.0",
            "_model_module": "@jupyter-widgets/controls"
          }
        },
        "f3688177fc73404daa7160fe9bd62388": {
          "model_module": "@jupyter-widgets/base",
          "model_name": "LayoutModel",
          "model_module_version": "1.2.0",
          "state": {
            "_view_name": "LayoutView",
            "grid_template_rows": null,
            "right": null,
            "justify_content": null,
            "_view_module": "@jupyter-widgets/base",
            "overflow": null,
            "_model_module_version": "1.2.0",
            "_view_count": null,
            "flex_flow": null,
            "width": null,
            "min_width": null,
            "border": null,
            "align_items": null,
            "bottom": null,
            "_model_module": "@jupyter-widgets/base",
            "top": null,
            "grid_column": null,
            "overflow_y": null,
            "overflow_x": null,
            "grid_auto_flow": null,
            "grid_area": null,
            "grid_template_columns": null,
            "flex": null,
            "_model_name": "LayoutModel",
            "justify_items": null,
            "grid_row": null,
            "max_height": null,
            "align_content": null,
            "visibility": null,
            "align_self": null,
            "height": null,
            "min_height": null,
            "padding": null,
            "grid_auto_rows": null,
            "grid_gap": null,
            "max_width": null,
            "order": null,
            "_view_module_version": "1.2.0",
            "grid_template_areas": null,
            "object_position": null,
            "object_fit": null,
            "grid_auto_columns": null,
            "margin": null,
            "display": null,
            "left": null
          }
        },
        "a4aded252b434c49b3ab23c620300da1": {
          "model_module": "@jupyter-widgets/controls",
          "model_name": "ProgressStyleModel",
          "model_module_version": "1.5.0",
          "state": {
            "_view_name": "StyleView",
            "_model_name": "ProgressStyleModel",
            "description_width": "",
            "_view_module": "@jupyter-widgets/base",
            "_model_module_version": "1.5.0",
            "_view_count": null,
            "_view_module_version": "1.2.0",
            "bar_color": null,
            "_model_module": "@jupyter-widgets/controls"
          }
        },
        "454c4057a1224ba3bac29ffd7887f92e": {
          "model_module": "@jupyter-widgets/base",
          "model_name": "LayoutModel",
          "model_module_version": "1.2.0",
          "state": {
            "_view_name": "LayoutView",
            "grid_template_rows": null,
            "right": null,
            "justify_content": null,
            "_view_module": "@jupyter-widgets/base",
            "overflow": null,
            "_model_module_version": "1.2.0",
            "_view_count": null,
            "flex_flow": null,
            "width": null,
            "min_width": null,
            "border": null,
            "align_items": null,
            "bottom": null,
            "_model_module": "@jupyter-widgets/base",
            "top": null,
            "grid_column": null,
            "overflow_y": null,
            "overflow_x": null,
            "grid_auto_flow": null,
            "grid_area": null,
            "grid_template_columns": null,
            "flex": null,
            "_model_name": "LayoutModel",
            "justify_items": null,
            "grid_row": null,
            "max_height": null,
            "align_content": null,
            "visibility": null,
            "align_self": null,
            "height": null,
            "min_height": null,
            "padding": null,
            "grid_auto_rows": null,
            "grid_gap": null,
            "max_width": null,
            "order": null,
            "_view_module_version": "1.2.0",
            "grid_template_areas": null,
            "object_position": null,
            "object_fit": null,
            "grid_auto_columns": null,
            "margin": null,
            "display": null,
            "left": null
          }
        },
        "6361c0462e814f75950040a60d9958ea": {
          "model_module": "@jupyter-widgets/controls",
          "model_name": "DescriptionStyleModel",
          "model_module_version": "1.5.0",
          "state": {
            "_view_name": "StyleView",
            "_model_name": "DescriptionStyleModel",
            "description_width": "",
            "_view_module": "@jupyter-widgets/base",
            "_model_module_version": "1.5.0",
            "_view_count": null,
            "_view_module_version": "1.2.0",
            "_model_module": "@jupyter-widgets/controls"
          }
        },
        "5081c01980e041ba8700f96a99dec4ea": {
          "model_module": "@jupyter-widgets/base",
          "model_name": "LayoutModel",
          "model_module_version": "1.2.0",
          "state": {
            "_view_name": "LayoutView",
            "grid_template_rows": null,
            "right": null,
            "justify_content": null,
            "_view_module": "@jupyter-widgets/base",
            "overflow": null,
            "_model_module_version": "1.2.0",
            "_view_count": null,
            "flex_flow": null,
            "width": null,
            "min_width": null,
            "border": null,
            "align_items": null,
            "bottom": null,
            "_model_module": "@jupyter-widgets/base",
            "top": null,
            "grid_column": null,
            "overflow_y": null,
            "overflow_x": null,
            "grid_auto_flow": null,
            "grid_area": null,
            "grid_template_columns": null,
            "flex": null,
            "_model_name": "LayoutModel",
            "justify_items": null,
            "grid_row": null,
            "max_height": null,
            "align_content": null,
            "visibility": null,
            "align_self": null,
            "height": null,
            "min_height": null,
            "padding": null,
            "grid_auto_rows": null,
            "grid_gap": null,
            "max_width": null,
            "order": null,
            "_view_module_version": "1.2.0",
            "grid_template_areas": null,
            "object_position": null,
            "object_fit": null,
            "grid_auto_columns": null,
            "margin": null,
            "display": null,
            "left": null
          }
        }
      }
    }
  },
  "cells": [
    {
      "cell_type": "code",
      "execution_count": 1,
      "metadata": {
        "colab": {
          "base_uri": "https://localhost:8080/"
        },
        "id": "E_sQ7WOzxyOd",
        "outputId": "9fc79355-3ca8-4b20-edac-a41e03da08ec"
      },
      "outputs": [
        {
          "output_type": "stream",
          "name": "stdout",
          "text": [
            "GPU 0: Tesla T4 (UUID: GPU-46ab6dda-ff08-9922-f2cd-4fd8ebfd4748)\n"
          ]
        }
      ],
      "source": [
        "!nvidia-smi -L\n"
      ]
    },
    {
      "cell_type": "code",
      "source": [
        "import tensorflow as tf \n",
        "\n",
        "if tf.test.gpu_device_name(): \n",
        "\n",
        "    print('Default GPU Device:{}'.format(tf.test.gpu_device_name()))\n",
        "\n",
        "else:\n",
        "\n",
        "   print(\"Please install GPU version of TF\")"
      ],
      "metadata": {
        "colab": {
          "base_uri": "https://localhost:8080/"
        },
        "id": "qEJCsmB-08sB",
        "outputId": "4e1a6489-8989-4160-eefc-ece1439d889f"
      },
      "execution_count": 2,
      "outputs": [
        {
          "output_type": "stream",
          "name": "stdout",
          "text": [
            "Default GPU Device:/device:GPU:0\n"
          ]
        }
      ]
    },
    {
      "cell_type": "code",
      "source": [
        "!pip install opendatasets --upgrade --quiet"
      ],
      "metadata": {
        "id": "kO4s_QWix7sK"
      },
      "execution_count": 3,
      "outputs": []
    },
    {
      "cell_type": "code",
      "source": [
        "dataset_url = \"https://www.kaggle.com/furcifer/bangla-newspaper-dataset?select=data_v2\"\n",
        "import opendatasets as od\n",
        "\n",
        "od.download(dataset_url)"
      ],
      "metadata": {
        "colab": {
          "base_uri": "https://localhost:8080/"
        },
        "id": "VUpXYHDMya2j",
        "outputId": "822f102f-5046-4138-e3d6-936bc5625944"
      },
      "execution_count": 4,
      "outputs": [
        {
          "output_type": "stream",
          "name": "stdout",
          "text": [
            "Skipping, found downloaded files in \"./bangla-newspaper-dataset\" (use force=True to force download)\n"
          ]
        }
      ]
    },
    {
      "cell_type": "code",
      "source": [
        "import json \n",
        "\n",
        "with open(\"bangla-newspaper-dataset/data/data.json\", encoding = \"utf-8\") as dt:\n",
        "  data = json.load(dt) "
      ],
      "metadata": {
        "id": "xGK5Ohvp0y1A"
      },
      "execution_count": 5,
      "outputs": []
    },
    {
      "cell_type": "code",
      "source": [
        "type(data)"
      ],
      "metadata": {
        "colab": {
          "base_uri": "https://localhost:8080/"
        },
        "id": "A_5sBgN8-6Oz",
        "outputId": "4db7f9b4-6b1d-49ce-ee29-dbdcc28408c4"
      },
      "execution_count": 6,
      "outputs": [
        {
          "output_type": "execute_result",
          "data": {
            "text/plain": [
              "list"
            ]
          },
          "metadata": {},
          "execution_count": 6
        }
      ]
    },
    {
      "cell_type": "code",
      "source": [
        "type(data[0])"
      ],
      "metadata": {
        "colab": {
          "base_uri": "https://localhost:8080/"
        },
        "id": "OaF6NaLCOvCq",
        "outputId": "60ea0b8d-b07d-41a7-b6d2-b0875ab34dd6"
      },
      "execution_count": 7,
      "outputs": [
        {
          "output_type": "execute_result",
          "data": {
            "text/plain": [
              "dict"
            ]
          },
          "metadata": {},
          "execution_count": 7
        }
      ]
    },
    {
      "cell_type": "code",
      "source": [
        "len(data)"
      ],
      "metadata": {
        "colab": {
          "base_uri": "https://localhost:8080/"
        },
        "id": "HiuAzvlR_25I",
        "outputId": "0186bf6e-f846-4a5c-fc27-e064ddf5ea2b"
      },
      "execution_count": 8,
      "outputs": [
        {
          "output_type": "execute_result",
          "data": {
            "text/plain": [
              "437948"
            ]
          },
          "metadata": {},
          "execution_count": 8
        }
      ]
    },
    {
      "cell_type": "code",
      "source": [
        "data[0].keys()"
      ],
      "metadata": {
        "colab": {
          "base_uri": "https://localhost:8080/"
        },
        "id": "j8kA2O0p_-5I",
        "outputId": "2f39da0a-2e76-494b-c9fd-c5f05d522091"
      },
      "execution_count": 9,
      "outputs": [
        {
          "output_type": "execute_result",
          "data": {
            "text/plain": [
              "dict_keys(['author', 'category', 'category_bn', 'published_date', 'modification_date', 'tag', 'comment_count', 'title', 'url', 'content'])"
            ]
          },
          "metadata": {},
          "execution_count": 9
        }
      ]
    },
    {
      "cell_type": "code",
      "source": [
        "data[0]"
      ],
      "metadata": {
        "colab": {
          "base_uri": "https://localhost:8080/"
        },
        "id": "THmv3Izd_40u",
        "outputId": "59389a67-97eb-4cef-bdc0-e310e96f7b41"
      },
      "execution_count": 10,
      "outputs": [
        {
          "output_type": "execute_result",
          "data": {
            "text/plain": [
              "{'author': 'গাজীপুর প্রতিনিধি',\n",
              " 'category': 'bangladesh',\n",
              " 'category_bn': 'বাংলাদেশ',\n",
              " 'comment_count': 0,\n",
              " 'content': 'গাজীপুরের কালিয়াকৈর উপজেলার তেলিরচালা এলাকায় আজ বৃহস্পতিবার রাতের টিফিন খেয়ে একটি পোশাক কারখানার ৫০০ শ্রমিক অসুস্থ হয়ে পড়েছেন। এ ঘটনায় বিক্ষোভ করেছেন ওই কারখানার শ্রমিকেরা।সফিপুর মডার্ন হাসপাতালের জরুরি বিভাগের চিকিত্সক আল আমিন প্রথম আলো ডটকমকে বলেন, খাদ্যে বিষক্রিয়ায় তাঁরা (শ্রমিকেরা) অসুস্থ হয়ে পড়েছেন। এতে আতঙ্কিত হওয়ার কিছু নেই। অসুস্থদের চিকিত্সা দেওয়া হয়েছে।কারখানার শ্রমিক ও পুলিশ সূত্রে জানা যায়, উপজেলার তেলিরচালা এলাকার সেজাদ সোয়েটার লিমিটেড কারখানার শ্রমিকদের আজ রাত সাড়ে সাতটার দিকে টিফিন দেওয়া হয়। টিফিনে ছিল ডিম, রুটি, পেটিস ও কলা। টিফিন খেয়ে শ্রমিকেরা যথারীতি কাজে যোগ দেন। ওই টিফিন খাওয়ার প্রায় এক ঘণ্টা পর রাত সাড়ে আটটার দিকে কয়েকজন শ্রমিকের বমি ও পেট ব্যথা শুরু হয়। এরপর ধীরে ধীরে পুরো কারখানার শ্রমিকেরা অসুস্থ হতে থাকে। অনেকেই কারখানার মেঝেতে ঢলে পড়ে। এতে পাঁচ শতাধিক শ্রমিক অসুস্থ হয়ে পড়ে।পরে কারখানা কর্তৃপক্ষ দ্রুত যানবাহনের ব্যবস্থা করে তাদের সফিপুর জেনারেল হাসপাতাল, সফিপুর মডার্ন হাসপাতাল, উপজেলা স্বাস্থ্য কমপ্লেক্সসহ বিভিন্ন ক্লিনিকে ভর্তি করে। বাসি পচা খাবার দেওয়ায় শ্রমিকরা ক্ষুব্ধ হয়ে কারখানার সামনে বিক্ষোভ করে। খবর পেয়ে পুলিশ গিয়ে শ্রমিকদের বুঝিয়ে ও খাবার সরবরাহ প্রতিষ্ঠানের বিরুদ্ধে ব্যবস্থা নেওয়ার আশ্বাস দিলে শ্রমিকেরা শান্ত হয়।সফিপুর জেনারেল হাসপাতালে ভর্তি শ্রমিক জাকির হোসেন ও আসমা আক্তার বলেন, টিফিন খাওয়ার সময় ডিম ও কেক থেকে দুর্গন্ধ বের হচ্ছিল। এ কারণে অনেকেই ওই খাবার খায়নি। তবে বেশির ভাগ শ্রমিকই ওই খাবার খেয়েছে।কারখানার সহকারী উত্পাদন কর্মকর্তা (এপিএম) বছির উদ্দিন বলেন, টিফিনগুলি যে ঠিকাদারি প্রতিষ্ঠান কারখানায় সরবরাহ করে তাদের বিরুদ্ধে ব্যবস্থা নেওয়া হবে।মৌচাক পুলিশ ফাঁড়ির উপ-পরিদর্শক (এসআই) সৈয়দ আজহারুল ইসলাম প্রথম আলো ডটকমকে বলেন, শ্রমিকদের বুঝিয়ে শান্ত করা হয়েছে। এ ছাড়া কারখানা কর্তৃপক্ষকে খাদ্য সরবরাহ প্রতিষ্ঠানের বিরুদ্ধে ব্যবস্থা নিতে বলা হয়েছে।',\n",
              " 'modification_date': '০৪ জুলাই ২০১৩, ২৩:২৭',\n",
              " 'published_date': '০৪ জুলাই ২০১৩, ২৩:২৬',\n",
              " 'tag': ['গাজীপুর'],\n",
              " 'title': 'কালিয়াকৈরে টিফিন খেয়ে ৫০০ শ্রমিক অসুস্থ, বিক্ষোভ',\n",
              " 'url': 'http://www.prothom-alo.com/bangladesh/article/19030'}"
            ]
          },
          "metadata": {},
          "execution_count": 10
        }
      ]
    },
    {
      "cell_type": "code",
      "source": [
        "data[0]['content']"
      ],
      "metadata": {
        "colab": {
          "base_uri": "https://localhost:8080/",
          "height": 123
        },
        "id": "uJG1AeQsBkLe",
        "outputId": "0ecfc5d0-e588-4956-f70a-8ac4ca1b827c"
      },
      "execution_count": 11,
      "outputs": [
        {
          "output_type": "execute_result",
          "data": {
            "application/vnd.google.colaboratory.intrinsic+json": {
              "type": "string"
            },
            "text/plain": [
              "'গাজীপুরের কালিয়াকৈর উপজেলার তেলিরচালা এলাকায় আজ বৃহস্পতিবার রাতের টিফিন খেয়ে একটি পোশাক কারখানার ৫০০ শ্রমিক অসুস্থ হয়ে পড়েছেন। এ ঘটনায় বিক্ষোভ করেছেন ওই কারখানার শ্রমিকেরা।সফিপুর মডার্ন হাসপাতালের জরুরি বিভাগের চিকিত্সক আল আমিন প্রথম আলো ডটকমকে বলেন, খাদ্যে বিষক্রিয়ায় তাঁরা (শ্রমিকেরা) অসুস্থ হয়ে পড়েছেন। এতে আতঙ্কিত হওয়ার কিছু নেই। অসুস্থদের চিকিত্সা দেওয়া হয়েছে।কারখানার শ্রমিক ও পুলিশ সূত্রে জানা যায়, উপজেলার তেলিরচালা এলাকার সেজাদ সোয়েটার লিমিটেড কারখানার শ্রমিকদের আজ রাত সাড়ে সাতটার দিকে টিফিন দেওয়া হয়। টিফিনে ছিল ডিম, রুটি, পেটিস ও কলা। টিফিন খেয়ে শ্রমিকেরা যথারীতি কাজে যোগ দেন। ওই টিফিন খাওয়ার প্রায় এক ঘণ্টা পর রাত সাড়ে আটটার দিকে কয়েকজন শ্রমিকের বমি ও পেট ব্যথা শুরু হয়। এরপর ধীরে ধীরে পুরো কারখানার শ্রমিকেরা অসুস্থ হতে থাকে। অনেকেই কারখানার মেঝেতে ঢলে পড়ে। এতে পাঁচ শতাধিক শ্রমিক অসুস্থ হয়ে পড়ে।পরে কারখানা কর্তৃপক্ষ দ্রুত যানবাহনের ব্যবস্থা করে তাদের সফিপুর জেনারেল হাসপাতাল, সফিপুর মডার্ন হাসপাতাল, উপজেলা স্বাস্থ্য কমপ্লেক্সসহ বিভিন্ন ক্লিনিকে ভর্তি করে। বাসি পচা খাবার দেওয়ায় শ্রমিকরা ক্ষুব্ধ হয়ে কারখানার সামনে বিক্ষোভ করে। খবর পেয়ে পুলিশ গিয়ে শ্রমিকদের বুঝিয়ে ও খাবার সরবরাহ প্রতিষ্ঠানের বিরুদ্ধে ব্যবস্থা নেওয়ার আশ্বাস দিলে শ্রমিকেরা শান্ত হয়।সফিপুর জেনারেল হাসপাতালে ভর্তি শ্রমিক জাকির হোসেন ও আসমা আক্তার বলেন, টিফিন খাওয়ার সময় ডিম ও কেক থেকে দুর্গন্ধ বের হচ্ছিল। এ কারণে অনেকেই ওই খাবার খায়নি। তবে বেশির ভাগ শ্রমিকই ওই খাবার খেয়েছে।কারখানার সহকারী উত্পাদন কর্মকর্তা (এপিএম) বছির উদ্দিন বলেন, টিফিনগুলি যে ঠিকাদারি প্রতিষ্ঠান কারখানায় সরবরাহ করে তাদের বিরুদ্ধে ব্যবস্থা নেওয়া হবে।মৌচাক পুলিশ ফাঁড়ির উপ-পরিদর্শক (এসআই) সৈয়দ আজহারুল ইসলাম প্রথম আলো ডটকমকে বলেন, শ্রমিকদের বুঝিয়ে শান্ত করা হয়েছে। এ ছাড়া কারখানা কর্তৃপক্ষকে খাদ্য সরবরাহ প্রতিষ্ঠানের বিরুদ্ধে ব্যবস্থা নিতে বলা হয়েছে।'"
            ]
          },
          "metadata": {},
          "execution_count": 11
        }
      ]
    },
    {
      "cell_type": "code",
      "source": [
        "len(data[0]['content'])"
      ],
      "metadata": {
        "colab": {
          "base_uri": "https://localhost:8080/"
        },
        "id": "x8erEC_8A3Wf",
        "outputId": "d8ec05a5-7368-4bc5-a5e4-7640c18f8939"
      },
      "execution_count": 12,
      "outputs": [
        {
          "output_type": "execute_result",
          "data": {
            "text/plain": [
              "1752"
            ]
          },
          "metadata": {},
          "execution_count": 12
        }
      ]
    },
    {
      "cell_type": "code",
      "source": [
        "cat_set = set(a['category'] for a in data)\n",
        "cat_set"
      ],
      "metadata": {
        "colab": {
          "base_uri": "https://localhost:8080/"
        },
        "id": "_39JF77ZBZ4D",
        "outputId": "d7990627-b603-4467-dc34-1aebd733aa10"
      },
      "execution_count": 13,
      "outputs": [
        {
          "output_type": "execute_result",
          "data": {
            "text/plain": [
              "{'-1',\n",
              " '22221',\n",
              " 'AskEditor',\n",
              " 'bangladesh',\n",
              " 'bondhushava',\n",
              " 'bs-events',\n",
              " 'chakri-bakri',\n",
              " 'demo-content',\n",
              " 'diverse',\n",
              " 'durporobash',\n",
              " 'economy',\n",
              " 'education',\n",
              " 'entertainment',\n",
              " 'events',\n",
              " 'facebook',\n",
              " 'international',\n",
              " 'kishoralo',\n",
              " 'life-style',\n",
              " 'mpaward1',\n",
              " 'nagorik-kantho',\n",
              " 'northamerica',\n",
              " 'onnoalo',\n",
              " 'opinion',\n",
              " 'pachmisheli',\n",
              " 'protichinta',\n",
              " 'roshalo',\n",
              " 'special-supplement',\n",
              " 'sports',\n",
              " 'tarunno',\n",
              " 'technology',\n",
              " 'trust',\n",
              " 'we-are'}"
            ]
          },
          "metadata": {},
          "execution_count": 13
        }
      ]
    },
    {
      "cell_type": "code",
      "source": [
        "len(cat_set)"
      ],
      "metadata": {
        "colab": {
          "base_uri": "https://localhost:8080/"
        },
        "id": "k96QuScRBzbD",
        "outputId": "77968d5f-ce56-4d9c-9524-ec7502994e5a"
      },
      "execution_count": 14,
      "outputs": [
        {
          "output_type": "execute_result",
          "data": {
            "text/plain": [
              "32"
            ]
          },
          "metadata": {},
          "execution_count": 14
        }
      ]
    },
    {
      "cell_type": "code",
      "source": [
        "all_cat = [a['category']for a in data]"
      ],
      "metadata": {
        "id": "qiz7dloKCOVx"
      },
      "execution_count": 15,
      "outputs": []
    },
    {
      "cell_type": "code",
      "source": [
        "len(data)  == len(all_cat) , len(data)"
      ],
      "metadata": {
        "colab": {
          "base_uri": "https://localhost:8080/"
        },
        "id": "IKnLbsj3B4B3",
        "outputId": "d8751905-a4a8-4cca-822b-cf4bc7cc8228"
      },
      "execution_count": 16,
      "outputs": [
        {
          "output_type": "execute_result",
          "data": {
            "text/plain": [
              "(True, 437948)"
            ]
          },
          "metadata": {},
          "execution_count": 16
        }
      ]
    },
    {
      "cell_type": "code",
      "source": [
        "from tqdm.notebook import tqdm_notebook\n",
        "\n",
        "cat_count = []\n",
        "\n",
        "for cat in tqdm_notebook(cat_set):\n",
        "  cat_count.append(all_cat.count(cat))\n",
        "cat_count"
      ],
      "metadata": {
        "colab": {
          "base_uri": "https://localhost:8080/",
          "height": 605,
          "referenced_widgets": [
            "8cd58eef8ec24de3b6d554e0c71b1df1",
            "a8bc39a428824352bb85a00acc746e9b",
            "973ddf042f254bd58def756ebeee1576",
            "6b9d3c5c7ae0458cbdd4414950e4a9f2",
            "5adea2675a9b4417b90e4557d14f8147",
            "d62b0d397b824a19aab003bd58cfa855",
            "f3688177fc73404daa7160fe9bd62388",
            "a4aded252b434c49b3ab23c620300da1",
            "454c4057a1224ba3bac29ffd7887f92e",
            "6361c0462e814f75950040a60d9958ea",
            "5081c01980e041ba8700f96a99dec4ea"
          ]
        },
        "id": "RzWdWxuYH5oY",
        "outputId": "13bf0aa8-c160-45cb-e95e-94e02eb0adf6"
      },
      "execution_count": 17,
      "outputs": [
        {
          "output_type": "display_data",
          "data": {
            "application/vnd.jupyter.widget-view+json": {
              "model_id": "8cd58eef8ec24de3b6d554e0c71b1df1",
              "version_minor": 0,
              "version_major": 2
            },
            "text/plain": [
              "  0%|          | 0/32 [00:00<?, ?it/s]"
            ]
          },
          "metadata": {}
        },
        {
          "output_type": "execute_result",
          "data": {
            "text/plain": [
              "[2,\n",
              " 30466,\n",
              " 443,\n",
              " 232504,\n",
              " 859,\n",
              " 990,\n",
              " 9721,\n",
              " 75,\n",
              " 1,\n",
              " 11,\n",
              " 3443,\n",
              " 17245,\n",
              " 2,\n",
              " 30856,\n",
              " 170,\n",
              " 10852,\n",
              " 12116,\n",
              " 17,\n",
              " 49012,\n",
              " 508,\n",
              " 6990,\n",
              " 40,\n",
              " 2702,\n",
              " 83,\n",
              " 123,\n",
              " 7402,\n",
              " 2604,\n",
              " 10,\n",
              " 2999,\n",
              " 1,\n",
              " 2,\n",
              " 15699]"
            ]
          },
          "metadata": {},
          "execution_count": 17
        }
      ]
    },
    {
      "cell_type": "code",
      "source": [
        "sorted(cat_count)[::-1]"
      ],
      "metadata": {
        "colab": {
          "base_uri": "https://localhost:8080/"
        },
        "id": "vMQmdrALhbM8",
        "outputId": "cb8268c7-94b4-4434-fcc4-9814cddaaefa"
      },
      "execution_count": 18,
      "outputs": [
        {
          "output_type": "execute_result",
          "data": {
            "text/plain": [
              "[232504,\n",
              " 49012,\n",
              " 30856,\n",
              " 30466,\n",
              " 17245,\n",
              " 15699,\n",
              " 12116,\n",
              " 10852,\n",
              " 9721,\n",
              " 7402,\n",
              " 6990,\n",
              " 3443,\n",
              " 2999,\n",
              " 2702,\n",
              " 2604,\n",
              " 990,\n",
              " 859,\n",
              " 508,\n",
              " 443,\n",
              " 170,\n",
              " 123,\n",
              " 83,\n",
              " 75,\n",
              " 40,\n",
              " 17,\n",
              " 11,\n",
              " 10,\n",
              " 2,\n",
              " 2,\n",
              " 2,\n",
              " 1,\n",
              " 1]"
            ]
          },
          "metadata": {},
          "execution_count": 18
        }
      ]
    },
    {
      "cell_type": "code",
      "source": [
        "cat_set"
      ],
      "metadata": {
        "colab": {
          "base_uri": "https://localhost:8080/"
        },
        "id": "sFWJk2eriOmt",
        "outputId": "ba2ab1a8-3528-48a9-a6b0-f998d4923262"
      },
      "execution_count": 19,
      "outputs": [
        {
          "output_type": "execute_result",
          "data": {
            "text/plain": [
              "{'-1',\n",
              " '22221',\n",
              " 'AskEditor',\n",
              " 'bangladesh',\n",
              " 'bondhushava',\n",
              " 'bs-events',\n",
              " 'chakri-bakri',\n",
              " 'demo-content',\n",
              " 'diverse',\n",
              " 'durporobash',\n",
              " 'economy',\n",
              " 'education',\n",
              " 'entertainment',\n",
              " 'events',\n",
              " 'facebook',\n",
              " 'international',\n",
              " 'kishoralo',\n",
              " 'life-style',\n",
              " 'mpaward1',\n",
              " 'nagorik-kantho',\n",
              " 'northamerica',\n",
              " 'onnoalo',\n",
              " 'opinion',\n",
              " 'pachmisheli',\n",
              " 'protichinta',\n",
              " 'roshalo',\n",
              " 'special-supplement',\n",
              " 'sports',\n",
              " 'tarunno',\n",
              " 'technology',\n",
              " 'trust',\n",
              " 'we-are'}"
            ]
          },
          "metadata": {},
          "execution_count": 19
        }
      ]
    },
    {
      "cell_type": "code",
      "source": [
        "z = zip(cat_count, cat_set)\n",
        "z = list(z)\n",
        "z"
      ],
      "metadata": {
        "colab": {
          "base_uri": "https://localhost:8080/"
        },
        "id": "iJNKLSEcimM4",
        "outputId": "99524c91-ce11-4e26-c479-86f674de7017"
      },
      "execution_count": 20,
      "outputs": [
        {
          "output_type": "execute_result",
          "data": {
            "text/plain": [
              "[(2, 'events'),\n",
              " (30466, 'entertainment'),\n",
              " (443, 'trust'),\n",
              " (232504, 'bangladesh'),\n",
              " (859, 'special-supplement'),\n",
              " (990, 'bondhushava'),\n",
              " (9721, 'education'),\n",
              " (75, 'chakri-bakri'),\n",
              " (1, 'bs-events'),\n",
              " (11, '22221'),\n",
              " (3443, 'pachmisheli'),\n",
              " (17245, 'economy'),\n",
              " (2, 'diverse'),\n",
              " (30856, 'international'),\n",
              " (170, 'protichinta'),\n",
              " (10852, 'life-style'),\n",
              " (12116, 'technology'),\n",
              " (17, 'mpaward1'),\n",
              " (49012, 'sports'),\n",
              " (508, 'kishoralo'),\n",
              " (6990, 'northamerica'),\n",
              " (40, 'tarunno'),\n",
              " (2702, 'onnoalo'),\n",
              " (83, 'nagorik-kantho'),\n",
              " (123, '-1'),\n",
              " (7402, 'durporobash'),\n",
              " (2604, 'roshalo'),\n",
              " (10, 'facebook'),\n",
              " (2999, 'we-are'),\n",
              " (1, 'AskEditor'),\n",
              " (2, 'demo-content'),\n",
              " (15699, 'opinion')]"
            ]
          },
          "metadata": {},
          "execution_count": 20
        }
      ]
    },
    {
      "cell_type": "code",
      "source": [
        "sel_cats = []\n",
        "\n",
        "for i in z :\n",
        "  if i[0] > 7000:\n",
        "    sel_cats.append(i[1])"
      ],
      "metadata": {
        "id": "_1-vMaGEi5ep"
      },
      "execution_count": 21,
      "outputs": []
    },
    {
      "cell_type": "code",
      "source": [
        "sel_cats"
      ],
      "metadata": {
        "colab": {
          "base_uri": "https://localhost:8080/"
        },
        "id": "hxRFviOljiWs",
        "outputId": "ca11d14b-99cc-49e1-baaa-d2ad552798ad"
      },
      "execution_count": 22,
      "outputs": [
        {
          "output_type": "execute_result",
          "data": {
            "text/plain": [
              "['entertainment',\n",
              " 'bangladesh',\n",
              " 'education',\n",
              " 'economy',\n",
              " 'international',\n",
              " 'life-style',\n",
              " 'technology',\n",
              " 'sports',\n",
              " 'durporobash',\n",
              " 'opinion']"
            ]
          },
          "metadata": {},
          "execution_count": 22
        }
      ]
    },
    {
      "cell_type": "code",
      "source": [
        "len(sel_cats) , len(cat_set)"
      ],
      "metadata": {
        "colab": {
          "base_uri": "https://localhost:8080/"
        },
        "id": "0XXn7w0OjjTF",
        "outputId": "19dc5f05-a7cd-4d98-e27e-88939f977c09"
      },
      "execution_count": 23,
      "outputs": [
        {
          "output_type": "execute_result",
          "data": {
            "text/plain": [
              "(10, 32)"
            ]
          },
          "metadata": {},
          "execution_count": 23
        }
      ]
    },
    {
      "cell_type": "code",
      "source": [
        "X_text = []\n",
        "y_label = []\n",
        "\n",
        "for i in data :\n",
        "  if i['category'] in sel_cats:\n",
        "    X_text.append(i['content'])\n",
        "    y_label.append(i['category'])"
      ],
      "metadata": {
        "id": "Gk5wxKYUjpGP"
      },
      "execution_count": 24,
      "outputs": []
    },
    {
      "cell_type": "code",
      "source": [
        "X_text[0]"
      ],
      "metadata": {
        "colab": {
          "base_uri": "https://localhost:8080/",
          "height": 123
        },
        "id": "loUtH2RlkVCw",
        "outputId": "55c72080-eda0-42bc-e007-e2da523e5f6a"
      },
      "execution_count": 25,
      "outputs": [
        {
          "output_type": "execute_result",
          "data": {
            "application/vnd.google.colaboratory.intrinsic+json": {
              "type": "string"
            },
            "text/plain": [
              "'গাজীপুরের কালিয়াকৈর উপজেলার তেলিরচালা এলাকায় আজ বৃহস্পতিবার রাতের টিফিন খেয়ে একটি পোশাক কারখানার ৫০০ শ্রমিক অসুস্থ হয়ে পড়েছেন। এ ঘটনায় বিক্ষোভ করেছেন ওই কারখানার শ্রমিকেরা।সফিপুর মডার্ন হাসপাতালের জরুরি বিভাগের চিকিত্সক আল আমিন প্রথম আলো ডটকমকে বলেন, খাদ্যে বিষক্রিয়ায় তাঁরা (শ্রমিকেরা) অসুস্থ হয়ে পড়েছেন। এতে আতঙ্কিত হওয়ার কিছু নেই। অসুস্থদের চিকিত্সা দেওয়া হয়েছে।কারখানার শ্রমিক ও পুলিশ সূত্রে জানা যায়, উপজেলার তেলিরচালা এলাকার সেজাদ সোয়েটার লিমিটেড কারখানার শ্রমিকদের আজ রাত সাড়ে সাতটার দিকে টিফিন দেওয়া হয়। টিফিনে ছিল ডিম, রুটি, পেটিস ও কলা। টিফিন খেয়ে শ্রমিকেরা যথারীতি কাজে যোগ দেন। ওই টিফিন খাওয়ার প্রায় এক ঘণ্টা পর রাত সাড়ে আটটার দিকে কয়েকজন শ্রমিকের বমি ও পেট ব্যথা শুরু হয়। এরপর ধীরে ধীরে পুরো কারখানার শ্রমিকেরা অসুস্থ হতে থাকে। অনেকেই কারখানার মেঝেতে ঢলে পড়ে। এতে পাঁচ শতাধিক শ্রমিক অসুস্থ হয়ে পড়ে।পরে কারখানা কর্তৃপক্ষ দ্রুত যানবাহনের ব্যবস্থা করে তাদের সফিপুর জেনারেল হাসপাতাল, সফিপুর মডার্ন হাসপাতাল, উপজেলা স্বাস্থ্য কমপ্লেক্সসহ বিভিন্ন ক্লিনিকে ভর্তি করে। বাসি পচা খাবার দেওয়ায় শ্রমিকরা ক্ষুব্ধ হয়ে কারখানার সামনে বিক্ষোভ করে। খবর পেয়ে পুলিশ গিয়ে শ্রমিকদের বুঝিয়ে ও খাবার সরবরাহ প্রতিষ্ঠানের বিরুদ্ধে ব্যবস্থা নেওয়ার আশ্বাস দিলে শ্রমিকেরা শান্ত হয়।সফিপুর জেনারেল হাসপাতালে ভর্তি শ্রমিক জাকির হোসেন ও আসমা আক্তার বলেন, টিফিন খাওয়ার সময় ডিম ও কেক থেকে দুর্গন্ধ বের হচ্ছিল। এ কারণে অনেকেই ওই খাবার খায়নি। তবে বেশির ভাগ শ্রমিকই ওই খাবার খেয়েছে।কারখানার সহকারী উত্পাদন কর্মকর্তা (এপিএম) বছির উদ্দিন বলেন, টিফিনগুলি যে ঠিকাদারি প্রতিষ্ঠান কারখানায় সরবরাহ করে তাদের বিরুদ্ধে ব্যবস্থা নেওয়া হবে।মৌচাক পুলিশ ফাঁড়ির উপ-পরিদর্শক (এসআই) সৈয়দ আজহারুল ইসলাম প্রথম আলো ডটকমকে বলেন, শ্রমিকদের বুঝিয়ে শান্ত করা হয়েছে। এ ছাড়া কারখানা কর্তৃপক্ষকে খাদ্য সরবরাহ প্রতিষ্ঠানের বিরুদ্ধে ব্যবস্থা নিতে বলা হয়েছে।'"
            ]
          },
          "metadata": {},
          "execution_count": 25
        }
      ]
    },
    {
      "cell_type": "code",
      "source": [
        "y_label[0]"
      ],
      "metadata": {
        "colab": {
          "base_uri": "https://localhost:8080/",
          "height": 36
        },
        "id": "QUp7ahOVkXse",
        "outputId": "c7a49849-c800-420e-f296-5409640c5b09"
      },
      "execution_count": 26,
      "outputs": [
        {
          "output_type": "execute_result",
          "data": {
            "application/vnd.google.colaboratory.intrinsic+json": {
              "type": "string"
            },
            "text/plain": [
              "'bangladesh'"
            ]
          },
          "metadata": {},
          "execution_count": 26
        }
      ]
    },
    {
      "cell_type": "code",
      "source": [
        "len(X_text) , len(y_label)"
      ],
      "metadata": {
        "colab": {
          "base_uri": "https://localhost:8080/"
        },
        "id": "BJpnHtNdkc45",
        "outputId": "537d7df7-ac53-4bc7-ebc0-c3f4186f8d27"
      },
      "execution_count": 27,
      "outputs": [
        {
          "output_type": "execute_result",
          "data": {
            "text/plain": [
              "(415873, 415873)"
            ]
          },
          "metadata": {},
          "execution_count": 27
        }
      ]
    },
    {
      "cell_type": "code",
      "source": [
        "set(y_label)"
      ],
      "metadata": {
        "colab": {
          "base_uri": "https://localhost:8080/"
        },
        "id": "Fpdxfnabkt9K",
        "outputId": "6116c190-8863-4cf6-af2b-c5e7b561e01a"
      },
      "execution_count": 28,
      "outputs": [
        {
          "output_type": "execute_result",
          "data": {
            "text/plain": [
              "{'bangladesh',\n",
              " 'durporobash',\n",
              " 'economy',\n",
              " 'education',\n",
              " 'entertainment',\n",
              " 'international',\n",
              " 'life-style',\n",
              " 'opinion',\n",
              " 'sports',\n",
              " 'technology'}"
            ]
          },
          "metadata": {},
          "execution_count": 28
        }
      ]
    },
    {
      "cell_type": "code",
      "source": [
        "sel_cats"
      ],
      "metadata": {
        "colab": {
          "base_uri": "https://localhost:8080/"
        },
        "id": "4m1IcNWNk3pT",
        "outputId": "0353099b-c564-4386-a993-edd820287753"
      },
      "execution_count": 29,
      "outputs": [
        {
          "output_type": "execute_result",
          "data": {
            "text/plain": [
              "['entertainment',\n",
              " 'bangladesh',\n",
              " 'education',\n",
              " 'economy',\n",
              " 'international',\n",
              " 'life-style',\n",
              " 'technology',\n",
              " 'sports',\n",
              " 'durporobash',\n",
              " 'opinion']"
            ]
          },
          "metadata": {},
          "execution_count": 29
        }
      ]
    },
    {
      "cell_type": "code",
      "source": [
        "len(set(y_label)) == len(sel_cats)"
      ],
      "metadata": {
        "colab": {
          "base_uri": "https://localhost:8080/"
        },
        "id": "fniWMm04k6T4",
        "outputId": "d898d72c-aa51-4430-ba78-626dcf549f97"
      },
      "execution_count": 30,
      "outputs": [
        {
          "output_type": "execute_result",
          "data": {
            "text/plain": [
              "True"
            ]
          },
          "metadata": {},
          "execution_count": 30
        }
      ]
    },
    {
      "cell_type": "code",
      "source": [
        "# convert the categorical labels to numeric \n",
        "from sklearn.preprocessing import LabelEncoder\n",
        "encoder = LabelEncoder()\n",
        "\n",
        "class_labels = encoder.fit_transform(y_label)"
      ],
      "metadata": {
        "id": "hHytrpLKk_YQ"
      },
      "execution_count": 31,
      "outputs": []
    },
    {
      "cell_type": "code",
      "source": [
        "len(class_labels) == len(y_label)"
      ],
      "metadata": {
        "colab": {
          "base_uri": "https://localhost:8080/"
        },
        "id": "jcLDdyx1lZf-",
        "outputId": "6e91b2f4-808e-4e46-df3d-f4bf6ba47daa"
      },
      "execution_count": 32,
      "outputs": [
        {
          "output_type": "execute_result",
          "data": {
            "text/plain": [
              "True"
            ]
          },
          "metadata": {},
          "execution_count": 32
        }
      ]
    },
    {
      "cell_type": "code",
      "source": [
        "set(class_labels)"
      ],
      "metadata": {
        "colab": {
          "base_uri": "https://localhost:8080/"
        },
        "id": "X0jfKXGAnoLh",
        "outputId": "f2535265-f2c2-451e-d939-c8b939fd43c6"
      },
      "execution_count": 33,
      "outputs": [
        {
          "output_type": "execute_result",
          "data": {
            "text/plain": [
              "{0, 1, 2, 3, 4, 5, 6, 7, 8, 9}"
            ]
          },
          "metadata": {},
          "execution_count": 33
        }
      ]
    },
    {
      "cell_type": "code",
      "source": [
        "encoder.inverse_transform(list(set(class_labels)))"
      ],
      "metadata": {
        "colab": {
          "base_uri": "https://localhost:8080/"
        },
        "id": "8URY302Yl9Od",
        "outputId": "52b98caa-4387-4e77-b0cf-ba4257c5eb0c"
      },
      "execution_count": 34,
      "outputs": [
        {
          "output_type": "execute_result",
          "data": {
            "text/plain": [
              "array(['bangladesh', 'durporobash', 'economy', 'education',\n",
              "       'entertainment', 'international', 'life-style', 'opinion',\n",
              "       'sports', 'technology'], dtype='<U13')"
            ]
          },
          "metadata": {},
          "execution_count": 34
        }
      ]
    },
    {
      "cell_type": "code",
      "source": [
        "list(zip(set(class_labels), list(encoder.inverse_transform(list(set(class_labels))))))"
      ],
      "metadata": {
        "colab": {
          "base_uri": "https://localhost:8080/"
        },
        "id": "bMiV_giUnzKA",
        "outputId": "44255470-5055-44c6-c9ef-e8137fe4a02c"
      },
      "execution_count": 35,
      "outputs": [
        {
          "output_type": "execute_result",
          "data": {
            "text/plain": [
              "[(0, 'bangladesh'),\n",
              " (1, 'durporobash'),\n",
              " (2, 'economy'),\n",
              " (3, 'education'),\n",
              " (4, 'entertainment'),\n",
              " (5, 'international'),\n",
              " (6, 'life-style'),\n",
              " (7, 'opinion'),\n",
              " (8, 'sports'),\n",
              " (9, 'technology')]"
            ]
          },
          "metadata": {},
          "execution_count": 35
        }
      ]
    },
    {
      "cell_type": "code",
      "source": [
        "type(class_labels) "
      ],
      "metadata": {
        "colab": {
          "base_uri": "https://localhost:8080/"
        },
        "id": "uDEgO-dOoTQf",
        "outputId": "bb27a61d-d270-4f2f-ee47-83873e020148"
      },
      "execution_count": 36,
      "outputs": [
        {
          "output_type": "execute_result",
          "data": {
            "text/plain": [
              "numpy.ndarray"
            ]
          },
          "metadata": {},
          "execution_count": 36
        }
      ]
    },
    {
      "cell_type": "code",
      "source": [
        "class_labels.shape"
      ],
      "metadata": {
        "colab": {
          "base_uri": "https://localhost:8080/"
        },
        "id": "6kXMWALyokqV",
        "outputId": "bc577c3e-4ba6-42b7-b6c0-97413637aec5"
      },
      "execution_count": 37,
      "outputs": [
        {
          "output_type": "execute_result",
          "data": {
            "text/plain": [
              "(415873,)"
            ]
          },
          "metadata": {},
          "execution_count": 37
        }
      ]
    },
    {
      "cell_type": "code",
      "source": [
        "import numpy as np\n",
        "np.shape(np.reshape(class_labels, newshape=(class_labels.shape[0], 1)))"
      ],
      "metadata": {
        "colab": {
          "base_uri": "https://localhost:8080/"
        },
        "id": "EqpNq3iCooMu",
        "outputId": "9c69cc89-b4dc-494a-df12-7cd61fcf3df2"
      },
      "execution_count": 38,
      "outputs": [
        {
          "output_type": "execute_result",
          "data": {
            "text/plain": [
              "(415873, 1)"
            ]
          },
          "metadata": {},
          "execution_count": 38
        }
      ]
    },
    {
      "cell_type": "code",
      "source": [
        "# apply one hot encoding to the class label for binary encoding\n",
        "from sklearn.preprocessing import OneHotEncoder\n",
        "encoder = OneHotEncoder(sparse = False)\n",
        "\n",
        "class_labels = class_labels.reshape((class_labels.shape[0],1))\n",
        "y_ohe = encoder.fit_transform(class_labels)"
      ],
      "metadata": {
        "id": "dshKIoIppXmd"
      },
      "execution_count": 39,
      "outputs": []
    },
    {
      "cell_type": "code",
      "source": [
        "y_ohe.shape"
      ],
      "metadata": {
        "colab": {
          "base_uri": "https://localhost:8080/"
        },
        "id": "kHC4LTyQ5fNU",
        "outputId": "748ae211-df95-4980-d0d6-0aee148a5d66"
      },
      "execution_count": 40,
      "outputs": [
        {
          "output_type": "execute_result",
          "data": {
            "text/plain": [
              "(415873, 10)"
            ]
          },
          "metadata": {},
          "execution_count": 40
        }
      ]
    },
    {
      "cell_type": "code",
      "source": [
        "y_ohe[1]"
      ],
      "metadata": {
        "colab": {
          "base_uri": "https://localhost:8080/"
        },
        "id": "T6eiXEqO5hjQ",
        "outputId": "c7c05135-c9ac-453d-8d9a-bb0e6bf1dc4c"
      },
      "execution_count": 41,
      "outputs": [
        {
          "output_type": "execute_result",
          "data": {
            "text/plain": [
              "array([0., 0., 0., 0., 0., 0., 0., 0., 1., 0.])"
            ]
          },
          "metadata": {},
          "execution_count": 41
        }
      ]
    },
    {
      "cell_type": "code",
      "source": [
        "class_labels[1]"
      ],
      "metadata": {
        "colab": {
          "base_uri": "https://localhost:8080/"
        },
        "id": "r8osnsFn5mQV",
        "outputId": "ec18a31a-a6d9-4bb0-8839-00031862ccf5"
      },
      "execution_count": 42,
      "outputs": [
        {
          "output_type": "execute_result",
          "data": {
            "text/plain": [
              "array([8])"
            ]
          },
          "metadata": {},
          "execution_count": 42
        }
      ]
    },
    {
      "cell_type": "markdown",
      "source": [
        "## tokenize the texts input to convert tokens to numeric\n"
      ],
      "metadata": {
        "id": "PSRNU4qO6S0r"
      }
    },
    {
      "cell_type": "code",
      "source": [
        "X_text[0]"
      ],
      "metadata": {
        "colab": {
          "base_uri": "https://localhost:8080/",
          "height": 123
        },
        "id": "lTEbqAb-66hV",
        "outputId": "4ad07a2d-7ceb-489f-a62c-8557c241e831"
      },
      "execution_count": 43,
      "outputs": [
        {
          "output_type": "execute_result",
          "data": {
            "application/vnd.google.colaboratory.intrinsic+json": {
              "type": "string"
            },
            "text/plain": [
              "'গাজীপুরের কালিয়াকৈর উপজেলার তেলিরচালা এলাকায় আজ বৃহস্পতিবার রাতের টিফিন খেয়ে একটি পোশাক কারখানার ৫০০ শ্রমিক অসুস্থ হয়ে পড়েছেন। এ ঘটনায় বিক্ষোভ করেছেন ওই কারখানার শ্রমিকেরা।সফিপুর মডার্ন হাসপাতালের জরুরি বিভাগের চিকিত্সক আল আমিন প্রথম আলো ডটকমকে বলেন, খাদ্যে বিষক্রিয়ায় তাঁরা (শ্রমিকেরা) অসুস্থ হয়ে পড়েছেন। এতে আতঙ্কিত হওয়ার কিছু নেই। অসুস্থদের চিকিত্সা দেওয়া হয়েছে।কারখানার শ্রমিক ও পুলিশ সূত্রে জানা যায়, উপজেলার তেলিরচালা এলাকার সেজাদ সোয়েটার লিমিটেড কারখানার শ্রমিকদের আজ রাত সাড়ে সাতটার দিকে টিফিন দেওয়া হয়। টিফিনে ছিল ডিম, রুটি, পেটিস ও কলা। টিফিন খেয়ে শ্রমিকেরা যথারীতি কাজে যোগ দেন। ওই টিফিন খাওয়ার প্রায় এক ঘণ্টা পর রাত সাড়ে আটটার দিকে কয়েকজন শ্রমিকের বমি ও পেট ব্যথা শুরু হয়। এরপর ধীরে ধীরে পুরো কারখানার শ্রমিকেরা অসুস্থ হতে থাকে। অনেকেই কারখানার মেঝেতে ঢলে পড়ে। এতে পাঁচ শতাধিক শ্রমিক অসুস্থ হয়ে পড়ে।পরে কারখানা কর্তৃপক্ষ দ্রুত যানবাহনের ব্যবস্থা করে তাদের সফিপুর জেনারেল হাসপাতাল, সফিপুর মডার্ন হাসপাতাল, উপজেলা স্বাস্থ্য কমপ্লেক্সসহ বিভিন্ন ক্লিনিকে ভর্তি করে। বাসি পচা খাবার দেওয়ায় শ্রমিকরা ক্ষুব্ধ হয়ে কারখানার সামনে বিক্ষোভ করে। খবর পেয়ে পুলিশ গিয়ে শ্রমিকদের বুঝিয়ে ও খাবার সরবরাহ প্রতিষ্ঠানের বিরুদ্ধে ব্যবস্থা নেওয়ার আশ্বাস দিলে শ্রমিকেরা শান্ত হয়।সফিপুর জেনারেল হাসপাতালে ভর্তি শ্রমিক জাকির হোসেন ও আসমা আক্তার বলেন, টিফিন খাওয়ার সময় ডিম ও কেক থেকে দুর্গন্ধ বের হচ্ছিল। এ কারণে অনেকেই ওই খাবার খায়নি। তবে বেশির ভাগ শ্রমিকই ওই খাবার খেয়েছে।কারখানার সহকারী উত্পাদন কর্মকর্তা (এপিএম) বছির উদ্দিন বলেন, টিফিনগুলি যে ঠিকাদারি প্রতিষ্ঠান কারখানায় সরবরাহ করে তাদের বিরুদ্ধে ব্যবস্থা নেওয়া হবে।মৌচাক পুলিশ ফাঁড়ির উপ-পরিদর্শক (এসআই) সৈয়দ আজহারুল ইসলাম প্রথম আলো ডটকমকে বলেন, শ্রমিকদের বুঝিয়ে শান্ত করা হয়েছে। এ ছাড়া কারখানা কর্তৃপক্ষকে খাদ্য সরবরাহ প্রতিষ্ঠানের বিরুদ্ধে ব্যবস্থা নিতে বলা হয়েছে।'"
            ]
          },
          "metadata": {},
          "execution_count": 43
        }
      ]
    },
    {
      "cell_type": "code",
      "source": [
        "from tensorflow.keras.preprocessing.text import Tokenizer\n",
        "\n",
        "tokenizer = Tokenizer()\n",
        "tokenizer.fit_on_texts(X_text) # Only words known by the tokenizer will be taken into account\n",
        "X_token = tokenizer.texts_to_sequences(X_text) # Transforms each text in texts to a sequence of integers\n"
      ],
      "metadata": {
        "id": "PxM1dbb-62lk"
      },
      "execution_count": 44,
      "outputs": []
    },
    {
      "cell_type": "code",
      "source": [
        "type(tokenizer.word_index)"
      ],
      "metadata": {
        "colab": {
          "base_uri": "https://localhost:8080/"
        },
        "id": "MRVVC5VR8JV4",
        "outputId": "45d71ac7-8072-4ada-d98c-9f0b002f223e"
      },
      "execution_count": 45,
      "outputs": [
        {
          "output_type": "execute_result",
          "data": {
            "text/plain": [
              "dict"
            ]
          },
          "metadata": {},
          "execution_count": 45
        }
      ]
    },
    {
      "cell_type": "code",
      "source": [
        "for index, token  in enumerate(tokenizer.word_index):\n",
        "  print(token)\n",
        "  if index == 10:\n",
        "    break\n"
      ],
      "metadata": {
        "colab": {
          "base_uri": "https://localhost:8080/"
        },
        "id": "2KYoJkRB9tES",
        "outputId": "5868177a-a359-4b9b-c2c4-de5c6290e006"
      },
      "execution_count": 46,
      "outputs": [
        {
          "output_type": "stream",
          "name": "stdout",
          "text": [
            "ও\n",
            "এ\n",
            "থেকে\n",
            "করে\n",
            "করা\n",
            "বলেন\n",
            "এই\n",
            "না\n",
            "জন্য\n",
            "তিনি\n",
            "সঙ্গে\n"
          ]
        }
      ]
    },
    {
      "cell_type": "code",
      "source": [
        "vocab_size = len(tokenizer.word_index)+1 \n",
        "vocab_size"
      ],
      "metadata": {
        "colab": {
          "base_uri": "https://localhost:8080/"
        },
        "id": "GbFDkT_j8INV",
        "outputId": "4a219bdd-5571-4ea7-8e17-76861ee45079"
      },
      "execution_count": 47,
      "outputs": [
        {
          "output_type": "execute_result",
          "data": {
            "text/plain": [
              "2497356"
            ]
          },
          "metadata": {},
          "execution_count": 47
        }
      ]
    },
    {
      "cell_type": "code",
      "source": [
        "tokenizer.texts_to_sequences([\"আমার নাম ফয়সাল\"])"
      ],
      "metadata": {
        "colab": {
          "base_uri": "https://localhost:8080/"
        },
        "id": "-OasTnc271KB",
        "outputId": "a8278d32-8df6-4c72-fd81-60273d413d2a"
      },
      "execution_count": 48,
      "outputs": [
        {
          "output_type": "execute_result",
          "data": {
            "text/plain": [
              "[[83, 157, 18543]]"
            ]
          },
          "metadata": {},
          "execution_count": 48
        }
      ]
    },
    {
      "cell_type": "code",
      "source": [
        "print(X_text[5])\n",
        "print(X_token[5])"
      ],
      "metadata": {
        "colab": {
          "base_uri": "https://localhost:8080/"
        },
        "id": "tAZPyEosAE48",
        "outputId": "344f6335-cef7-439f-9f5a-f4509deca6ec"
      },
      "execution_count": 49,
      "outputs": [
        {
          "output_type": "stream",
          "name": "stdout",
          "text": [
            "গুগলের মোবাইল অপারেটিং সিস্টেম অ্যান্ড্রয়েডের বড় ধরনের ত্রুটির খোঁজ পেয়েছেন বলে দাবি করেছেন যুক্তরাষ্ট্রের প্রযুক্তি নিরাপত্তা গবেষণা প্রতিষ্ঠান ব্লুবক্সের গবেষকেরা। গবেষকেরা বলছেন, অ্যান্ড্রয়েডের দুর্বলতা বা বাগ হিসেবে একটি ‘মাস্টার কী’-এর খোঁজ পেয়েছেন তাঁরা। এ সফটওয়্যার ত্রুটির কারণে সাইবার অপরাধীরা অ্যান্ড্রয়েড স্মার্টফোন থেকে তথ্য চুরি করতে পারে। এক খবরে এ তথ্য জানিয়েছে বিবিসি অনলাইন। গবেষকেদের দাবি, অ্যান্ড্রয়েড সফটওয়্যারের এই ত্রুটি ২০০৯ সালের পর থেকে উন্মুক্ত সব সংস্করণেই রয়েছে। ক্রিপটোগ্রাফিক ভেরিফিকেশন প্রক্রিয়ার দুর্বলতার কারণেই অ্যান্ড্রয়েডে অতিরিক্ত ম্যালওয়্যারের আক্রমণ দেখা যায়। ক্রিপটোগ্রাফিক ভেরিফিকেশন প্রক্রিয়ার মাধ্যমে বিভিন্ন অ্যাপ্লিকেশন পরীক্ষা করে দেখা হয়।  চলতি বছরের আগস্ট মাসে অনুষ্ঠিতব্য ব্ল্যাক হ্যাক হ্যাকারস সম্মেলনে অ্যান্ড্রয়েডের এ ত্রুটির বিস্তারিত জানানোর কথা জানিয়েছেন গবেষকেরা। অ্যান্ড্রয়েডের সফটওয়্যার ত্রুটির বিষয়ে গুগল কর্তৃপক্ষ আনুষ্ঠানিকভাবে কোনো মন্তব্য করেনি।\n",
            "[5200, 1280, 4961, 4314, 45265, 529, 159, 9617, 2182, 5273, 27, 131, 111, 696, 1009, 561, 964, 497, 540252, 14349, 4427, 744, 45265, 5857, 52, 28424, 67, 14, 47693, 73151, 25, 2182, 5273, 1376, 2, 10840, 9617, 101, 4377, 13653, 16398, 2768, 3, 171, 2069, 16, 215, 13, 1367, 2, 171, 3338, 3328, 819393, 131, 16398, 37270, 7, 4131, 1875, 148, 22, 3, 2358, 57, 26238, 1552, 277986, 35117, 17253, 12598, 1263, 106412, 469, 135588, 2495, 71, 1156, 277986, 35117, 17253, 163, 56, 9288, 414, 4, 71, 230, 310488, 146, 614, 445, 21845, 8916, 11327, 175135, 471, 45265, 2, 9617, 2086, 4217, 28, 2808, 819394, 10840, 9617, 961, 3281, 780, 2359, 31, 682, 2355]\n"
          ]
        }
      ]
    },
    {
      "cell_type": "code",
      "source": [
        "for i in \"আমার নাম ফয়সাল\":\n",
        "  print(i)"
      ],
      "metadata": {
        "colab": {
          "base_uri": "https://localhost:8080/"
        },
        "id": "dXQtBEIZDC4s",
        "outputId": "5c2042cb-c1e2-4519-c2a4-fda627bcc576"
      },
      "execution_count": 50,
      "outputs": [
        {
          "output_type": "stream",
          "name": "stdout",
          "text": [
            "আ\n",
            "ম\n",
            "া\n",
            "র\n",
            " \n",
            "ন\n",
            "া\n",
            "ম\n",
            " \n",
            "ফ\n",
            "য\n",
            "়\n",
            "স\n",
            "া\n",
            "ল\n"
          ]
        }
      ]
    },
    {
      "cell_type": "code",
      "source": [
        "len(\"আমার নাম ফয়সাল\")"
      ],
      "metadata": {
        "colab": {
          "base_uri": "https://localhost:8080/"
        },
        "id": "8Xnv0rc1DLJ7",
        "outputId": "a90e4ae6-8348-4c6f-a5f9-51840221cf57"
      },
      "execution_count": 51,
      "outputs": [
        {
          "output_type": "execute_result",
          "data": {
            "text/plain": [
              "15"
            ]
          },
          "metadata": {},
          "execution_count": 51
        }
      ]
    },
    {
      "cell_type": "code",
      "source": [
        "len(X_text[5]) , len(X_token[5]) "
      ],
      "metadata": {
        "colab": {
          "base_uri": "https://localhost:8080/"
        },
        "id": "s8ek1D-JAo-D",
        "outputId": "da514ca0-312f-4546-8c0b-3329f5bc8a42"
      },
      "execution_count": 52,
      "outputs": [
        {
          "output_type": "execute_result",
          "data": {
            "text/plain": [
              "(930, 114)"
            ]
          },
          "metadata": {},
          "execution_count": 52
        }
      ]
    },
    {
      "cell_type": "code",
      "source": [
        "if \"ফয়সাল\" in tokenizer.word_index:\n",
        "  print(tokenizer.word_index[\"ফয়সাল\"])"
      ],
      "metadata": {
        "colab": {
          "base_uri": "https://localhost:8080/"
        },
        "id": "VT4yBZgxK2V5",
        "outputId": "3d18d6d1-a118-421e-e2c4-10ec9b9d970e"
      },
      "execution_count": 53,
      "outputs": [
        {
          "output_type": "stream",
          "name": "stdout",
          "text": [
            "18543\n"
          ]
        }
      ]
    },
    {
      "cell_type": "code",
      "source": [
        "tokenizer.sequences_to_texts([X_token[5]])"
      ],
      "metadata": {
        "colab": {
          "base_uri": "https://localhost:8080/"
        },
        "id": "GdbPmwrXAywg",
        "outputId": "772d325a-1ac8-4b63-d4f3-51d078d81c8b"
      },
      "execution_count": 54,
      "outputs": [
        {
          "output_type": "execute_result",
          "data": {
            "text/plain": [
              "['গুগলের মোবাইল অপারেটিং সিস্টেম অ্যান্ড্রয়েডের বড় ধরনের ত্রুটির খোঁজ পেয়েছেন বলে দাবি করেছেন যুক্তরাষ্ট্রের প্রযুক্তি নিরাপত্তা গবেষণা প্রতিষ্ঠান ব্লুবক্সের গবেষকেরা। গবেষকেরা বলছেন অ্যান্ড্রয়েডের দুর্বলতা বা বাগ হিসেবে একটি ‘মাস্টার কী’ এর খোঁজ পেয়েছেন তাঁরা। এ সফটওয়্যার ত্রুটির কারণে সাইবার অপরাধীরা অ্যান্ড্রয়েড স্মার্টফোন থেকে তথ্য চুরি করতে পারে। এক খবরে এ তথ্য জানিয়েছে বিবিসি অনলাইন।\\xa0গবেষকেদের দাবি অ্যান্ড্রয়েড সফটওয়্যারের এই ত্রুটি ২০০৯ সালের পর থেকে উন্মুক্ত সব সংস্করণেই রয়েছে। ক্রিপটোগ্রাফিক ভেরিফিকেশন প্রক্রিয়ার দুর্বলতার কারণেই অ্যান্ড্রয়েডে অতিরিক্ত ম্যালওয়্যারের আক্রমণ দেখা যায়। ক্রিপটোগ্রাফিক ভেরিফিকেশন প্রক্রিয়ার মাধ্যমে বিভিন্ন অ্যাপ্লিকেশন পরীক্ষা করে দেখা হয়। \\xa0চলতি বছরের আগস্ট মাসে অনুষ্ঠিতব্য ব্ল্যাক হ্যাক হ্যাকারস সম্মেলনে অ্যান্ড্রয়েডের এ ত্রুটির বিস্তারিত জানানোর কথা জানিয়েছেন গবেষকেরা।\\xa0অ্যান্ড্রয়েডের সফটওয়্যার ত্রুটির বিষয়ে গুগল কর্তৃপক্ষ আনুষ্ঠানিকভাবে কোনো মন্তব্য করেনি।']"
            ]
          },
          "metadata": {},
          "execution_count": 54
        }
      ]
    },
    {
      "cell_type": "markdown",
      "source": [
        "## pad the sequences\n"
      ],
      "metadata": {
        "id": "KK7r6CJWBDZI"
      }
    },
    {
      "cell_type": "code",
      "source": [
        "from tensorflow.keras.preprocessing.sequence import pad_sequences\n",
        "\n",
        "maxlen = 300\n",
        "\n",
        "X_pad = pad_sequences(X_token, padding = \"post\", maxlen = maxlen)\n",
        "\n"
      ],
      "metadata": {
        "id": "BAlhJWH3CGer"
      },
      "execution_count": 55,
      "outputs": []
    },
    {
      "cell_type": "code",
      "source": [
        "X_pad.shape"
      ],
      "metadata": {
        "colab": {
          "base_uri": "https://localhost:8080/"
        },
        "id": "RbSm-KRCM53-",
        "outputId": "f1561933-5958-406d-8cc7-02dda3c461f7"
      },
      "execution_count": 56,
      "outputs": [
        {
          "output_type": "execute_result",
          "data": {
            "text/plain": [
              "(415873, 300)"
            ]
          },
          "metadata": {},
          "execution_count": 56
        }
      ]
    },
    {
      "cell_type": "code",
      "source": [
        "y_ohe.shape"
      ],
      "metadata": {
        "colab": {
          "base_uri": "https://localhost:8080/"
        },
        "id": "KQyMMlM9SWsv",
        "outputId": "776d40e2-1432-41c9-e993-fdc23d47309b"
      },
      "execution_count": 57,
      "outputs": [
        {
          "output_type": "execute_result",
          "data": {
            "text/plain": [
              "(415873, 10)"
            ]
          },
          "metadata": {},
          "execution_count": 57
        }
      ]
    },
    {
      "cell_type": "code",
      "source": [
        "vocab_size"
      ],
      "metadata": {
        "colab": {
          "base_uri": "https://localhost:8080/"
        },
        "id": "ipRvExXQQCI9",
        "outputId": "50f13436-00a6-4924-c9b5-6aab484bdc03"
      },
      "execution_count": 58,
      "outputs": [
        {
          "output_type": "execute_result",
          "data": {
            "text/plain": [
              "2497356"
            ]
          },
          "metadata": {},
          "execution_count": 58
        }
      ]
    },
    {
      "cell_type": "code",
      "source": [
        "maxlen"
      ],
      "metadata": {
        "colab": {
          "base_uri": "https://localhost:8080/"
        },
        "id": "p2rkMPgGSUtM",
        "outputId": "26a342f3-67ad-4ce9-bb08-0948c28e2420"
      },
      "execution_count": 59,
      "outputs": [
        {
          "output_type": "execute_result",
          "data": {
            "text/plain": [
              "300"
            ]
          },
          "metadata": {},
          "execution_count": 59
        }
      ]
    },
    {
      "cell_type": "code",
      "source": [
        "X_pad[0]"
      ],
      "metadata": {
        "colab": {
          "base_uri": "https://localhost:8080/"
        },
        "id": "SY0XvXqBSeBN",
        "outputId": "4304acd8-98d4-48f3-cff7-25303669c7a9"
      },
      "execution_count": 60,
      "outputs": [
        {
          "output_type": "execute_result",
          "data": {
            "text/plain": [
              "array([  2423,  17699,     97,  84743,    862,     62,    243,   2294,\n",
              "        17904,   9439,     14,   1042,   1570,   1125,    671,   1702,\n",
              "          363,  12546,      2,   1225,   1366,    111,     26,   1570,\n",
              "       819364,  17721,    639,   1131,    224,  10265,    425,   1327,\n",
              "           24,    729,   6338,      6,  11512,  66741,     69,   2397,\n",
              "         1702,    363,  12546,    110,   7557,   1160,     63,    142,\n",
              "        97133,   9903,    403, 217932,    671,      1,     60,    394,\n",
              "          147,    890,     97,  84743,    228, 355379,  45492,   2482,\n",
              "         1570,   1457,     62,    261,    848,   3270,     74,  17904,\n",
              "          403,    230,  78381,     49,   3253,   8881, 131797,      1,\n",
              "        84744,  17904,   9439,   2397,   8553,    462,    629,    246,\n",
              "           26,  17904,  11809,    853,     13,    670,     22,    261,\n",
              "          848,   2049,     74,   2415,   3564,   9503,      1,   7770,\n",
              "         3051,     48,    230,    207,   1550,   1550,    694,   1570,\n",
              "         2397,   1702,     89,    493,    918,   1570,   7764,  10172,\n",
              "         3039,    110,    232,   1309,    671,   1702,    363, 204802,\n",
              "         1648,    780,    521,   3967,    226,      4,     81,  27768,\n",
              "          754,   1065,  27768,  17721,   1065,    108,    479,  46173,\n",
              "           56,   5967,    411,    118,  21183,  11226,    788,   7636,\n",
              "       124794,   2560,    363,   1570,    197,   1366,    118,    280,\n",
              "         2202,     60,   1198,   1457,  14222,      1,    788,   1177,\n",
              "          708,    102,    226,   2042,   2517,    857,   2397,   3337,\n",
              "       819365,    754,    259,    411,    671,   2203,    136,      1,\n",
              "        10568,   1028,      6,  17904,  11809,    336,   3253,      1,\n",
              "         6058,      3,   9032,    327,   3721,      2,    101,    918,\n",
              "           26,    788, 310484,     37,    783,    562,  50867,     26,\n",
              "          788, 819366,    372,  15004,     82, 310485,  68038,    330,\n",
              "            6, 819367,     32,   4704,    497,   8380,   1177,      4,\n",
              "           81,    102,    226,   1074, 540242,     60,  10295,   6467,\n",
              "         1548,    994,   3942,  11347,     94,     24,    729,   6338,\n",
              "            6,   1457,  14222,   3337,      5,    288,      2,    553,\n",
              "         1648,   3318,   1651,   1177,    708,    102,    226,    191,\n",
              "          116,    288,      0,      0,      0,      0,      0,      0,\n",
              "            0,      0,      0,      0,      0,      0,      0,      0,\n",
              "            0,      0,      0,      0,      0,      0,      0,      0,\n",
              "            0,      0,      0,      0,      0,      0,      0,      0,\n",
              "            0,      0,      0,      0,      0,      0,      0,      0,\n",
              "            0,      0,      0,      0], dtype=int32)"
            ]
          },
          "metadata": {},
          "execution_count": 60
        }
      ]
    },
    {
      "cell_type": "code",
      "source": [
        "len(X_token[0]) , len(X_pad[0])"
      ],
      "metadata": {
        "colab": {
          "base_uri": "https://localhost:8080/"
        },
        "id": "8wywXTOpSl7x",
        "outputId": "ffe8ac99-03f5-4994-bd8f-43332df33c6c"
      },
      "execution_count": 61,
      "outputs": [
        {
          "output_type": "execute_result",
          "data": {
            "text/plain": [
              "(258, 300)"
            ]
          },
          "metadata": {},
          "execution_count": 61
        }
      ]
    },
    {
      "cell_type": "code",
      "source": [
        "unique, counts = np.unique(X_pad[0] , return_counts=True)\n",
        "padded_zeros = dict(zip(unique, counts))[0]"
      ],
      "metadata": {
        "id": "v0TV93VISyoy"
      },
      "execution_count": 62,
      "outputs": []
    },
    {
      "cell_type": "code",
      "source": [
        "len(X_pad[0]) - len(X_token[0]) "
      ],
      "metadata": {
        "colab": {
          "base_uri": "https://localhost:8080/"
        },
        "id": "X3lE7g9qTl-8",
        "outputId": "ca2a65e2-c8b9-4b23-b262-edbc71e9f22e"
      },
      "execution_count": 63,
      "outputs": [
        {
          "output_type": "execute_result",
          "data": {
            "text/plain": [
              "42"
            ]
          },
          "metadata": {},
          "execution_count": 63
        }
      ]
    },
    {
      "cell_type": "code",
      "source": [
        "from tensorflow.keras import Sequential\n",
        "from tensorflow.keras.layers import Embedding, Bidirectional, Dense, LSTM\n",
        "\n",
        "embedding_dim = 8\n",
        "\n",
        "model = Sequential(name = \"bidirectional_lstm\")\n",
        "model.add(Embedding(\n",
        "    input_dim = vocab_size,\n",
        "    output_dim = embedding_dim, \n",
        "    input_length= maxlen\n",
        "))\n",
        "\n",
        "model.add(Bidirectional(LSTM(128, return_sequences = True)))\n",
        "model.add(Bidirectional(LSTM(128)))\n",
        "model.add(Dense(10,activation = 'softmax'))\n",
        "model.compile(optimizer = \"adam\",\n",
        "              loss = \"categorical_crossentropy\",\n",
        "              metrics = ['accuracy'])\n",
        "model.summary()\n"
      ],
      "metadata": {
        "colab": {
          "base_uri": "https://localhost:8080/"
        },
        "id": "nz1KTGoLUPDn",
        "outputId": "eb0b2459-a51f-48fe-b5e8-615442991b7d"
      },
      "execution_count": 64,
      "outputs": [
        {
          "output_type": "stream",
          "name": "stdout",
          "text": [
            "Model: \"bidirectional_lstm\"\n",
            "_________________________________________________________________\n",
            " Layer (type)                Output Shape              Param #   \n",
            "=================================================================\n",
            " embedding (Embedding)       (None, 300, 8)            19978848  \n",
            "                                                                 \n",
            " bidirectional (Bidirectiona  (None, 300, 256)         140288    \n",
            " l)                                                              \n",
            "                                                                 \n",
            " bidirectional_1 (Bidirectio  (None, 256)              394240    \n",
            " nal)                                                            \n",
            "                                                                 \n",
            " dense (Dense)               (None, 10)                2570      \n",
            "                                                                 \n",
            "=================================================================\n",
            "Total params: 20,515,946\n",
            "Trainable params: 20,515,946\n",
            "Non-trainable params: 0\n",
            "_________________________________________________________________\n"
          ]
        }
      ]
    },
    {
      "cell_type": "code",
      "source": [
        "from sklearn.model_selection import StratifiedShuffleSplit\n",
        "\n",
        "sss = StratifiedShuffleSplit(n_splits = 2, test_size=0.3, random_state=42)\n",
        "sss.get_n_splits(X_pad, y_ohe)\n"
      ],
      "metadata": {
        "id": "WNCTDv_hW-o8",
        "colab": {
          "base_uri": "https://localhost:8080/"
        },
        "outputId": "490d056c-d327-4eb4-b955-f4c7742f71c7"
      },
      "execution_count": 65,
      "outputs": [
        {
          "output_type": "execute_result",
          "data": {
            "text/plain": [
              "2"
            ]
          },
          "metadata": {},
          "execution_count": 65
        }
      ]
    },
    {
      "cell_type": "code",
      "source": [
        "for train_index, test_index in sss.split(X_pad, y_ohe):\n",
        "    X_train, X_test = X_pad[train_index], X_pad[test_index]\n",
        "    y_train, y_test = y_ohe[train_index], y_ohe[test_index]"
      ],
      "metadata": {
        "id": "t1Fn6u3MiD2e"
      },
      "execution_count": 66,
      "outputs": []
    },
    {
      "cell_type": "code",
      "source": [
        "# history = model.fit(X_train, y_train,\n",
        "#                     epochs=10,\n",
        "#                     verbose=1,\n",
        "#                     validation_split=0.2,\n",
        "#                     batch_size=32\n",
        "#                    )"
      ],
      "metadata": {
        "id": "pNmkL8_Nio-U"
      },
      "execution_count": 67,
      "outputs": []
    },
    {
      "cell_type": "code",
      "source": [
        "bi_lstm_history = model.fit(X_train, y_train,\n",
        "                    epochs=5,\n",
        "                    verbose=1,\n",
        "                    validation_split=0.2,\n",
        "                    batch_size=64\n",
        "                   )"
      ],
      "metadata": {
        "colab": {
          "base_uri": "https://localhost:8080/"
        },
        "id": "rWZJ5Wrl9dsB",
        "outputId": "3793761e-fd6d-4524-c487-ea43e5b4a585"
      },
      "execution_count": 68,
      "outputs": [
        {
          "output_type": "stream",
          "name": "stdout",
          "text": [
            "Epoch 1/5\n",
            "3639/3639 [==============================] - 330s 87ms/step - loss: 0.6818 - accuracy: 0.7927 - val_loss: 0.3628 - val_accuracy: 0.8875\n",
            "Epoch 2/5\n",
            "3639/3639 [==============================] - 320s 88ms/step - loss: 0.3121 - accuracy: 0.9050 - val_loss: 0.2665 - val_accuracy: 0.9191\n",
            "Epoch 3/5\n",
            "3639/3639 [==============================] - 321s 88ms/step - loss: 0.1451 - accuracy: 0.9558 - val_loss: 0.2445 - val_accuracy: 0.9274\n",
            "Epoch 4/5\n",
            "3639/3639 [==============================] - 321s 88ms/step - loss: 0.0731 - accuracy: 0.9776 - val_loss: 0.2586 - val_accuracy: 0.9283\n",
            "Epoch 5/5\n",
            "3639/3639 [==============================] - 320s 88ms/step - loss: 0.0386 - accuracy: 0.9883 - val_loss: 0.3335 - val_accuracy: 0.9187\n"
          ]
        }
      ]
    },
    {
      "cell_type": "code",
      "source": [
        "bi_lstm_history.params"
      ],
      "metadata": {
        "colab": {
          "base_uri": "https://localhost:8080/"
        },
        "id": "-6qn-f-W5jAn",
        "outputId": "92e2b2e4-84a7-4b45-e0f1-173230d2d2b5"
      },
      "execution_count": 69,
      "outputs": [
        {
          "output_type": "execute_result",
          "data": {
            "text/plain": [
              "{'epochs': 5, 'steps': 3639, 'verbose': 1}"
            ]
          },
          "metadata": {},
          "execution_count": 69
        }
      ]
    },
    {
      "cell_type": "code",
      "source": [
        "bi_lstm_history.history.keys()"
      ],
      "metadata": {
        "colab": {
          "base_uri": "https://localhost:8080/"
        },
        "id": "gWJAh8uZ5tO2",
        "outputId": "6d3e0c1b-1748-4a85-d2b3-674f15d74dff"
      },
      "execution_count": 70,
      "outputs": [
        {
          "output_type": "execute_result",
          "data": {
            "text/plain": [
              "dict_keys(['loss', 'accuracy', 'val_loss', 'val_accuracy'])"
            ]
          },
          "metadata": {},
          "execution_count": 70
        }
      ]
    },
    {
      "cell_type": "code",
      "source": [
        "import matplotlib.pyplot as plt\n",
        "\n",
        "plt.plot(bi_lstm_history.history['accuracy'])\n",
        "plt.plot(bi_lstm_history.history['val_accuracy'])\n",
        "plt.legend(['train', 'valid'])\n",
        "plt.show()\n"
      ],
      "metadata": {
        "colab": {
          "base_uri": "https://localhost:8080/",
          "height": 265
        },
        "id": "1PJDhPGe6Xwm",
        "outputId": "5674a4a5-2145-4872-8c6d-3d9e7380f5e3"
      },
      "execution_count": 71,
      "outputs": [
        {
          "output_type": "display_data",
          "data": {
            "image/png": "[encoded data removed]",
            "text/plain": [
              "<Figure size 432x288 with 1 Axes>"
            ]
          },
          "metadata": {
            "needs_background": "light"
          }
        }
      ]
    },
    {
      "cell_type": "code",
      "source": [
        "plt.plot(bi_lstm_history.history['loss'])\n",
        "plt.plot(bi_lstm_history.history['val_loss'])\n",
        "plt.legend(['train', 'valid'])\n",
        "plt.show()"
      ],
      "metadata": {
        "colab": {
          "base_uri": "https://localhost:8080/",
          "height": 265
        },
        "id": "-QNB-y0G6p8L",
        "outputId": "8e0bfd3b-1bad-496e-a812-92a5888b1673"
      },
      "execution_count": 72,
      "outputs": [
        {
          "output_type": "display_data",
          "data": {
            "image/png": "[encoded data removed]",
            "text/plain": [
              "<Figure size 432x288 with 1 Axes>"
            ]
          },
          "metadata": {
            "needs_background": "light"
          }
        }
      ]
    },
    {
      "cell_type": "code",
      "source": [
        "# mount gdrive\n",
        "saving_dir = \"drive/MyDrive/DL_models/bangla-news-rnn/\""
      ],
      "metadata": {
        "id": "IA_7NbtW8mtq"
      },
      "execution_count": 73,
      "outputs": []
    },
    {
      "cell_type": "code",
      "source": [
        "model_save_name = \"bi-lstm-overfitted.h5\"\n",
        "\n",
        "saving_path =saving_dir+model_save_name\n",
        "saving_path"
      ],
      "metadata": {
        "colab": {
          "base_uri": "https://localhost:8080/",
          "height": 36
        },
        "id": "bF89ad1H8pnZ",
        "outputId": "e583d54d-a260-461e-8f6e-c31ea7dc9193"
      },
      "execution_count": 74,
      "outputs": [
        {
          "output_type": "execute_result",
          "data": {
            "application/vnd.google.colaboratory.intrinsic+json": {
              "type": "string"
            },
            "text/plain": [
              "'drive/MyDrive/DL_models/bangla-news-rnn/bi-lstm-overfitted.h5'"
            ]
          },
          "metadata": {},
          "execution_count": 74
        }
      ]
    },
    {
      "cell_type": "code",
      "source": [
        "model.save(saving_path)"
      ],
      "metadata": {
        "id": "pLesbWKe9XOi"
      },
      "execution_count": 75,
      "outputs": []
    }
  ]
}